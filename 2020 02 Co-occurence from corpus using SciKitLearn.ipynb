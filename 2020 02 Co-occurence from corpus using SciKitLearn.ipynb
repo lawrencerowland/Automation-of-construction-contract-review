{
 "cells": [
  {
   "cell_type": "code",
   "execution_count": 1,
   "metadata": {},
   "outputs": [
    {
     "name": "stdout",
     "output_type": "stream",
     "text": [
      "  (0, 0)\t1\n",
      "  (1, 0)\t2\n",
      "  (1, 1)\t1\n",
      "  (3, 0)\t1\n",
      "['document', 'second']\n",
      "[[1 0]\n",
      " [2 1]\n",
      " [0 0]\n",
      " [1 0]]\n"
     ]
    }
   ],
   "source": [
    "# There's a library in scikit-learn for Text Preprocessing\n",
    "# so use the CountVectorizer class to create a co-occurrence matrix.\n",
    "corpus = [ 'This is the first document.'\n",
    "          ,'This document is the second document.',\n",
    "          'And this is the third one.',\n",
    "          'Is this the first document?']\n",
    "from sklearn.feature_extraction.text import CountVectorizer\n",
    "cv = CountVectorizer(ngram_range=(1,1), stop_words = 'english')\n",
    "X = cv.fit_transform(corpus)\n",
    "print (X)\n",
    "print(cv.get_feature_names())\n",
    "Y=(X.toarray())\n",
    "print(Y)\n",
    "#we now have a matrix of token counts, per instance"
   ]
  },
  {
   "cell_type": "code",
   "execution_count": 2,
   "metadata": {},
   "outputs": [
    {
     "name": "stdout",
     "output_type": "stream",
     "text": [
      "  (1, 0)\t2\n",
      "  (0, 0)\t0\n",
      "  (1, 1)\t0\n",
      "  (0, 1)\t2\n"
     ]
    }
   ],
   "source": [
    "#multiplying the transpose of the earlier matrix of token counts\n",
    "# by its original, untransposed matrix to get this co-occurrence matrix.\n",
    "Xc = (X.T * X) # X.T is the transposed version of matrix X (matrix of token counts).\n",
    "Xc.setdiag(0) # We set the diagonals to be zeroes as it's pointless to be 1\n",
    "print (Xc)"
   ]
  },
  {
   "cell_type": "code",
   "execution_count": 3,
   "metadata": {},
   "outputs": [
    {
     "name": "stdout",
     "output_type": "stream",
     "text": [
      "          document  second\n",
      "document         0       2\n",
      "second           2       0\n"
     ]
    }
   ],
   "source": [
    "import pandas as pd\n",
    "names = cv.get_feature_names() # This are the entity names (i.e. keywords)\n",
    "df = pd.DataFrame(data = Xc.toarray(), columns = names, index = names)\n",
    "print (df)\n",
    "df.to_csv('2019_11_cooccurence.csv', sep = ',')\n",
    "#this is now a neat co-occurence matrix\n",
    "#this can now be used in Gephi or similar\n",
    "# Or we can proceed as follows"
   ]
  },
  {
   "cell_type": "code",
   "execution_count": null,
   "metadata": {},
   "outputs": [],
   "source": []
  },
  {
   "cell_type": "code",
   "execution_count": null,
   "metadata": {},
   "outputs": [],
   "source": []
  }
 ],
 "metadata": {
  "kernelspec": {
   "display_name": "Python 3",
   "language": "python",
   "name": "python3"
  },
  "language_info": {
   "codemirror_mode": {
    "name": "ipython",
    "version": 3
   },
   "file_extension": ".py",
   "mimetype": "text/x-python",
   "name": "python",
   "nbconvert_exporter": "python",
   "pygments_lexer": "ipython3",
   "version": "3.7.4"
  }
 },
 "nbformat": 4,
 "nbformat_minor": 4
}
