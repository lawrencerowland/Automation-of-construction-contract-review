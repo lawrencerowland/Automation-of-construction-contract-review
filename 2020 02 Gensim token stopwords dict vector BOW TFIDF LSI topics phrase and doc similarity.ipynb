{
 "cells": [
  {
   "cell_type": "code",
   "execution_count": 5,
   "metadata": {
    "colab": {},
    "colab_type": "code",
    "id": "Mhd0ihUkB8_v"
   },
   "outputs": [],
   "source": [
    "documents = [\"(1) The Accepted Programme is the programme identified in the Contract Data or is the latest programme accepted by the Project Manager. The latest programme accepted by the Project Manager supersedes previous Accepted Programmes.\",\n",
    "             \"(2) Completion is when the Contractor has done all the work which the Works Information states he is to do by the Completion Date and corrected notified Defects which would have prevented the Employer from using the works and Others from doing their work. If the work which the Contractor is to do by the Completion Date is not stated in the Works Information, Completion is when the Contractor has done all the work necessary for the Employer to use the works and for Others to do their work.\",\n",
    "             \"(3) The Completion Date is the completion date unless later changed in accordance with this contract.\"]"
   ]
  },
  {
   "cell_type": "code",
   "execution_count": 2,
   "metadata": {
    "colab": {},
    "colab_type": "code",
    "id": "qXGEMZBTC-By"
   },
   "outputs": [],
   "source": [
    "#from Tutorial 1: Corpora and Vector Spaces¶\n",
    "from gensim import corpora, models, similarities"
   ]
  },
  {
   "cell_type": "code",
   "execution_count": null,
   "metadata": {
    "colab": {
     "base_uri": "https://localhost:8080/",
     "height": 170
    },
    "colab_type": "code",
    "executionInfo": {
     "elapsed": 613,
     "status": "ok",
     "timestamp": 1568653448822,
     "user": {
      "displayName": "L Rowla",
      "photoUrl": "",
      "userId": "15048649825657049484"
     },
     "user_tz": -60
    },
    "id": "xFx1X320DGZz",
    "outputId": "6af911a1-e479-4179-9ac9-d3db6f9c765f"
   },
   "outputs": [],
   "source": [
    "# remove common words and tokenize\n",
    "stoplist = set('for a of the and to in'.split())\n",
    "texts = [[word for word in document.lower().split() if word not in stoplist]\n",
    "         for document in documents]\n",
    "\n",
    "# remove words that appear only once\n",
    "from collections import defaultdict\n",
    "frequency = defaultdict(int)\n",
    "for text in texts:\n",
    "    for token in text:\n",
    "        frequency[token] += 1\n",
    "\n",
    "texts = [[token for token in text if frequency[token] > 1] for text in texts]\n",
    "\n",
    "from pprint import pprint  # pretty-printer\n",
    "pprint(texts)"
   ]
  },
  {
   "cell_type": "code",
   "execution_count": null,
   "metadata": {
    "colab": {
     "base_uri": "https://localhost:8080/",
     "height": 71
    },
    "colab_type": "code",
    "executionInfo": {
     "elapsed": 723,
     "status": "ok",
     "timestamp": 1568653453472,
     "user": {
      "displayName": "L Rowla",
      "photoUrl": "",
      "userId": "15048649825657049484"
     },
     "user_tz": -60
    },
    "id": "LIIBcrdFDxBC",
    "outputId": "ae3d7b74-ac7f-472a-bfed-8b46c9a0b7c8"
   },
   "outputs": [],
   "source": [
    "#create dictionary, then map from ids to dictionary\n",
    "dictionary = corpora.Dictionary(texts)\n",
    "print(dictionary)\n",
    "print(dictionary.token2id)"
   ]
  },
  {
   "cell_type": "code",
   "execution_count": 8,
   "metadata": {
    "colab": {
     "base_uri": "https://localhost:8080/",
     "height": 34
    },
    "colab_type": "code",
    "executionInfo": {
     "elapsed": 567,
     "status": "ok",
     "timestamp": 1568653470090,
     "user": {
      "displayName": "L Rowla",
      "photoUrl": "",
      "userId": "15048649825657049484"
     },
     "user_tz": -60
    },
    "id": "edkkp06LEStX",
    "outputId": "c8f09fa2-c619-40d6-f7cc-65485e6e9abd"
   },
   "outputs": [
    {
     "name": "stdout",
     "output_type": "stream",
     "text": [
      "[(2, 1), (9, 2), (17, 1)]\n"
     ]
    }
   ],
   "source": [
    "#convert tokenized documents to vector\n",
    "new_doc = \"The Contract Date is the date when this contract came into existence.\"\n",
    "new_vec = dictionary.doc2bow(new_doc.lower().split())\n",
    "print(new_vec)  # only those words that match up are given a dimension"
   ]
  },
  {
   "cell_type": "code",
   "execution_count": 9,
   "metadata": {
    "colab": {
     "base_uri": "https://localhost:8080/",
     "height": 170
    },
    "colab_type": "code",
    "executionInfo": {
     "elapsed": 1556,
     "status": "ok",
     "timestamp": 1568653474970,
     "user": {
      "displayName": "L Rowla",
      "photoUrl": "",
      "userId": "15048649825657049484"
     },
     "user_tz": -60
    },
    "id": "v7hAlNSTFQ0h",
    "outputId": "40bc348a-062a-45a0-c00c-b469788d7ecb"
   },
   "outputs": [
    {
     "name": "stdout",
     "output_type": "stream",
     "text": [
      "[(0, 4), (1, 2), (2, 2), (3, 2), (4, 4), (5, 2)]\n",
      "[(1, 2), (2, 5), (6, 2), (7, 4), (8, 3), (9, 2), (10, 3), (11, 2), (12, 2), (13, 2), (14, 2), (15, 2), (16, 2), (17, 2), (18, 3), (19, 3), (20, 2), (21, 4)]\n",
      "[(2, 1), (7, 2), (9, 2)]\n"
     ]
    }
   ],
   "source": [
    "corpus = [dictionary.doc2bow(text) for text in texts]\n",
    "for c in corpus:\n",
    "    print(c)"
   ]
  },
  {
   "cell_type": "markdown",
   "metadata": {
    "colab_type": "text",
    "id": "QOC349GyGI8h"
   },
   "source": [
    "From Quick start tutorial. \n",
    "Now that we have vectorized our corpus we can begin to transform it using models. We use model as an abstract term referring to a transformation from one document representation to another. In gensim documents are represented as vectors so a model can be thought of as a transformation between two vector spaces. The details of this transformation are learned from the training corpus.\n",
    "One simple example of a model is tf-idf. The tf-idf model transforms vectors from the bag-of-words representation to a vector space where the frequency counts are weighted according to the relative rarity of each word in the corpus.\n",
    "Let's initialize the tf-idf model, training it on our corpus and transforming the string \"Contract date\":"
   ]
  },
  {
   "cell_type": "code",
   "execution_count": 11,
   "metadata": {
    "colab": {
     "base_uri": "https://localhost:8080/",
     "height": 34
    },
    "colab_type": "code",
    "executionInfo": {
     "elapsed": 789,
     "status": "ok",
     "timestamp": 1568653478695,
     "user": {
      "displayName": "L Rowla",
      "photoUrl": "",
      "userId": "15048649825657049484"
     },
     "user_tz": -60
    },
    "id": "JvArResvGbB-",
    "outputId": "8da7e18f-5a1c-492e-d486-36c03548e0a9"
   },
   "outputs": [
    {
     "data": {
      "text/plain": [
       "[(9, 1.0)]"
      ]
     },
     "execution_count": 11,
     "metadata": {},
     "output_type": "execute_result"
    }
   ],
   "source": [
    "from gensim import models\n",
    "# train the model\n",
    "tfidf = models.TfidfModel(corpus)\n",
    "# transform the \"Contract date\" string\n",
    "tfidf[dictionary.doc2bow(\"Contract date\".lower().split())]\n"
   ]
  },
  {
   "cell_type": "code",
   "execution_count": 12,
   "metadata": {
    "colab": {
     "base_uri": "https://localhost:8080/",
     "height": 190
    },
    "colab_type": "code",
    "executionInfo": {
     "elapsed": 608,
     "status": "ok",
     "timestamp": 1568653547164,
     "user": {
      "displayName": "L Rowla",
      "photoUrl": "",
      "userId": "15048649825657049484"
     },
     "user_tz": -60
    },
    "id": "aBdFWHpGHp3R",
    "outputId": "4a9f4a6c-f7c6-418e-b350-11332afd3f72"
   },
   "outputs": [
    {
     "name": "stdout",
     "output_type": "stream",
     "text": [
      "[(0, 0.6281916145233933), (1, 0.11592341698824639), (3, 0.31409580726169667), (4, 0.6281916145233933), (5, 0.31409580726169667)]\n",
      "[(1, 0.07726398907993715), (6, 0.2093476508269452), (7, 0.1545279781598743), (8, 0.3140214762404178), (9, 0.07726398907993715), (10, 0.3140214762404178), (11, 0.2093476508269452), (12, 0.2093476508269452), (13, 0.2093476508269452), (14, 0.2093476508269452), (15, 0.2093476508269452), (16, 0.2093476508269452), (17, 0.2093476508269452), (18, 0.3140214762404178), (19, 0.3140214762404178), (20, 0.2093476508269452), (21, 0.4186953016538904)]\n",
      "[(7, 0.7071067811865476), (9, 0.7071067811865476)]\n"
     ]
    }
   ],
   "source": [
    "#now moved onto Topic and Transformations tutorial\n",
    "#apply tfidf to the trained corpus\n",
    "corpus_tfidf = tfidf[corpus]\n",
    "for doc in corpus_tfidf:\n",
    "    print(doc)"
   ]
  },
  {
   "cell_type": "code",
   "execution_count": null,
   "metadata": {
    "colab": {},
    "colab_type": "code",
    "id": "3n30_BCFJo0z"
   },
   "outputs": [],
   "source": [
    "#OPTIONAL\n",
    "#this model can now be applied to another corpus other than the training one, not just individaul documents\n",
    "#i have not pulled in a second corpus but this is how you would do it. Note you pull in a corpus (processed as above), not just docs. \n",
    "corpus2nd_tfidf = tfidf[corpus2nd]\n",
    "for doc in corpus2nd_tfidf:\n",
    "    print(doc)"
   ]
  },
  {
   "cell_type": "code",
   "execution_count": 15,
   "metadata": {
    "colab": {},
    "colab_type": "code",
    "id": "HiLSWeUzIRme"
   },
   "outputs": [],
   "source": [
    "#now applying an LSI to the first corpus, by working on top of its representation as a TFIDF\n",
    "# here we have created a two dim LSI space, like Deerwesters 1990 example\n",
    "lsi = models.LsiModel(corpus_tfidf, id2word=dictionary, num_topics=2) # initialize an LSI transformation\n",
    "corpus_lsi = lsi[corpus_tfidf] # create a double wrapper over the original corpus: bow->tfidf->fold-in-lsi\n"
   ]
  },
  {
   "cell_type": "code",
   "execution_count": 16,
   "metadata": {
    "colab": {
     "base_uri": "https://localhost:8080/",
     "height": 105
    },
    "colab_type": "code",
    "executionInfo": {
     "elapsed": 638,
     "status": "ok",
     "timestamp": 1568653553799,
     "user": {
      "displayName": "L Rowla",
      "photoUrl": "",
      "userId": "15048649825657049484"
     },
     "user_tz": -60
    },
    "id": "LRbZaYnVKKWH",
    "outputId": "e5eee90c-2f39-4fd7-911a-c376d92731ab"
   },
   "outputs": [
    {
     "data": {
      "text/plain": [
       "[(0,\n",
       "  '-0.564*\"completion\" + -0.513*\"date\" + -0.274*\"works\" + -0.206*\"work\" + -0.206*\"which\" + -0.206*\"do\" + -0.206*\"contractor\" + -0.137*\"employer\" + -0.137*\"when\" + -0.137*\"their\"'),\n",
       " (1,\n",
       "  '-0.627*\"accepted\" + -0.627*\"programme\" + -0.314*\"project\" + -0.314*\"latest\" + -0.116*\"by\" + 0.039*\"date\" + 0.039*\"completion\" + -0.000*\"works\" + -0.000*\"do\" + -0.000*\"contractor\"')]"
      ]
     },
     "execution_count": 16,
     "metadata": {},
     "output_type": "execute_result"
    }
   ],
   "source": [
    "#inspect the topics\n",
    "lsi.print_topics(2)\n"
   ]
  },
  {
   "cell_type": "code",
   "execution_count": 17,
   "metadata": {
    "colab": {
     "base_uri": "https://localhost:8080/",
     "height": 170
    },
    "colab_type": "code",
    "executionInfo": {
     "elapsed": 1667,
     "status": "ok",
     "timestamp": 1568653560691,
     "user": {
      "displayName": "L Rowla",
      "photoUrl": "",
      "userId": "15048649825657049484"
     },
     "user_tz": -60
    },
    "id": "d0p_ubMfK0Ac",
    "outputId": "cb11f426-cb28-4b5c-8d15-ed68ea78ca7c"
   },
   "outputs": [
    {
     "name": "stdout",
     "output_type": "stream",
     "text": [
      "[(0, -0.04162997881084487), (1, -0.9985101982664886)]\n",
      "[(0, -0.7629371590041821)]\n",
      "[(0, -0.7618005339021363), (1, 0.054565409902413764)]\n"
     ]
    }
   ],
   "source": [
    "#higher number per topic indicates more close to that topic\n",
    "for doc in corpus_lsi: # both bow->tfidf and tfidf->lsi transformations are actually executed here, on the fly\n",
    "    print(doc)"
   ]
  },
  {
   "cell_type": "markdown",
   "metadata": {
    "colab_type": "text",
    "id": "qN0SdoCTLuGW"
   },
   "source": [
    "moved onto Similarity search tutorial.\n",
    "Now suppose a user typed in the query “Human computer interaction”. We would like to sort our corpus documents in decreasing order of relevance to this query. Unlike modern search engines, here we only concentrate on a single aspect of possible similarities—on apparent semantic relatedness of their texts (words). No hyperlinks, no random-walk static ranks, just a semantic extension over the boolean keyword match:"
   ]
  },
  {
   "cell_type": "code",
   "execution_count": 18,
   "metadata": {
    "colab": {
     "base_uri": "https://localhost:8080/",
     "height": 34
    },
    "colab_type": "code",
    "executionInfo": {
     "elapsed": 1490,
     "status": "ok",
     "timestamp": 1568654200060,
     "user": {
      "displayName": "L Rowla",
      "photoUrl": "",
      "userId": "15048649825657049484"
     },
     "user_tz": -60
    },
    "id": "8eyzpIWYMKNV",
    "outputId": "c648072e-09f3-4e34-92e2-b242f0d722d6"
   },
   "outputs": [
    {
     "name": "stdout",
     "output_type": "stream",
     "text": [
      "[(0, -1.077348646867466), (1, 0.07716714272044073)]\n"
     ]
    }
   ],
   "source": [
    "doc = \"completion date\"\n",
    "vec_bow = dictionary.doc2bow(doc.lower().split())\n",
    "vec_lsi = lsi[vec_bow] # convert the query to LSI space\n",
    "print(vec_lsi)"
   ]
  },
  {
   "cell_type": "markdown",
   "metadata": {
    "colab_type": "text",
    "id": "x_KtmBfDMbKu"
   },
   "source": [
    "In addition, we will be considering cosine similarity to determine the similarity of two vectors. Cosine similarity is a standard measure in Vector Space Modeling, but wherever the vectors represent probability distributions, different similarity measures may be more appropriate.\n",
    "\n",
    "\n",
    "To prepare for similarity queries, we need to enter all documents which we want to compare against subsequent queries. In our case, they are the same nine documents used for training LSI, converted to 2-D LSA space. But that’s only incidental, we might also be indexing a different corpus altogether."
   ]
  },
  {
   "cell_type": "code",
   "execution_count": 19,
   "metadata": {
    "colab": {
     "base_uri": "https://localhost:8080/",
     "height": 71
    },
    "colab_type": "code",
    "executionInfo": {
     "elapsed": 585,
     "status": "ok",
     "timestamp": 1568654400328,
     "user": {
      "displayName": "L Rowla",
      "photoUrl": "",
      "userId": "15048649825657049484"
     },
     "user_tz": -60
    },
    "id": "FxRfV8olMcV1",
    "outputId": "9356facf-463b-4404-e68f-9b3b022e56b5"
   },
   "outputs": [],
   "source": [
    "index = similarities.MatrixSimilarity(lsi[corpus]) # transform corpus to LSI space and index it"
   ]
  },
  {
   "cell_type": "code",
   "execution_count": 20,
   "metadata": {
    "colab": {
     "base_uri": "https://localhost:8080/",
     "height": 54
    },
    "colab_type": "code",
    "executionInfo": {
     "elapsed": 566,
     "status": "ok",
     "timestamp": 1568654402909,
     "user": {
      "displayName": "L Rowla",
      "photoUrl": "",
      "userId": "15048649825657049484"
     },
     "user_tz": -60
    },
    "id": "gOzX_canQo8R",
    "outputId": "d6465781-a2cd-4baa-a360-a35bfd2bb581"
   },
   "outputs": [
    {
     "name": "stdout",
     "output_type": "stream",
     "text": [
      "[(0, -0.020164568), (1, 0.9974446), (2, 1.0)]\n"
     ]
    }
   ],
   "source": [
    "sims = index[vec_lsi] # perform a similarity query against the corpus\n",
    "print(list(enumerate(sims))) # print (document_number, document_similarity) 2-tuples"
   ]
  },
  {
   "cell_type": "markdown",
   "metadata": {
    "colab_type": "text",
    "id": "uEIh_zFzQ22O"
   },
   "source": [
    "Cosine measure returns similarities in the range <-1, 1> (the greater, the more similar), so that the first document has a score of 0.99809301 etc.\n",
    "\n",
    "With some standard Python magic we sort these similarities into descending order, and obtain the final answer to the query “Human computer interaction”:"
   ]
  },
  {
   "cell_type": "code",
   "execution_count": 21,
   "metadata": {
    "colab": {
     "base_uri": "https://localhost:8080/",
     "height": 54
    },
    "colab_type": "code",
    "executionInfo": {
     "elapsed": 1704,
     "status": "ok",
     "timestamp": 1568654408334,
     "user": {
      "displayName": "L Rowla",
      "photoUrl": "",
      "userId": "15048649825657049484"
     },
     "user_tz": -60
    },
    "id": "Gn7TuJEzQ59q",
    "outputId": "dbff4252-b4a4-4d6b-f5ed-b91e8b50eb43"
   },
   "outputs": [
    {
     "name": "stdout",
     "output_type": "stream",
     "text": [
      "[(2, 1.0), (1, 0.9974446), (0, -0.020164568)]\n"
     ]
    }
   ],
   "source": [
    "sims = sorted(enumerate(sims), key=lambda item: -item[1])\n",
    "print(sims) # print sorted (document number, similarity score) 2-tuples"
   ]
  },
  {
   "cell_type": "code",
   "execution_count": 22,
   "metadata": {
    "colab": {
     "base_uri": "https://localhost:8080/",
     "height": 34
    },
    "colab_type": "code",
    "executionInfo": {
     "elapsed": 1216,
     "status": "ok",
     "timestamp": 1568654442653,
     "user": {
      "displayName": "L Rowla",
      "photoUrl": "",
      "userId": "15048649825657049484"
     },
     "user_tz": -60
    },
    "id": "o0Lwpdq3RRse",
    "outputId": "f557a8ca-1757-4ce0-ecf3-4f7cfbf85632"
   },
   "outputs": [
    {
     "name": "stdout",
     "output_type": "stream",
     "text": [
      "(3) The Completion Date is the completion date unless later changed in accordance with this contract.\n"
     ]
    }
   ],
   "source": [
    "print (documents[2])"
   ]
  },
  {
   "cell_type": "code",
   "execution_count": 23,
   "metadata": {
    "colab": {
     "base_uri": "https://localhost:8080/",
     "height": 139
    },
    "colab_type": "code",
    "executionInfo": {
     "elapsed": 614,
     "status": "ok",
     "timestamp": 1568654515915,
     "user": {
      "displayName": "L Rowla",
      "photoUrl": "",
      "userId": "15048649825657049484"
     },
     "user_tz": -60
    },
    "id": "oe0hAqZ4WPxE",
    "outputId": "88aa02b2-cdd9-4046-a572-dd6a42e325aa"
   },
   "outputs": [
    {
     "name": "stdout",
     "output_type": "stream",
     "text": [
      "[(0, -0.6183043), (1, 0.005520038), (2, 0.0)]\n",
      "\n",
      "\n",
      "[(1, 0.005520038), (2, 0.0), (0, -0.6183043)]\n"
     ]
    }
   ],
   "source": [
    "#now trying the same thing with tfidf only. Not sure if I have created index properly\n",
    "index = similarities.MatrixSimilarity(corpus_tfidf)\n",
    "sims = index[vec_lsi] \n",
    "print(list(enumerate(sims)))\n",
    "sims = sorted(enumerate(sims), key=lambda item: -item[1])\n",
    "print (\"\\n\")\n",
    "print (sims)\n"
   ]
  },
  {
   "cell_type": "code",
   "execution_count": 24,
   "metadata": {
    "colab": {
     "base_uri": "https://localhost:8080/",
     "height": 34
    },
    "colab_type": "code",
    "executionInfo": {
     "elapsed": 593,
     "status": "ok",
     "timestamp": 1568654538229,
     "user": {
      "displayName": "L Rowla",
      "photoUrl": "",
      "userId": "15048649825657049484"
     },
     "user_tz": -60
    },
    "id": "A2ugexjeWqEV",
    "outputId": "74402e33-a400-4cc0-d5a8-7d34928a70bd"
   },
   "outputs": [
    {
     "name": "stdout",
     "output_type": "stream",
     "text": [
      "['(1) The Accepted Programme is the programme identified in the Contract Data or is the latest programme accepted by the Project Manager. The latest programme accepted by the Project Manager supersedes previous Accepted Programmes.', '(2) Completion is when the Contractor has done all the work which the Works Information states he is to do by the Completion Date and corrected notified Defects which would have prevented the Employer from using the works and Others from doing their work. If the work which the Contractor is to do by the Completion Date is not stated in the Works Information, Completion is when the Contractor has done all the work necessary for the Employer to use the works and for Others to do their work.']\n"
     ]
    }
   ],
   "source": [
    "print (documents[0:2])"
   ]
  },
  {
   "cell_type": "code",
   "execution_count": null,
   "metadata": {},
   "outputs": [],
   "source": []
  }
 ],
 "metadata": {
  "colab": {
   "collapsed_sections": [],
   "name": "2019_09_Gensim_similarity_replicate.ipynb",
   "provenance": [
    {
     "file_id": "1ip8nxqAR9rXY4c27bpPoiMGQiQuksWJp",
     "timestamp": 1568653259281
    }
   ],
   "version": "0.3.2"
  },
  "kernelspec": {
   "display_name": "Python 3",
   "language": "python",
   "name": "python3"
  },
  "language_info": {
   "codemirror_mode": {
    "name": "ipython",
    "version": 3
   },
   "file_extension": ".py",
   "mimetype": "text/x-python",
   "name": "python",
   "nbconvert_exporter": "python",
   "pygments_lexer": "ipython3",
   "version": "3.7.4"
  }
 },
 "nbformat": 4,
 "nbformat_minor": 4
}
