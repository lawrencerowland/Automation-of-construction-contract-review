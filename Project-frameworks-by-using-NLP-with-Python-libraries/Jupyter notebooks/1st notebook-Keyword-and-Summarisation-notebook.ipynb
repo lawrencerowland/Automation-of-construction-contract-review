{
 "cells": [
  {
   "cell_type": "code",
   "execution_count": null,
   "metadata": {},
   "outputs": [],
   "source": [
    "<img src=\"xx.png\" width=\"50%\">"
   ]
  },
  {
   "cell_type": "markdown",
   "metadata": {},
   "source": [
    "# 1st Notebook example: Keyword and Topic modelling"
   ]
  },
  {
   "cell_type": "markdown",
   "metadata": {},
   "source": [
    "**[Purpose](#Purpose)** | **[Motivation](#Motivation)** |**[Features](#Features)** |**[Prerequisites](#Prerequisites)** |**[Quick start](#Quick-start)** |**[How-to-use](#How-to-use)**|\n",
    "\n",
    "# Purpose \n",
    "\n",
    "**For any set of portfolio documents, automatically generate keywords and summaries per document, and generate a set of the main topics found. Accordingly, generate a data-model for the portfolio** \n",
    "\n",
    "\n",
    "# Motivation\n",
    "\n",
    "Projects have different business and function aspects. These notebooks can be used to run simple code on a set of pdf and text files that the user has collected for their particular business domain. \n",
    "\n",
    "Below is basic code that can be applied directly to  any portfolio documents. Here this code is worked through with an example of understanding the implications of the regulatory environment on project delivery in the nuclear sector.This can be replaced as the user generates her own results. \n",
    "\n",
    "For simplicity, this one starts from documents as text files and internet pages. Additional features can be sought in the other notebooks once first results have been generated for your portfolio documents. \n",
    "\n",
    "# Features\n",
    "- Summarises each document\n",
    "- finds keywords for each document\n",
    "- creates a similarity-search: for any new paragraph, it finds the most similar documents from the library\n",
    "- (propose a data-model for the portfolio, based upon these findings) ***(Status: incomplete)***\n",
    "\n",
    "# Prerequisites \n",
    "\n",
    "The following Python libraries are needed: Gensim, BS4. Also NLTK and SpaCy. Gensim requires NumPy and SciPy. NLTK requires Pandas.\n",
    "\n",
    "For example, if one chooses to do it in Conda:\n",
    "\n",
    "1. Install Miniconda\n",
    "\n",
    "1. Create GENSIM_ENV environment with an appropriate Python version\n",
    "\n",
    "1. Install Gensim dependencies. Currently these are NumPy then SciPy and then Gensim \n",
    "\n",
    "1. conda activate GENSIM_ENV . Then jupyter lab\n",
    "\n",
    "(one may need to also activate the Env again once in Jupyter lab)\n"
   ]
  },
  {
   "cell_type": "markdown",
   "metadata": {},
   "source": [
    "# Quick-start\n",
    "\n",
    "It is suggested to move straight down to **[How-to-use](#How-to-use)**| to get started.\n",
    "\n",
    "(Attributes and adjustments are included immediately below for ease of reference, but best consulted after using the notebook).\n",
    "\n",
    "The user can start from the markdown file (xx) showing and explaining the code, or can work through the notebook directly (xx). Some minor detail is hidden in the markdown file, but shown in the notebook.\n",
    "\n",
    "# Attributes\n",
    "\n",
    "- Uses GENSIM library\n",
    "- Starts from Text file rather than PDF\n",
    "- also starts from Internet page\n",
    "- creates corpus at Document level rather than paragraph level\n",
    "- for Topic model, starts from Bag of Words model, as an interim step only\n",
    "- It uses TFIDF model only as an interim step to LSI only\n",
    "- for similarity-search, it uses cosine similarity, based upon LSI model\n",
    "\n",
    "# Attributes you can find in the other notebooks\n",
    "- Using other libraries than Gensim\n",
    "- Starting from Text file\n",
    "- creates corpus at paragraph level\n",
    "- uses Bag of Words model to generate results directly for similarity search\n",
    "\n",
    "# Easy adjustments that can be made, but have not been shown\n",
    "- for Topic model, uses only Bag of Words model \n",
    "- for similarity-search, using cosine similarity, based upon TFIDF model\n",
    "- for topic model, uses methods other than LSI. "
   ]
  },
  {
   "cell_type": "markdown",
   "metadata": {},
   "source": [
    "# How-to-use\n",
    "\n",
    "## Installation\n",
    "\n",
    "First Check installation has been made, as per the [READme](https://github.com/lawrencerowland/Data-Model-for-Project-Frameworks/blob/master/Project-frameworks-by-using-NLP-with-Python-libraries/README.md)"
   ]
  },
  {
   "cell_type": "markdown",
   "metadata": {},
   "source": [
    "## Import Gensim"
   ]
  },
  {
   "cell_type": "code",
   "execution_count": 1,
   "metadata": {},
   "outputs": [
    {
     "name": "stderr",
     "output_type": "stream",
     "text": [
      "unable to import 'smart_open.gcs', disabling that module\n"
     ]
    }
   ],
   "source": [
    "import gensim\n",
    "from gensim.summarization import summarize\n",
    "from gensim.summarization import keywords\n",
    "from gensim.parsing.preprocessing import strip_multiple_whitespaces\n",
    "from gensim import corpora, models, similarities\n",
    "# Note that Smart_open.gcs may not import successfully depending on Gensim set up. This doesnt matter. "
   ]
  },
  {
   "cell_type": "markdown",
   "metadata": {},
   "source": [
    "## Change Directory to find the portfolio text files\n",
    "\n",
    "This outputs the names of the 16 text files."
   ]
  },
  {
   "cell_type": "code",
   "execution_count": 2,
   "metadata": {},
   "outputs": [
    {
     "name": "stdout",
     "output_type": "stream",
     "text": [
      "['.DS_Store', 'Commissioning of security systems and infrastructure cns-tast-gd-4.4 cns-tast-gd-4.4.pdf.txt', 'Construction Assurance ns-tast-gd-076.pdf.txt', 'Control of processes involving nuclear matter ns-tast-gd-023.pdf.txt', 'Decommissioning ns-tast-gd-026.txt', 'Design Safety Assurance ns-tast-gd-057.pdf.txt', 'Fundamental Principles ns-tast-gd-004.pdf.txt', 'Guidance on the Demonstration of ALARP ns-tast-gd-005.pdf.txt', 'Management of Radioactive material ns-tast-gd-024.pdf.txt', 'nuclear construction sites cns-tast-gd-6.6.pdf.txt', 'Organisational Change ns-tast-gd-048.pdf.txt', 'oversight of items or services cns-tast-gd-4.3.pdf.txt', 'Probabilistic Safety Analysis.pdf.txt', 'Procedure Design and Administrative Controls.pdf.txt', 'Procurement cns-tast-gd-4.1 cns-tast-gd-4.1.pdf.txt', 'Reliability and resilience of the security system cns-tast-gd-5.1 cns-tast-gd-5.1.pdf.txt', 'Supplier capability cns-tast-gd-4.2.pdf.txt']\n"
     ]
    }
   ],
   "source": [
    "import os\n",
    "directory = '/Users/lawrence/Documents/GitHub/Data-Model-for-Project-Frameworks/Project-frameworks-by-using-NLP-with-Python-libraries/Text-files-as-generated-by-PDF-Miner'\n",
    "print (os.listdir(directory))\n",
    "# Change directory location for your particular set-up. Or if you want to just re-run this nuclear example, then you just need to change the reference to the high-level directories\n",
    "# If a mac, can copy the directory location by opening the Inspector for the folder"
   ]
  },
  {
   "cell_type": "markdown",
   "metadata": {},
   "source": [
    "## Collect any Internet pages \n",
    "\n",
    "This is a (hidden) option. \n",
    "\n",
    "In order to compare the results with the Orange results, I have not run this block of code. \n",
    "\n",
    "In addition to the text files you have collected, there may be one or two internet pages which you want to add to the analysis. \n",
    "I have added this partly to show what happens when a document is added which is about the same subject, but comes at the subject from a very different angle. \n",
    "\n",
    "If you wish to collect many Internet pages, you will need to construct a loop.  You also will need to check how well the text is extracted from  particular sources, and consult the Python Requests module documentation if it needs adjustment. \n"
   ]
  },
  {
   "cell_type": "code",
   "execution_count": null,
   "metadata": {},
   "outputs": [],
   "source": [
    "#hide\n",
    "import requests\n",
    "text = requests.get('https://archive.org/stream/ProjectManagementForTheOilAndGasIndustry/ProjectManagementForTheOilAndGasIndustry_djvu.txt').text\n",
    "text=text[70000:300000] #here I have stripped the front text by inspection only.\n",
    "#text=strip_multiple_whitespaces(text)  #may wish to turn this off for readability\n",
    "filename=\"PM_guidance_for_Energy_Projects\"\n",
    "f= open(filename+\".txt\",\"w+\") \n",
    "f.write(filename+\"\\n\"+text)\n",
    "f.close()"
   ]
  },
  {
   "cell_type": "markdown",
   "metadata": {},
   "source": [
    "## Finding keywords from each document\n",
    "As seen in the outputs, for example, for the first document, keywords around security and commissioning are proposed. \n",
    "Adjust the ratio of keywords to total content size if required. "
   ]
  },
  {
   "cell_type": "code",
   "execution_count": 3,
   "metadata": {
    "scrolled": true
   },
   "outputs": [
    {
     "name": "stdout",
     "output_type": "stream",
     "text": [
      "\n",
      "File Commissioning of security systems and infrastructure cns-tast-gd-4.4 cns-tast-gd-4.4.pdf.txt\n",
      "Keywords: security\n",
      "securely\n",
      "secure\n",
      "commissioning\n",
      "commissioned\n",
      "\n",
      "File Construction Assurance ns-tast-gd-076.pdf.txt\n",
      "Keywords: design\n",
      "designer\n",
      "designers\n",
      "designed\n",
      "designs\n",
      "designing\n",
      "construction\n",
      "constructed\n",
      "construct\n",
      "safety\n",
      "contractor\n",
      "contractors\n",
      "materials\n",
      "material\n",
      "\n",
      "File Control of processes involving nuclear matter ns-tast-gd-023.pdf.txt\n",
      "Keywords: control\n",
      "controlled\n",
      "controls\n",
      "controlling\n",
      "safety\n",
      "nuclear\n",
      "\n",
      "File Decommissioning ns-tast-gd-026.txt\n",
      "Keywords: decommissioning\n",
      "decommissioned\n",
      "decommission\n",
      "safety\n",
      "regulation\n",
      "regulators\n",
      "regulating\n",
      "regulations\n",
      "regulator\n",
      "regulate\n",
      "operated\n",
      "operations\n",
      "operational\n",
      "operating\n",
      "operation\n",
      "operators\n",
      "operator\n",
      "operates\n",
      "appropriate\n",
      "appropriately\n",
      "appropriateness\n",
      "including\n",
      "include\n",
      "includes\n",
      "included\n",
      "\n",
      "File Design Safety Assurance ns-tast-gd-057.pdf.txt\n",
      "Keywords: design\n",
      "designs\n",
      "designed\n",
      "designers\n",
      "designated\n",
      "designer\n",
      "safety\n",
      "processes\n",
      "process\n",
      "requires\n",
      "requirements\n",
      "required\n",
      "requirement\n",
      "requiring\n",
      "require\n",
      "\n",
      "File Fundamental Principles ns-tast-gd-004.pdf.txt\n",
      "Keywords: safety\n",
      "saps\n",
      "sap\n",
      "principles\n",
      "principle\n",
      "\n",
      "File Guidance on the Demonstration of ALARP ns-tast-gd-005.pdf.txt\n",
      "Keywords: risks\n",
      "risk\n",
      "alarp\n",
      "safety\n",
      "standards\n",
      "standard\n",
      "onr\n",
      "practicable\n",
      "practice\n",
      "practicability\n",
      "practical\n",
      "practices\n",
      "\n",
      "File Management of Radioactive material ns-tast-gd-024.pdf.txt\n",
      "Keywords: waste\n",
      "wastes\n",
      "regulation\n",
      "regulators\n",
      "regulations\n",
      "regulate\n",
      "regulator\n",
      "regulates\n",
      "regulating\n",
      "including\n",
      "includes\n",
      "include\n",
      "management\n",
      "managed\n",
      "manages\n",
      "managing\n",
      "managers\n",
      "manage\n",
      "safety\n",
      "\n",
      "File nuclear construction sites cns-tast-gd-6.6.pdf.txt\n",
      "Keywords: security\n",
      "securely\n",
      "secure\n",
      "secured\n",
      "securing\n",
      "sites\n",
      "site\n",
      "nuclear\n",
      "\n",
      "File Organisational Change ns-tast-gd-048.pdf.txt\n",
      "Keywords: change\n",
      "changes\n",
      "changed\n",
      "onr\n",
      "safety\n",
      "arrangements\n",
      "arrange\n",
      "\n",
      "File oversight of items or services cns-tast-gd-4.3.pdf.txt\n",
      "Keywords: security\n",
      "securely\n",
      "nuclear\n",
      "\n",
      "File Probabilistic Safety Analysis.pdf.txt\n",
      "Keywords: psas\n",
      "psa\n",
      "include\n",
      "including\n",
      "included\n",
      "includes\n",
      "events\n",
      "event\n",
      "analysis\n",
      "modelling\n",
      "model\n",
      "models\n",
      "modelled\n",
      "operated\n",
      "operation\n",
      "operating\n",
      "operational\n",
      "operators\n",
      "operator\n",
      "operate\n",
      "operability\n",
      "operations\n",
      "specific\n",
      "specifically\n",
      "specification\n",
      "specifications\n",
      "\n",
      "File Procedure Design and Administrative Controls.pdf.txt\n",
      "Keywords: procedure\n",
      "procedures\n",
      "procedural\n",
      "safety\n",
      "operated\n",
      "operating\n",
      "operations\n",
      "operator\n",
      "operational\n",
      "operation\n",
      "operators\n",
      "operate\n",
      "\n",
      "File Procurement cns-tast-gd-4.1 cns-tast-gd-4.1.pdf.txt\n",
      "Keywords: security\n",
      "securely\n",
      "nuclear\n",
      "onr\n",
      "\n",
      "File Reliability and resilience of the security system cns-tast-gd-5.1 cns-tast-gd-5.1.pdf.txt\n",
      "Keywords: security\n",
      "securely\n",
      "secure\n",
      "nuclear\n",
      "\n",
      "File Supplier capability cns-tast-gd-4.2.pdf.txt\n",
      "Keywords: security\n",
      "securely\n",
      "nuclear\n"
     ]
    }
   ],
   "source": [
    "Keywords_for_corpus =[]\n",
    "\n",
    "for filename in os.listdir(directory):\n",
    "    if filename.endswith('.txt'):\n",
    "        with open(os.path.join(directory, filename)) as f:\n",
    "            \n",
    "            content = f.read()\n",
    "            key_words=keywords(content, ratio=0.007)\n",
    "            \n",
    "            print ('\\nFile',filename)\n",
    "            print ('Keywords:',key_words)\n",
    "            \n",
    "            Keywords_for_corpus.append(key_words)\n",
    "    \n",
    "            f.close()\n",
    "        # To avoid similar words, stemming or lemmatization could be used"
   ]
  },
  {
   "cell_type": "markdown",
   "metadata": {},
   "source": [
    "## Automatic summarisation of the content of each document\n",
    "As seen in the outputs, for example, for the first document, keywords around security and commissioning are proposed. \n",
    "For example, with a little tidying, it is suggested that the first document (Commissioning of security systems and infrastructure) has the following key points:\n",
    "\n",
    "- The scale of the commissioning activity should be proportionate to the level of complexity and degree of impact that the project will have on the site or facility’s ability to meet its security outcome as defined in Annexes C and D of SyAPs. \n",
    "\n",
    "- This TAG is aimed at providing guidance to the inspector when assessing the adequacy of the commissioning arrangements demonstrated through the performance of the equipment (and those personnel who will manage, operate and maintain it) and the adequacy of the procedures to support the operation of that equipment.\n",
    "\n",
    "Adjust the ratio of summary length to total content size if required. "
   ]
  },
  {
   "cell_type": "code",
   "execution_count": 4,
   "metadata": {
    "scrolled": true
   },
   "outputs": [
    {
     "name": "stdout",
     "output_type": "stream",
     "text": [
      "File Commissioning of security systems and infrastructure cns-tast-gd-4.4 cns-tast-gd-4.4.pdf.txt\n",
      "\n",
      "Summary: Commissioning of security systems and infrastructure cns-tast-gd-4.4 cns-tast-gd-4.4.pdf.txtSummary\n",
      "The scale of the commissioning activity should be proportionate to the level of complexity and degree of impact that the project will have on the site or facility’s ability to meet its security outcome as defined in Annexes C and D of SyAPs. Doc Ref: CNS-TAST-GD-4.4 Revision 0 TRIM Ref: 2017/104173 Page 3 of 8 OFFICIAL 4.3 5.1 5.2 6.1 Office for Nuclear Regulation 6.2 OFFICIAL This TAG is aimed at providing guidance to the inspector when assessing the adequacy of the commissioning arrangements demonstrated through the performance of the equipment (and those personnel who will manage, operate and maintain it) and the adequacy of the procedures to support the operation of that equipment. \n",
      "\n",
      "File Construction Assurance ns-tast-gd-076.pdf.txt\n",
      "\n",
      "Summary: Construction Assurance ns-tast-gd-076.pdf.txtSummary\n",
      "4 4.3 The following guides are useful initial reference points:- T/INS/017 – Quality Assurance T/AST/017 – Structural integrity, civil engineering aspects3 T/AST/039 – Management for safety1 T/AST/057 – Design safety assurance2 4.4 Whilst it is recognised that design organisations may not be the licence holder, both the design and construction process should be under the control of the appropriate licensee acting as an “intelligent customer”.\n",
      "Areas for consideration during the construction phase may include, but not be limited to: -  Site control, including identification and control of materials, parts and components, handling storage and shipping  Process control; including planning, procedures, permits, hold points, method statements Inspection, monitoring and testing   Non conformance control  Corrective actions, including close out and verification 8  Records, including as designed and as constructed, maintenance and operational manuals 6.2 Forms of contract 6.2.1 It is an ONR expectation that criteria should have been set by the licensee for selection of the most appropriate form of contract33. \n",
      "\n",
      "File Control of processes involving nuclear matter ns-tast-gd-023.pdf.txt\n",
      "\n",
      "Summary: Control of processes involving nuclear matter ns-tast-gd-023.pdf.txtSummary\n",
      "2. PURPOSE AND SCOPE This Technical Assessment Guide provides guidance on ONR’s approach to the control of nuclear matter, the relevant legislative constraints and definitions and on the application of relevant ONR Safety Assessment Principles (SAPs) [1], as described in section 4.1 below.\n",
      "Report NS-TAST-GD-023 CM9 Ref: 2019/0250250 Page 5 of 14 OFFICIAL Office for Nuclear Regulation 5.6 5.7 5.8 5.9 OFFICIAL The need for control should be identified early in the safety case [particularly SC.3] and the SAPs specifically demand identification of faults leading to loss of control [FA.2]. \n",
      "\n",
      "File Decommissioning ns-tast-gd-026.txt\n",
      "\n",
      "Summary: Decommissioning ns-tast-gd-026.txtSummary\n",
      "However, a number of LCs are of particular relevance:     4 6 15 17 Control of nuclear matter Documents, records, authorities and certificates Periodic review Management systems NS-TAST-GD-026 Revision 5 Ref: 2019/144943 Page 3 of 31 Office for Nuclear Regulation 3.2 3.3 3.4 3.6 3.7           18 22 23 25 28 32 33 34 35 36 Radiological protection Modifications Operating rules Operational records Examination, inspection, maintenance and testing Accumulation of radioactive waste Disposal of radioactive waste Leakage and escape of radioactive material and radioactive waste Decommissioning Organisational capability In addition to NIA65, the licensee must continue to comply with all other relevant statutory provisions arising under the Health and Safety at Work etc.\n",
      "The relevance NS-TAST-GD-026 Revision 5 Ref: 2019/144943 Page 4 of 31 Office for Nuclear Regulation of CDM to decommissioning is derived from the CDM definition of ‘construction work’ which includes:    The decommissioning, demolition or dismantling of a structure Removal of a structure, or of any product or waste resulting from demolition or dismantling of a structure, or from disassembly of prefabricated elements which immediately before such disassembly formed such a structure; Removal of mechanical, electrical, gas, compressed air, hydraulic, telecommunications, computer or similar services which are normally fixed within or to a structure 3.11 Specific guidance on CDM is available at www.hse.gov.uk/pubns/books/l153 Environmental Legislation 3.12 Decommissioning results in significant quantities of radioactive wastes, which then need to be managed to the point of disposal.\n",
      "This TAG has therefore been benchmarked against the Decommissioning SRLs [5] and the guidance in Section 5 is structured in accordance with the SRL topic areas:     Safety Management System (SRLs D-01 to D-14) Decommissioning Strategy and Planning (SRLs D-15 to D-29) Conduct of Decommissioning (SRLs D-30 to D-49) Safety Verification (SRLs D-50 to D-62) 4.6 The most relevant IAEA [4] documents to decommissioning are:  Fundamental Safety Principles (SF-1) NS-TAST-GD-026 Revision 5 Ref: 2019/144943 Page 6 of 31 Office for Nuclear Regulation      Decommissioning of facilities (GSR part 6) Safety Assessment for the Decommissioning of Facilities Using Radioactive Material (WS-G-5.2) Decommissioning of Nuclear Power Plants, Research Reactors and Other Nuclear Fuel Cycle Facilities (SSG-47) Decommissioning of Medical, Industrial and Research Facilities (SSG-49) Application of the Concepts of Exclusion, Exemption and Clearance (RS-G-1.7) 5.\n",
      "5.9 Inspectors may consider whether a licensee’s organisational structure is robust to the challenges that typically occur in respect of decommissioning, such as: 5.10 The licensee’s organisational structure should clearly identify:                 Loss of operational knowledge Quantification and retention of sufficient in-house resources, at a time of uncertain future employment prospects Management of uncertainties Pressures to achieve rapid hazard reduction Requirements for new skills, to progress decommissioning projects A need for greater flexibility as the workface undergoes significant change Increased reliance on administrative measures to deliver safety and a reduced extent of engineered protection Ensuring the licensee’s Nuclear Safety Committee exercises sufficient independent challenge of the overall decommissioning strategy in addition to scrutinising individual activities Responsibilities for ensuring decommissioning is conducted safely An intelligent customer capability for decommissioning wherever reliance is placed on contractors Recognition of the increased prevalence of conventional health and safety risks as decommissioning progresses Recognition of the importance of maintaining radiological protection standards throughout decommissioning Priorities for hazard reduction, which should be based on addressing the highest hazards and risks in a timely manner Project management arrangements, noting the scale and nature of decommissioning projects may vary considerably from those in the operational phase A reporting hierarchy, to allow any conflicts that could compromise safety during decommissioning to be resolved Adequate integration of all parts of the licensee’s organisation that contribute to decommissioning and management of the resulting wastes 5.11 Inspectors may consider whether the licensee’s organisational structure is sufficiently flexible to ensure safety as the anticipated progressive (and often rapid) change in plant status occurs during decommissioning, noting this should allow a precautionary approach to any inherent uncertainties. \n",
      "\n",
      "File Design Safety Assurance ns-tast-gd-057.pdf.txt\n",
      "\n",
      "Summary: Design Safety Assurance ns-tast-gd-057.pdf.txtSummary\n",
      "4.1 4.2 RELATIONSHIP TO LICENCE CONDITIONS The following licence conditions have relevance in terms of design safety assurance:  LC6 Documents, Records, Authorities and Certificates  LC12 Duly Authorised and other Suitably Qualified and Experienced Persons  LC14 Safety Documentation  LC15 Periodic Review  LC17 Quality Assurance  LC19 Construction or Installation of New Plant  LC20 Modification to Design of Plant Under Construction  LC21 Commissioning  LC22 Modification or Experiment on Existing Plant  LC23 Operating Rules  LC24 Operating Instructions  LC25 Operational Records  LC27 Safety Mechanisms, Devices and Circuits  LC28 Examination, Inspection, Maintenance and Testing  LC29 Duty to carry out Tests, Inspections and Examinations  LC34 Leakage and Escape of Radioactive Material and Radioactive Waste  LC35 Decommissioning  LC36 Control of Organisational Change LEGISLATION AND REGULATORY INTEREST The general duties under the Health and Safety at Work etc Act 1974 (HSWA) impose statutory requirements as follows: 2 (1) It shall be the duty of every employer to ensure, so far as is reasonably practicable, the health, safety and welfare at work of all his employees.\n",
      "This design process will vary between disciplines, but issues of key importance are listed as follows, with discussion in the subsequent paragraphs:   Design Phases (5.7) Hazard Identification (5.8) Report NS-TAST-GD-057 TRIM Ref: 2017/456576 Page 5 of 16 Office for Nuclear Regulation                      Optioneering (5.9) Safety Functional Requirements and Design Parameters (5.10) Design Planning and Organisation (5.11) Design Standards (5.12) Design Verification and Validation (5.13) The Interface with Procurement (5.14) The Interfaces between Design Disciplines (5.15) Information Control and Document Management (5.16) Change Control (5.17) Competency (5.18) The Interface with Construction/Installation (5.19) The Interface with Commissioning (5.20) The Interface with Maintenance and Inspection (5.21) Safety Case Production and Interface (5.22) Design Review (5.23) Design Instructions (5.24) Fault Recording and Corrective Action Systems (5.25) Intelligent Customer and Design Authority (5.26) Human Factors (5.27) Design Quality Assurance (5.28) Design for Decommissioning (5.29) Design phases 6.7 A well structured design process is the starting point for a successful design output. \n",
      "\n",
      "File Fundamental Principles ns-tast-gd-004.pdf.txt\n",
      "\n",
      "Summary: Fundamental Principles ns-tast-gd-004.pdf.txtSummary\n",
      "4.14 It should be noted that IAEA Fundamental Safety Principles 2 (legal framework), 4 (justification) and 10 (unregulated radiation risks) are outside the scope of the SAPs. Report : NS-TAST-GD-004 Revision 7 CM9 Ref: 2019/0101578 Page 5 of 8 Office for Nuclear Regulation 5. \n",
      "\n",
      "File Guidance on the Demonstration of ALARP ns-tast-gd-005.pdf.txt\n",
      "\n",
      "Summary: Guidance on the Demonstration of ALARP ns-tast-gd-005.pdf.txtSummary\n",
      "INTRODUCTION 1.1 1.2 1.3 1.4 2.1 3.1 This Technical Assessment Guide (TAG) represents specific guidance for ONR inspectors on what they should expect of a nuclear licensee or dutyholder1 in meeting its legal requirement to reduce risks so far as is reasonably practicable (SFAIRP).\n",
      "In other cases, either where standards and relevant good practice are less evident or not fully applicable, the onus is on the licensee to implement measures to the point where the costs of any additional measures (in terms of money, time or trouble – the sacrifice) would be grossly disproportionate to the further risk reduction that would be achieved (the safety benefit).\n",
      "5.4 The following represent principles which are likely to need addressing in most cases: 1 The application of ALARP can only be to risks which the licensee controls (e.g. it is not a requirement for nuclear power plant operators to consider other forms of electrical generation).\n",
      "Based on HSE [4], relevant good practice is \"… those standards for controlling risk which have been judged and recognised by HSE as satisfying the law when applied to a particular relevant case in an appropriate manner.\" In nuclear safety applications, where the potential consequences of accidents can be very serious, the best practice identified as appropriate to the application would normally be required for new designs.\n",
      "Subsequent regulatory experience (since TOR) suggests there would be little benefit in ONR developing such a “rule book” in view of the types of safety case arguments we normally see and the overriding need for licensees to consider relevant good practice as the starting point for their risk assessments. \n",
      "\n",
      "File Management of Radioactive material ns-tast-gd-024.pdf.txt\n",
      "\n",
      "Summary: Management of Radioactive material ns-tast-gd-024.pdf.txtSummary\n",
      "Technical Assessment Guides 4.3 There are a number of other TAGs that may be of relevance to the management of radioactive material and radioactive waste [2]: NS-TAST-GD-005 ONR guidance on the demonstration of ALARP; NS-TAST-GD-023 Control of processes involving nuclear matter; NS-TAST-GD-026 Decommissioning on nuclear licensed sites; NS-TAST-GD-033 Duty holder management of records; NS-TAST-GD-081 Safety aspects specific to storage of spent nuclear fuel; NS-TAST-GD-083 Land quality management; NS-TAST-GD-101 Geological disposal.\n",
      "Report : NS-TAST-GD-24 Revision 6 CM9 Ref.: 2019/254780 Page 11 of 27 Office for Nuclear Regulation Predisposal management of radioactive waste 6.23 Radioactive waste should be managed in a manner that minimises the need for processing, and that it is compatible with anticipated facilities for ultimate disposal or long-term solution.\n",
      "6.69 Licence Condition (LC) 23(1) requires licensees to provide safety cases that demonstrate the safe operation of all facilities on site, including those specifically for the management of radioactive waste. \n",
      "\n",
      "File nuclear construction sites cns-tast-gd-6.6.pdf.txt\n",
      "\n",
      "Summary: nuclear construction sites cns-tast-gd-6.6.pdf.txtSummary\n",
      "OFFICIAL Report CNS-TAST-GD-6.6 TRIM Ref: 2017/106085 Page 2 of 17 Office for Nuclear Regulation OFFICIAL 4.3 4.4 5.1 5.2 4.2 Fundamental Principle C of the CPPNM refers to the legislative and regulatory framework should provide for the establishment of applicable physical protection requirements and include a system of evaluation and licensing or other procedures to grant authorisation.\n",
      "7.4 7.5 OFFICIAL Report CNS-TAST-GD-6.6 TRIM Ref: 2017/106085 Page 4 of 17             Office for Nuclear Regulation OFFICIAL Regulatory Expectation 7.6 The regulatory expectation is that dutyholders demonstrate within their security plan how their physical protection system is phased according to sensitivity of the site as construction develops in order to provide ongoing assurance that its activities cannot be exploited by an adversary. \n",
      "\n",
      "File Organisational Change ns-tast-gd-048.pdf.txt\n",
      "\n",
      "Summary: Organisational Change ns-tast-gd-048.pdf.txtSummary\n",
      "2. PURPOSE AND SCOPE The purpose of this Technical Assessment Guide (TAG) is to assist in making informed judgements and decisions on the adequacy of the licensee’s arrangements and their implementation, to ensure that changes to organisational structure or resources which may affect safety are adequately controlled in accordance with the requirement of nuclear site licence condition (LC) 36 ‘Organisational Capability’ as set out in Appendix Appendix 4 of this TAG also provides guidance on how Inspectors should approach the revised clause in LC 36(1), added in 2011, which requires licensees to provide and maintain adequate financial and human resources to fulfil their obligations in respect of nuclear safety.\n",
      "5.32 The inspector should consider whether or not:    The licensee has formal, documented management of change arrangements which are an integral part of its management system; It is clear that the arrangements apply to all aspects of the licensee’s activities, including changes at Board or Executive team level, that have the potential to affect nuclear safety, and have they been promulgated to all parts of the licensee’s organisation; The documented arrangements are clear, available to end users and up to date;  The arrangements use a methodology which is easy to understand and follow; Report : NS-TAST-GD-048 Revision 5 TRIM Ref: 2018/283567 Page 9 of 25 Office for Nuclear Regulation       The methodology is being consistently interpreted and applied across the licensee organisation; Roles and responsibilities for implementing the management of change arrangements are clearly defined, integrated with the management system and understood by staff with management of change process roles; SQEP requirements for staff fulfilling key roles within the arrangements are clearly defined; Staff fulfilling key management of change arrangements are demonstrably SQEP for those roles and they have a suitable level of authority within the licensee’s organisation; All change proposals are logged in a change register and records are available to substantiate the key decisions made in support of significant changes in accordance with the licensee’s arrangements for LC 6; The arrangements are subject to the processes of independent review and audit operated by the licensee.\n",
      "Report : NS-TAST-GD-048 Revision 5 TRIM Ref: 2018/283567 Page 13 of 25 Office for Nuclear Regulation 5.55 The inspector should consider whether or not:           An initial screening assessment has been prepared to identify the potential impact of the change proposal on nuclear safety significance and categorise the proposal; The risk assessment uses a clear, consistent and well-informed approach which identifies potential risks arising both from the final outcome of the change and the process of transition; The classification methodology is easy to understand and is being applied objectively and consistently, throughout the licensee’s organisation; There is a checking process to confirm that changes have been correctly categorised and challenged by a SQEP; Safeguards are in place to avoid under-categorisation of changes or ‘salami slicing’; The licensee’s arrangements identify, and meet ONR’s expectations for, the need to communicate Category 1 and 2 change proposals to ONR and include a derived power which will allow ONR to provide formal agreement to change proposals as set out in the bullet points in paragraph 5.16; The licensee’s arrangements encourage authors of change proposals to make provision for timely engagement with ONR. \n",
      "\n",
      "File oversight of items or services cns-tast-gd-4.3.pdf.txt\n",
      "\n",
      "Summary: oversight of items or services cns-tast-gd-4.3.pdf.txtSummary\n",
      "OVERSIGHT OF SUPPLIERS OF ITEMS OR SERVICES OF NUCLEAR SECURITY \n",
      "dutyholder’s arrangements for the supply chain management of items or services of \n",
      "they apply oversight of suppliers of items or services of nuclear security significance to  \n",
      "\n",
      "File Probabilistic Safety Analysis.pdf.txt\n",
      "\n",
      "Summary: Probabilistic Safety Analysis.pdf.txtSummary\n",
      "In addition, it should be noted that PSA covers a whole range of disciplines and, therefore, PSA assessment requires involvement of inspectors with in-depth expertise in a range of areas such as fault studies and thermal-hydraulic analysis, mechanical, electrical and C&I systems, civil engineering, human factors, software reliability, structural integrity, internal and external hazards, severe accident and radiation safety.\n",
      "Report : NS-TAST-GD-030 CM9 Ref: 2018/408246 Page 3 of 81 Office for Nuclear Regulation 4.2 Fault analysis: general – Design basis analysis, PSA and severe accident analysis – FA.1 “Fault analysis should be carried out comprising suitable and sufficient design basis analysis, PSA and severe accident analysis to demonstrate that risks are ALARP” This principle outlines the inter-relationship between the three types of fault analysis, DBA, PSA and SAA and how in combination they address the range of potential initiating events (IEs) with nuclear safety significance off the site.\n",
      "In addition, in order to meet this principle, the PSA should be kept living, i.e. it should be updated as necessary to reflect the current design and operational features and to Report : NS-TAST-GD-030 CM9 Ref: 2018/408246 Page 4 of 81 Office for Nuclear Regulation incorporate feedback from internal and external operational experience, improved understanding of physical processes or accident progression and advances in modelling techniques.\n",
      "2) PSA Models PSA should account for all contributions to the risk, including, but not necessarily restricted to: random component individual failures, components which are failed by the IE, common cause failures (CCFs) (and, as necessary, other dependent and consequential failures), unavailabilities due to testing and maintenance, pre-initiating event human errors (e.g., misalignments and mis-calibrations), human errors that lead to IEs and human errors during the course of the accident sequences (including misdiagnosis, decision errors, omission errors and commission errors).\n",
      "Any issue that is going to be evaluated using PSA (e.g. a facility design or operational feature, a proposed change to the design, or an event at the facility) should be explicitly defined together with the type of results required as input to the decision-making, including any numerical criteria that need to be met.\n",
      "4.10 Fault analysis: assurance of validity of data and models – Use of data – AV.3 Report : NS-TAST-GD-030 CM9 Ref: 2018/408246 Page 10 of 81 Office for Nuclear Regulation “The data used in the analysis of aspects of plant performance with safety significance should be shown to be valid for the circumstances by reference to established physical data, experiment or other appropriate means” Failure rate and probability data is the basis of the PSA; therefore, for the PSA to be an adequate representation of the facility, it should make use of data that can be demonstrated to be valid for the facility.\n",
      "If the sensitivity analyses performed do not provide sufficient confidence in the validity of the conclusions of the PSA, reasonably practicable steps need to be taken to reduce the uncertainties associated with the model and data – this may include use of independent methods and computer codes, where appropriate, as indicated in the text accompanying SAP AV.6.\n",
      "4.14 Fault analysis: assurance of validity of data and models – Data collection – AV.7 “Data should be collected throughout the operating life of the facility to check or update the safety analysis” The validity and applicability of the IE frequencies, component failure probabilities, unavailabilities, etc, used in the PSA can only be assured if these are reviewed periodically using facility specific information.\n",
      "Since much of the guidance provided in Appendix 1 can also be applied to other types of facilities, inspectors may wish to use Appendix 1 at their discretion for the assessment of PSAs for facilities other than NPPs. 1) PSA should be a systematic analysis to identify all important fault sequences which can lead to radiological consequences and to evaluate their contribution to the level of risk represented by the facility.\n",
      "3) Specific assessment expectations for review of the adequacy and completeness of the list of IEs considered in the PSAs for NPPs can be found in Tables A1-2.1 (identification and grouping of initiating events), A1-2.7 (analysis of hazards) and A1- 2.8 (low power and shutdown modes) of Appendix 1.\n",
      "Report : NS-TAST-GD-030 CM9 Ref: 2018/408246 Page 16 of 81 Office for Nuclear Regulation 5.6 Accident Sequence Analysis 1) The next stage of the PSA is the accident sequence analysis which models the behaviour of the facility for the IEs. The analysis should cover all possible combinations of success or failure of the protection systems to perform the safety functions and should identify the accident sequences which involve failure to maintain the facility within safe limits.\n",
      "5.14 Quantification of the Analysis Report : NS-TAST-GD-030 CM9 Ref: 2018/408246 Page 21 of 81 Office for Nuclear Regulation 1) The PSA should determine the combinations of basic events such as component failure, CCF, operator error and plant unavailability which lead to the fault sequence and determine its frequency of occurrence.\n",
      "Nevertheless, these risks need to be evaluated by the dutyholders in order to address the relevant numerical targets of the SAPs. A1-2 Not used Report : NS-TAST-GD-030 CM9 Ref: 2018/408246 Page 24 of 81 Office for Nuclear Regulation A1-3 Use of this Appendix A1-3.1 The Tables in this Appendix present check lists of items that inspectors should generally expect to see when assessing the different areas of the PSAs for nuclear reactors.\n",
      "The supporting analyses used to define the success criteria for each success sequence in the event trees have adequately addressed the Report : NS-TAST-GD-030 CM9 Ref: 2018/408246 Page 30 of 81 Office for Nuclear Regulation following: ASSESSMENT EXPECTATION MET? \n",
      "\n",
      "File Procedure Design and Administrative Controls.pdf.txt\n",
      "\n",
      "Summary: Procedure Design and Administrative Controls.pdf.txtSummary\n",
      "5.3 5.4 Key elements for ensuring the provision of suitable and sufficient administrative control and procedures to support the safe operation of nuclear plant include explicit consideration of: • The nature of the task and human-based safety claim related to the delivery of • The safety goal to be achieved, administrative safety functions • The needs of the end user 5.5 Inspectors may consider whether: NS-TAST-GD-060 TRIM Ref: 2017/438046 Page 5 of 16 Office for Nuclear Regulation • The dutyholder’s process for the identification of administrative control requirements draws upon the safety case and covers all plant operational modes/states including maintenance, testing and calibration activities, override facilities, fault and emergency response.\n",
      "NS-TAST-GD-060 TRIM Ref: 2017/438046 Page 9 of 16 Office for Nuclear Regulation • The dutyholder maintains accurate records to demonstrate compliance with operating procedures in line with LC 25(1) • The dutyholder’s procedures are clearly linked with the claims and assumptions in the safety case and the procedures have been developed based on the output of the Design Basis Analysis (DBA), PSA and Safety Assessment (SA), appropriate to the specific procedures. \n",
      "\n",
      "File Procurement cns-tast-gd-4.1 cns-tast-gd-4.1.pdf.txt\n",
      "\n",
      "Summary: Procurement cns-tast-gd-4.1 cns-tast-gd-4.1.pdf.txtSummary\n",
      "The Office for Nuclear Regulation (ONR) has established a set of Security Assessment \n",
      "arrangements and procurement activities for nuclear security related items or services.\n",
      "they achieve effective procurement for items or services for nuclear security and \n",
      "maintain an intelligent customer capability to support nuclear supply chain \n",
      "arrangements associated with the procurement of nuclear security related items or \n",
      "items or services, meet the security plan/operational requirements and identify the  \n",
      "\n",
      "File Reliability and resilience of the security system cns-tast-gd-5.1 cns-tast-gd-5.1.pdf.txt\n",
      "\n",
      "Summary: Reliability and resilience of the security system cns-tast-gd-5.1 cns-tast-gd-5.1.pdf.txtSummary\n",
      "The importance of issues relating to quality assurance is also recognised in the Nuclear Security Fundamentals, specifically:  Essential Element 12: Sustaining a Nuclear Security Regime – 3.12 A nuclear security regime ensures that each competent authority and authorised person and other organisations with nuclear security responsibilities contribute to the sustainability of the regime by: o o o Allocating sufficient human, financial and technical resources to carry out the organisation’s nuclear security responsibilities on a continuing basis using a risk-informed approach Routinely conducting maintenance, training and evaluation to ensure the effectiveness of the nuclear security systems Routinely performing assurance activities to identify and address issues and factors that may affect the capacity to provide adequate nuclear security, including cyber security, at all times 4.3 5.1 5.2 A more detailed description of the quality assurance is provided in Recommendations level guidance, specifically Nuclear Security Series (NSS) 13, Recommendations on Physical Protection of Nuclear Material and Nuclear Facilities (INFCIRC/225/Revision 5) (Reference 2). \n",
      "\n",
      "File Supplier capability cns-tast-gd-4.2.pdf.txt\n",
      "\n",
      "Summary: Supplier capability cns-tast-gd-4.2.pdf.txtSummary\n",
      "The Office for Nuclear Regulation (ONR) has established a set of Security Assessment \n",
      "For work with nuclear security significance, the purchaser should evaluate and confirm \n",
      "Has the purchasing organisation promulgated the required nuclear security \n",
      "The purchaser should ensure that suppliers have quality management arrangements  \n",
      "\n"
     ]
    }
   ],
   "source": [
    "Corpus_of_Summaries =[]\n",
    "\n",
    "for filename in os.listdir(directory):\n",
    "    if filename.endswith('.txt'):\n",
    "        with open(os.path.join(directory, filename)) as f:\n",
    "            \n",
    "            content = f.read()\n",
    "            \n",
    "            summary=(filename+'Summary\\n'+summarize(content, ratio=0.01)) #word_count=20\n",
    "            \n",
    "            print ('File',filename)\n",
    "            print ('\\nSummary:',summary,\"\\n\")\n",
    "            \n",
    "            Corpus_of_Summaries.append(summary)\n",
    "            \n",
    "            #print (content[0:100]) # testing the content is coming through\n",
    "            # print(repr(summary)) #alternate version showing line breaks etc\n",
    "    \n",
    "            f.close()"
   ]
  },
  {
   "cell_type": "code",
   "execution_count": 8,
   "metadata": {},
   "outputs": [
    {
     "name": "stdout",
     "output_type": "stream",
     "text": [
      "Commissioning of security systems and infrastructure cns-tast-gd-4.4 cns-tast-gd-4.4.pdf.txtSummary\n",
      "The scale of the commissioning activity should be proportionate to the level of complexity and degree of impact that the project will have on the site or facility’s ability to meet its security outcome as defined in Annexes C and D of SyAPs. Doc Ref: CNS-TAST-GD-4.4 Revision 0 TRIM Ref: 2017/104173 Page 3 of 8 OFFICIAL 4.3 5.1 5.2 6.1 Office for Nuclear Regulation 6.2 OFFICIAL This TAG is aimed at providing guidance to the inspector when assessing the adequacy of the commissioning arrangements demonstrated through the performance of the equipment (and those personnel who will manage, operate and maintain it) and the adequacy of the procedures to support the operation of that equipment.\n"
     ]
    }
   ],
   "source": [
    "#hide\n",
    "# To print a particular summary, enter a number from 0 to 15.  \n",
    "print(Corpus_of_Summaries[0]) # Could equally do this w full content, but starting simple"
   ]
  },
  {
   "cell_type": "markdown",
   "metadata": {},
   "source": [
    "## Summarisation across the entire corpus\n",
    "\n",
    "This is a summary of the whole document. \n",
    "After cleaning it up and improving punctuation we get:\n",
    "\n",
    "- 'www.onr.org.uk/operational/tech_asst_guides on Nuclear Licensed Sites\n",
    "- Training and assuring personnel competence Licensee Core Safety and Intelligent Customer Capabilities Periodic Safety Reviews (PSR) \n",
    "- The Purpose, Scope and Content of Nuclear Safety Cases Reasonably Practicable)\n",
    "- Examination, Inspection, Maintenance and Testing of Items Important to Safety\n",
    "-  Guidance on the Demonstration of ALARP \n",
    "- Management of Radioactive Materials and Radioactive Waste \n",
    "- Duty Holder Management of Records \n",
    "- Radiological Protection \n",
    "- Organisational Change \n",
    "- Human Factors Integration \n",
    "- Human Machine Interface \n",
    "- Human Reliability Analysis \n",
    "- Challenge Culture, Independent Challenge Capability \n",
    "- Categorisation of Safety Functions and Classification of NS-TAST-GD-098 an Internal Regulation function) \n",
    "- Provision of Nuclear Safety Advice Land Quality Management Function and\n",
    "- Content of the Nuclear Baseline Licensee Design authority Capability Structures and C\n",
    "- Components Asset Management Staffing Levels and Task Organisation\n",
    "\n",
    "\n",
    "\n",
    "(MAYBE EVEN DO IT FOR KEYWORDS?)"
   ]
  },
  {
   "cell_type": "code",
   "execution_count": null,
   "metadata": {},
   "outputs": [],
   "source": [
    "#hide\n",
    "Corpus_as_one_string=\" \"\n",
    "for filename in os.listdir(directory):\n",
    "    if filename.endswith('.txt'):\n",
    "        with open(os.path.join(directory, filename)) as f:\n",
    "            content = f.read()\n",
    "            Corpus_as_one_string+=content\n",
    "            f.close()"
   ]
  },
  {
   "cell_type": "code",
   "execution_count": 12,
   "metadata": {},
   "outputs": [
    {
     "name": "stdout",
     "output_type": "stream",
     "text": [
      "The importance of issues relating Doc Ref: CNS-TAST-GD-4.4 Revision 0 TRIM Ref: 2017/104173 Page 2 of 8 OFFICIAL Office for Nuclear Regulation OFFICIAL to quality assurance is also recognised in the Nuclear Security Fundamentals, specifically:  Essential Element 12: Sustaining a Nuclear Security Regime – 3.12 A nuclear security regime ensures that each competent authority and authorised person and other organisations with nuclear security responsibilities contribute to the sustainability of the regime by: a) Developing, implementing, and maintaining appropriate and effective integrated management systems including quality management systems; and, h) Routinely performing assurance activities to identify and address issues and factors that may affect the capacity to provide adequate nuclear security, including cyber security, at all times.\n",
      "The scale of the commissioning activity should be proportionate to the level of complexity and degree of impact that the project will have on the site or facility’s ability to meet its security outcome as defined in Annexes C and D of SyAPs. Doc Ref: CNS-TAST-GD-4.4 Revision 0 TRIM Ref: 2017/104173 Page 3 of 8 OFFICIAL 4.3 5.1 5.2 6.1 Office for Nuclear Regulation 6.2 OFFICIAL This TAG is aimed at providing guidance to the inspector when assessing the adequacy of the commissioning arrangements demonstrated through the performance of the equipment (and those personnel who will manage, operate and maintain it) and the adequacy of the procedures to support the operation of that equipment.\n",
      "5.9 Inspectors may consider whether a licensee’s organisational structure is robust to the challenges that typically occur in respect of decommissioning, such as: 5.10 The licensee’s organisational structure should clearly identify:                 Loss of operational knowledge Quantification and retention of sufficient in-house resources, at a time of uncertain future employment prospects Management of uncertainties Pressures to achieve rapid hazard reduction Requirements for new skills, to progress decommissioning projects A need for greater flexibility as the workface undergoes significant change Increased reliance on administrative measures to deliver safety and a reduced extent of engineered protection Ensuring the licensee’s Nuclear Safety Committee exercises sufficient independent challenge of the overall decommissioning strategy in addition to scrutinising individual activities Responsibilities for ensuring decommissioning is conducted safely An intelligent customer capability for decommissioning wherever reliance is placed on contractors Recognition of the increased prevalence of conventional health and safety risks as decommissioning progresses Recognition of the importance of maintaining radiological protection standards throughout decommissioning Priorities for hazard reduction, which should be based on addressing the highest hazards and risks in a timely manner Project management arrangements, noting the scale and nature of decommissioning projects may vary considerably from those in the operational phase A reporting hierarchy, to allow any conflicts that could compromise safety during decommissioning to be resolved Adequate integration of all parts of the licensee’s organisation that contribute to decommissioning and management of the resulting wastes 5.11 Inspectors may consider whether the licensee’s organisational structure is sufficiently flexible to ensure safety as the anticipated progressive (and often rapid) change in plant status occurs during decommissioning, noting this should allow a precautionary approach to any inherent uncertainties.\n",
      "www.onr.org.uk/operational/tech_asst_guides on Nuclear Licensed Sites Training and assuring personnel competence Licensee Core Safety and Intelligent Customer Capabilities Periodic Safety Reviews (PSR) The Purpose, Scope and Content of Nuclear Safety Cases Reasonably Practicable) Examination, Inspection, Maintenance and Testing of Items Important to Safety NS-TAST-GD-005 Guidance on the Demonstration of ALARP (As Low As NS-TAST-GD-009 NS-TAST-GD-024 Management of Radioactive Materials and Radioactive Waste NS-TAST-GD-027 NS-TAST-GD-033 Duty Holder Management of Records NS-TAST-GD-038 Radiological Protection NS-TAST-GD-048 Organisational Change NS-TAST-GD-049 NS-TAST-GD-050 NS-TAST-GD-051 NS-TAST-GD-058 Human Factors Integration NS-TAST-GD-059 Human Machine Interface NS-TAST-GD-061 NS-TAST-GD-063 Human Reliability Analysis NS-TAST-GD-065 NS-TAST-GD-079 NS-TAST-GD-080 Challenge Culture, Independent Challenge Capability (including NS-TAST-GD-083 NS-TAST-GD-094 Categorisation of Safety Functions and Classification of NS-TAST-GD-098 an Internal Regulation function) and the Provision of Nuclear Safety Advice Land Quality Management Function and Content of the Nuclear Baseline Licensee Design authority Capability Structures and Components Asset Management Staffing Levels and Task Organisation 4 IAEA Safety Standards Series, International Atomic Energy Agency, Vienna.\n",
      "ABBREVIATIONS ACoP Approved Code of Practice ALARP As low as reasonably practicable Best Available Technique Baseline Decommissioning Plan The Construction Design and Management Regulations 2015 Care & Maintenance Environment Agency Nuclear Reactors (Environmental Impact Assessment for Decommissioning) Regulations 1999 Électricité de France Funded Decommissioning Plan General Safety Requirements (IAEA) Health and Safety Executive International Atomic Energy Agency Licence Condition Land Quality Management Ministry of Defence Memorandum of Understanding Nuclear Decommissioning Authority Nuclear Energy Agency Nuclear Liabilities Fund Natural Resources Wales Operational Experience Office for Nuclear Regulation Post Operational Clean Out Periodic Safety Review Quinquennial Review Relevant Good Practice NLFAB Nuclear Liabilities Funding Assurance Board Safety Assessment Principle(s) (ONR) SFAIRP So far as is reasonably practicable Scottish Environment Protection Agency Suitably Qualified and Experienced Personnel Safety Reference Level (WENRA) Structure, System and Component Technical Assessment Guide(s) (ONR) WENRA Western European Nuclear Regulators’ Association NS-TAST-GD-026 Revision 5 Ref: 2019/144943 Page 30 of 31 BAT BDP CDM C&M EA EIADR EDF FDP GSR HSE IAEA LC LQM MOD MoU NDA NEA NLF NRW OPEX ONR POCO PSR QQR RGP SAP SEPA SQEP SRL SSC TAG Office for Nuclear Regulation 8.\n",
      "This design process will vary between disciplines, but issues of key importance are listed as follows, with discussion in the subsequent paragraphs:   Design Phases (5.7) Hazard Identification (5.8) Report NS-TAST-GD-057 TRIM Ref: 2017/456576 Page 5 of 16 Office for Nuclear Regulation                      Optioneering (5.9) Safety Functional Requirements and Design Parameters (5.10) Design Planning and Organisation (5.11) Design Standards (5.12) Design Verification and Validation (5.13) The Interface with Procurement (5.14) The Interfaces between Design Disciplines (5.15) Information Control and Document Management (5.16) Change Control (5.17) Competency (5.18) The Interface with Construction/Installation (5.19) The Interface with Commissioning (5.20) The Interface with Maintenance and Inspection (5.21) Safety Case Production and Interface (5.22) Design Review (5.23) Design Instructions (5.24) Fault Recording and Corrective Action Systems (5.25) Intelligent Customer and Design Authority (5.26) Human Factors (5.27) Design Quality Assurance (5.28) Design for Decommissioning (5.29) Design phases 6.7 A well structured design process is the starting point for a successful design output.\n"
     ]
    }
   ],
   "source": [
    "Summary=summarize(Corpus_as_one_string, word_count=1000) #ratio=0.01)\n",
    "print (Summary)   "
   ]
  },
  {
   "cell_type": "markdown",
   "metadata": {},
   "source": [
    "## Save results to a single document"
   ]
  },
  {
   "cell_type": "markdown",
   "metadata": {},
   "source": [
    "**IDENTIFY TOKENS AND MAKE-UP DICTIONARY**"
   ]
  },
  {
   "cell_type": "code",
   "execution_count": null,
   "metadata": {},
   "outputs": [],
   "source": [
    "# remove common words and tokenize.# Here we can add in some odd words we find in the output, or use the NLTK list\n",
    "stoplist = set('for a of the and to in \\uf06e  • \\uf0b7 \\uf0b7 \\uf06e uf09 \\uf09f'.split())\n",
    "Tokens_in_Corpus = [[word for word in summary.lower().split() if word not in stoplist]\n",
    "         for summary in Corpus_of_Summaries]"
   ]
  },
  {
   "cell_type": "code",
   "execution_count": null,
   "metadata": {},
   "outputs": [],
   "source": [
    "# remove words that appear only once\n",
    "from collections import defaultdict\n",
    "frequency = defaultdict(int)\n",
    "for text in Tokens_in_Corpus:\n",
    "    for token in text:\n",
    "        frequency[token] += 1\n",
    "\n",
    "Frequent_Tokens_in_Corpus= [[token for token in text if frequency[token] > 1] for text in Tokens_in_Corpus]\n",
    "\n",
    "from pprint import pprint  # pretty-printer\n",
    "pprint(Frequent_Tokens_in_Corpus[4:5]) #these slices of lists go up to before the higher number. "
   ]
  },
  {
   "cell_type": "code",
   "execution_count": null,
   "metadata": {},
   "outputs": [],
   "source": [
    "#create dictionary, then map from ids to dictionary\n",
    "dictionary = corpora.Dictionary(Frequent_Tokens_in_Corpus)\n",
    "print(dictionary,\"\\n\\n\")\n",
    "print(dictionary.token2id)"
   ]
  },
  {
   "cell_type": "markdown",
   "metadata": {},
   "source": [
    "**CREATE BAG OF WORDS MODEL**"
   ]
  },
  {
   "cell_type": "code",
   "execution_count": null,
   "metadata": {
    "scrolled": true
   },
   "outputs": [],
   "source": [
    "#ie. a list of a list. For each document, we have a list of word frequency for each dictionary item\n",
    "BAG_OF_WORDS_MODEL = [dictionary.doc2bow(text) for text in Frequent_Tokens_in_Corpus]\n",
    "for c in BAG_OF_WORDS_MODEL:\n",
    "    print(c)"
   ]
  },
  {
   "cell_type": "markdown",
   "metadata": {},
   "source": [
    "From Quick start tutorial. \n",
    "\"Now that we have vectorized our corpus we can begin to transform it using models. We use model as an abstract term referring to a transformation from one document representation to another. In gensim documents are represented as vectors so a model can be thought of as a transformation between two vector spaces. The details of this transformation are learned from the training corpus.\""
   ]
  },
  {
   "cell_type": "markdown",
   "metadata": {},
   "source": [
    "**CREATE TF-IDF MODEL**\n",
    "One simple example of a model is tf-idf. The tf-idf model transforms vectors from the bag-of-words representation to a vector space where the frequency counts are weighted according to the relative rarity of each word in the corpus.\n",
    "Let's initialize the tf-idf model, training it on our corpus."
   ]
  },
  {
   "cell_type": "code",
   "execution_count": null,
   "metadata": {},
   "outputs": [],
   "source": [
    "# train the model\n",
    "TFIDF_MODEL= models.TfidfModel(BAG_OF_WORDS_MODEL)"
   ]
  },
  {
   "cell_type": "markdown",
   "metadata": {},
   "source": [
    "**CREATE TOPIC MODEL via LSI** via CBOW AND TFIDF"
   ]
  },
  {
   "cell_type": "code",
   "execution_count": null,
   "metadata": {},
   "outputs": [],
   "source": [
    "# LSI APPLIED ON TOP ON TFIDF\n",
    "#now applying an LSI to the first corpus, by working on top of its representation as a TFIDF\n",
    "# here we have created a two dim LSI space, like Deerwesters 1990 example\n",
    "#Presumably we could create one on top of just the CBOW too\n",
    "lsi_from_TFIDF= models.LsiModel(TFIDF_APPLIED_TO_TRAINING_CORPUS, id2word=dictionary, num_topics=3) # initialize an LSI transformation\n",
    "\n",
    "#It is correct how it has this odd double-barrelled structure: \n",
    "#model = LsiModel(common_corpus, id2word=common_dictionary)\n",
    "# >>> vectorized_corpus = model[common_corpus]  # vectorize input copus in BoW format"
   ]
  },
  {
   "cell_type": "code",
   "execution_count": null,
   "metadata": {},
   "outputs": [],
   "source": [
    "#inspect the topics\n",
    "lsi_from_TFIDF.print_topics(num_topics=-1, num_words=20) #-1 means show all topics .In significance order. Remember also _ve Contribs"
   ]
  },
  {
   "cell_type": "code",
   "execution_count": null,
   "metadata": {},
   "outputs": [],
   "source": [
    "#Get a single topic as a formatted string with print_topic(topicno, topn=10)"
   ]
  },
  {
   "cell_type": "code",
   "execution_count": null,
   "metadata": {},
   "outputs": [],
   "source": [
    "#to get as array use lsi.get_topics()"
   ]
  },
  {
   "cell_type": "code",
   "execution_count": null,
   "metadata": {},
   "outputs": [],
   "source": [
    "# can Update model with new corpus using add_documents(corpus, chunksize=None, decay=None)\n",
    "#can also save the LSI model"
   ]
  },
  {
   "cell_type": "markdown",
   "metadata": {},
   "source": [
    "**FINDING VECTOR REPRESENTATION OF A WHOLE OLD OR NEW CORPUS**\n",
    "To prepare for similarity queries, we need to enter all documents which we want to compare against subsequent queries. In our case, they are the same documents used for training LSI, converted to 3-D LSA space. But that’s only incidental, we might also be indexing a different corpus altogether."
   ]
  },
  {
   "cell_type": "markdown",
   "metadata": {},
   "source": [
    "   **REPRESENTATION OF OLD CORPUS: TFIDF**"
   ]
  },
  {
   "cell_type": "code",
   "execution_count": null,
   "metadata": {
    "scrolled": true
   },
   "outputs": [],
   "source": [
    "#now moved onto Topic and Transformations tutorial\n",
    "#apply tfidf to the trained corpus\n",
    "TFIDF_APPLIED_TO_TRAINING_CORPUS = TFIDF_MODEL[BAG_OF_WORDS_MODEL]\n",
    "for doc in TFIDF_APPLIED_TO_TRAINING_CORPUS:\n",
    "    print(doc)"
   ]
  },
  {
   "cell_type": "markdown",
   "metadata": {},
   "source": [
    "   **REPRESENTATION OF OLD CORPUS: LSI FROM TFIDF**"
   ]
  },
  {
   "cell_type": "code",
   "execution_count": null,
   "metadata": {},
   "outputs": [],
   "source": [
    "# create a double wrapper over the original corpus: bow->tfidf->fold-in-lsi\n",
    "TOPIC_MODEL_LSI_from_TFIDF_APPLIED_TO_CORPUS = lsi_from_TFIDF[TFIDF_APPLIED_TO_TRAINING_CORPUS] \n",
    "\n",
    "#particular documents aligned to particular topics\n",
    "for doc in TOPIC_MODEL_LSI_from_TFIDF_APPLIED_TO_CORPUS: # both bow->tfidf and tfidf->lsi transformations are actually executed here, on the fly\n",
    "    print(doc)"
   ]
  },
  {
   "cell_type": "code",
   "execution_count": null,
   "metadata": {},
   "outputs": [],
   "source": [
    "#OPTIONAL\n",
    "#this model can now be applied to another corpus other than the training one, not just individaul documents\n",
    "#i have not pulled in a second corpus but this is how you would do it. Note you pull in a corpus (processed as above), not just docs. \n",
    "#corpus2nd_tfidf = TFIDF_MODEL[corpus2nd]\n",
    "# for doc in corpus2nd_tfidf:\n",
    "#   print(doc)"
   ]
  },
  {
   "cell_type": "markdown",
   "metadata": {},
   "source": [
    "**FINDING VECTOR REPRESENTATION OF A SINGLE NEW DOCUMENT**"
   ]
  },
  {
   "cell_type": "code",
   "execution_count": null,
   "metadata": {},
   "outputs": [],
   "source": [
    "# Up above, we had a CBOW representation of each document\n",
    "#We can convert documents to that vector space,once tokenized\n",
    "\n",
    "# eg.This is the announcement of the Sellafield partner programme. https://www.gov.uk/government/news/sellafield-ltd-awards-20-year-project-partnership\n",
    "#Which ONR document is most relevant to this contract ?"
   ]
  },
  {
   "cell_type": "code",
   "execution_count": null,
   "metadata": {},
   "outputs": [],
   "source": [
    "page = requests.get(\"https://www.gov.uk/government/news/sellafield-ltd-awards-20-year-project-partnership\")\n",
    "from bs4 import BeautifulSoup\n",
    "soup = BeautifulSoup(page.content, 'html.parser')\n",
    "new_doc=strip_multiple_whitespaces(soup.get_text())\n",
    "print(new_doc)\n",
    "\n",
    "#page = requests.get(\"https://www.gov.uk/government/news/nda-sets-out-its-grand-challenges\")\n",
    "#page.content[1:300]\n",
    "# need to find which tag works well with this approach. p does not work well with this NEC text \n",
    "#soup.find_all('p')[5].get_text()"
   ]
  },
  {
   "cell_type": "code",
   "execution_count": null,
   "metadata": {},
   "outputs": [],
   "source": [
    "new_doc=new_doc[0:5487]\n",
    "print(new_doc)"
   ]
  },
  {
   "cell_type": "markdown",
   "metadata": {},
   "source": [
    "In addition, we will be considering cosine similarity to determine the similarity of two vectors. Cosine similarity is a standard measure in Vector Space Modeling, but wherever the vectors represent probability distributions, different similarity measures may be more appropriate."
   ]
  },
  {
   "cell_type": "markdown",
   "metadata": {},
   "source": [
    "   **REPRESENTATION OF NEW DOCUMENT: CBOW ONLY**"
   ]
  },
  {
   "cell_type": "code",
   "execution_count": null,
   "metadata": {},
   "outputs": [],
   "source": [
    "#convert tokenized documents to vector\n",
    "new_vec_CBOW = dictionary.doc2bow(new_doc.lower().split())"
   ]
  },
  {
   "cell_type": "code",
   "execution_count": null,
   "metadata": {},
   "outputs": [],
   "source": [
    "print(new_vec_CBOW)  # only those words that match up are given a dimension"
   ]
  },
  {
   "cell_type": "markdown",
   "metadata": {},
   "source": [
    "   **REPRESENTATION OF NEW DOCUMENT: TFIDF**"
   ]
  },
  {
   "cell_type": "code",
   "execution_count": null,
   "metadata": {},
   "outputs": [],
   "source": [
    "#convert the query to LSI space (based on TFIDF) \n",
    "new_vec_TFIDF=TFIDF_MODEL[new_vec_CBOW]"
   ]
  },
  {
   "cell_type": "markdown",
   "metadata": {},
   "source": [
    "   **REPRESENTATION OF NEW DOCUMENT: LSI via TFIDF**"
   ]
  },
  {
   "cell_type": "code",
   "execution_count": null,
   "metadata": {},
   "outputs": [],
   "source": [
    "new_vec_lsi_fromTFIDF = lsi_from_TFIDF[new_vec_TFIDF]\n",
    "print(new_vec_lsi_fromTFIDF)  "
   ]
  },
  {
   "cell_type": "markdown",
   "metadata": {},
   "source": [
    "**COSINE SIMILARITY**"
   ]
  },
  {
   "cell_type": "markdown",
   "metadata": {},
   "source": [
    "moved onto Similarity search tutorial.\n",
    "Based on this new doc query,we would like to sort our corpus documents in decreasing order of relevance to this query. Unlike modern search engines, here we only concentrate on a single aspect of possible similarities—on apparent semantic relatedness of their texts (words). No hyperlinks, no random-walk static ranks, just a semantic extension overthe boolean keyword match:"
   ]
  },
  {
   "cell_type": "markdown",
   "metadata": {},
   "source": [
    "   **LSI VIA TFIDF**"
   ]
  },
  {
   "cell_type": "code",
   "execution_count": null,
   "metadata": {},
   "outputs": [],
   "source": [
    "# LSI APPLIED ON TOP ON TFIDF\n",
    "index = similarities.MatrixSimilarity(lsi_from_TFIDF[TFIDF_APPLIED_TO_TRAINING_CORPUS]) # transform corpus to LSI space and index it"
   ]
  },
  {
   "cell_type": "code",
   "execution_count": null,
   "metadata": {},
   "outputs": [],
   "source": [
    "sims = index[new_vec_lsi_fromTFIDF] # perform a similarity query against the corpus BASED ON LSI - TDFIDF\n",
    "print(list(enumerate(sims))) # print (document_number, document_similarity) 2-tuples"
   ]
  },
  {
   "cell_type": "markdown",
   "metadata": {},
   "source": [
    "Cosine measure returns similarities in the range <-1, 1> (the greater, the more similar), so that the first document has a score of 0.99809301 etc.\n",
    "\n",
    "With some standard Python magic we sort these similarities into descending order, and obtain the final answer to the query for Sellafield PPP:"
   ]
  },
  {
   "cell_type": "code",
   "execution_count": null,
   "metadata": {},
   "outputs": [],
   "source": [
    "sims = sorted(enumerate(sims), key=lambda item: -item[1])\n",
    "print(sims) # print sorted (document number, similarity score) 2-tuples"
   ]
  },
  {
   "cell_type": "code",
   "execution_count": null,
   "metadata": {},
   "outputs": [],
   "source": [
    "#Most like\n",
    "print (Corpus_of_Summaries[15])"
   ]
  },
  {
   "cell_type": "code",
   "execution_count": null,
   "metadata": {},
   "outputs": [],
   "source": [
    "print (Corpus_of_Summaries[12])"
   ]
  },
  {
   "cell_type": "code",
   "execution_count": null,
   "metadata": {},
   "outputs": [],
   "source": [
    "print (Corpus_of_Summaries[9])"
   ]
  },
  {
   "cell_type": "code",
   "execution_count": null,
   "metadata": {},
   "outputs": [],
   "source": [
    "#Least like\n",
    "print (Corpus_of_Summaries[11])"
   ]
  },
  {
   "cell_type": "code",
   "execution_count": null,
   "metadata": {},
   "outputs": [],
   "source": [
    "print (Corpus_of_Summaries[10])"
   ]
  },
  {
   "cell_type": "markdown",
   "metadata": {},
   "source": [
    "   **TFIDF ONLY**"
   ]
  },
  {
   "cell_type": "code",
   "execution_count": null,
   "metadata": {},
   "outputs": [],
   "source": [
    "#Now the same but with TFIDF model\n",
    "index = similarities.MatrixSimilarity(TFIDF_APPLIED_TO_TRAINING_CORPUS)\n",
    "new_vec_TFIDF = TFIDF_MODEL[new_vec_CBOW] # convert the query to LSI space (based on TFIDF)\n",
    "print(new_vec_TFIDF)  "
   ]
  },
  {
   "cell_type": "code",
   "execution_count": null,
   "metadata": {},
   "outputs": [],
   "source": [
    "sims = index[new_vec_TFIDF] \n",
    "print(list(enumerate(sims)))\n",
    "sims = sorted(enumerate(sims), key=lambda item: -item[1])\n",
    "print (\"\\n\")\n",
    "print (sims)"
   ]
  },
  {
   "cell_type": "markdown",
   "metadata": {},
   "source": [
    "\n",
    "**Using keywords into Neo4j concurrence...**\n"
   ]
  },
  {
   "cell_type": "markdown",
   "metadata": {},
   "source": [
    "# Acknowledgements\n",
    "\n",
    "This project relies extensively on the Gensim library, and the [examples](https://radimrehurek.com/gensim/auto_examples/index.html) provided by its creator Radim Hurek. I have done nothing more than apply a little of this to Portfolio management. The examples cited above would be the best way to get a full introduction to the capabilities of Gensim\n",
    "\n",
    "\n",
    "@inproceedings{rehurek_lrec,\n",
    "      title = {{Software Framework for Topic Modelling with Large Corpora}},\n",
    "      author = {Radim {\\v R}eh{\\r u}{\\v r}ek and Petr Sojka},\n",
    "      booktitle = {{Proceedings of the LREC 2010 Workshop on New\n",
    "           Challenges for NLP Frameworks}},\n",
    "      pages = {45--50},\n",
    "      year = 2010,\n",
    "      month = May,\n",
    "      day = 22,\n",
    "      publisher = {ELRA},\n",
    "      address = {Valletta, Malta},\n",
    "      note={\\url{http://is.muni.cz/publication/884893/en}},\n",
    "      language={English}\n",
    "}"
   ]
  }
 ],
 "metadata": {
  "kernelspec": {
   "display_name": "Python 3",
   "language": "python",
   "name": "python3"
  },
  "language_info": {
   "codemirror_mode": {
    "name": "ipython",
    "version": 3
   },
   "file_extension": ".py",
   "mimetype": "text/x-python",
   "name": "python",
   "nbconvert_exporter": "python",
   "pygments_lexer": "ipython3",
   "version": "3.8.3"
  }
 },
 "nbformat": 4,
 "nbformat_minor": 4
}
