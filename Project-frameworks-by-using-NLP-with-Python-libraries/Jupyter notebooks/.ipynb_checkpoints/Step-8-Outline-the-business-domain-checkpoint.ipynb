{
 "cells": [
  {
   "cell_type": "markdown",
   "metadata": {},
   "source": [
    "# Outline the business domain\n",
    "\n",
    "## Overview\n",
    " Step 7 has built a knowledge-graph-from-keywords. Now we use the knowledge graph to understand the business domain covered by the document library we are looking at. In consultation with the portfolio stakeholders, and domain experts, we can modify the knowledge-graph to reflect a sensible way of handling the business domain. \n",
    " \n",
    "The immediate output is either:\n",
    " - a knowledge graph, which can handle multiple views or facets reflecting different stakeholder understanding\n",
    " \n",
    " or\n",
    " \n",
    "- tree data structure, cut down from the knowledge graph, that reflects one convergent, dominating knowledge structure suitable for organising portfolio services in this business domain. \n",
    "\n",
    "## Installation\n",
    "\n",
    "Check installation has been made, as per the [READme](https://github.com/lawrencerowland/Data-Model-for-Project-Frameworks/blob/master/Project-frameworks-by-using-NLP-with-Python-libraries/README.md)\n",
    "\n",
    "At this point you will need Neo4j (or you can do this in YEd or Gephi). \n",
    "\n",
    "## Prior steps\n",
    "Steps 5-7 minimum\n",
    "\n",
    "## How-to-use\n",
    "xx\n",
    "\n",
    "## Import Gensim"
   ]
  },
  {
   "cell_type": "code",
   "execution_count": null,
   "metadata": {},
   "outputs": [],
   "source": [
    "CALL apoc.import.graphml(\"https://raw.githubusercontent.com/lawrencerowland/Data-Model-for-Project-Frameworks/master/Project-frameworks-by-using-NLP-with-Python-libraries/Interim-results/Keyword-graph.graphml\",{storeNodeIds: true})"
   ]
  },
  {
   "cell_type": "code",
   "execution_count": null,
   "metadata": {},
   "outputs": [],
   "source": [
    "MATCH (n)\n",
    "SET n:keyword\n",
    "RETURN n.name, labels(n) AS labels"
   ]
  },
  {
   "cell_type": "markdown",
   "metadata": {},
   "source": [
    "See png.\n",
    "\n",
    "I look at the diagram and drag nodes around until I see a set of useful relationships to review with stakeholders.\n",
    "\n",
    "\n",
    "I see an Operating model comprising: Design <-> Process ,<->Operations\n",
    "\n",
    "I see a site which runs the Operating model. \n",
    "\n",
    "I see a set of 'requirements which are confirmed to be appropriate'   Safety, Security\n",
    "\n",
    "This is only one way of seeing things. Because I could also see how Operations/Operability sit in requirements. The good thing about knowledge graphs is that one can retain whichever relationships are helpful in the mind's eye of one or other of the stakeholders. But it is also sometimes needful to simplify, and so I go with Operations as being in business model. \n",
    "\n",
    "The nodes, 'requirements' and 'appropriate' have been useful in seeing this, but now I dont need them as separate nodes. \n",
    "\n",
    "So I first delete requirements and appropriate. \n",
    "\n",
    "MATCH (m) WHERE m.id='requir' OR m.id='appropri' DETACH DELETE (m)\n",
    "\n",
    "I label the categories of requirement as Requirement:\n",
    "MATCH (m) WHERE m.id='safe' OR m.id='secur' SET m:requirement RETURN (m)\n",
    "MATCH (m) WHERE m.id='oper'OR m.id='site'OR m.id='process' OR m.id='design' SET m:keyword:Opmodel RETURN (m)\n",
    "MATCH (m) WHERE m.id='site ' SET m:site RETURN (m)\n",
    "\n",
    "MATCH (m:keyword) REMOVE m:keyword RETURN (m)\n",
    "\n",
    "I can now handle nodes by their appropriate label, colouring and arranging them accordingly. \n",
    "\n",
    "CALL db has a png\n",
    "\n",
    "a final png\n",
    "\n",
    "(now need to do graphml export etc, and also go back through the various steps for file and directory locations\n"
   ]
  },
  {
   "cell_type": "code",
   "execution_count": null,
   "metadata": {},
   "outputs": [],
   "source": []
  }
 ],
 "metadata": {
  "kernelspec": {
   "display_name": "Python 3",
   "language": "python",
   "name": "python3"
  },
  "language_info": {
   "codemirror_mode": {
    "name": "ipython",
    "version": 3
   },
   "file_extension": ".py",
   "mimetype": "text/x-python",
   "name": "python",
   "nbconvert_exporter": "python",
   "pygments_lexer": "ipython3",
   "version": "3.8.3"
  }
 },
 "nbformat": 4,
 "nbformat_minor": 4
}
