{
 "cells": [
  {
   "cell_type": "markdown",
   "metadata": {},
   "source": [
    "Import PDF"
   ]
  },
  {
   "cell_type": "code",
   "execution_count": null,
   "metadata": {},
   "outputs": [],
   "source": [
    "#after installing pdfminer.six\n",
    "#move samples folder from my Data folder\n",
    "#using pdfminer.high_level.extract_text(pdf_file, password='', page_numbers=None,\n",
    "# maxpages=0, caching=True, codec='utf-8', laparams=None"
   ]
  },
  {
   "cell_type": "code",
   "execution_count": null,
   "metadata": {},
   "outputs": [],
   "source": [
    "from pdfminer.high_level import extract_text"
   ]
  },
  {
   "cell_type": "markdown",
   "metadata": {},
   "source": [
    "## Point to the library with the text files"
   ]
  },
  {
   "cell_type": "code",
   "execution_count": null,
   "metadata": {},
   "outputs": [],
   "source": [
    "import os\n",
    "directory = '/Users/lawrence/' # adjust this for your folder of pdfs\n",
    "print (os.listdir(directory))"
   ]
  },
  {
   "cell_type": "code",
   "execution_count": null,
   "metadata": {},
   "outputs": [],
   "source": [
    "for filename in os.listdir(directory):\n",
    "    if filename.endswith(\".pdf\"):\n",
    "\n",
    "        print (filename)\n",
    "        text=extract_text(filename)\n",
    "        #text=strip_multiple_whitespaces(text)  #may wish to turn this off for readability\n",
    "        ##create text file and open it for writing\n",
    "        #\"w\" letter in our argument, which indicates write and will create a file if it does not exist in library\n",
    "        #Plus sign indicates both read and write.\n",
    "        #The available option beside \"w\" are, \"r\" for read, and \"a\" for append\n",
    "        f= open(filename+\".txt\",\"w+\") \n",
    "        f.write(filename+\"\\n\"+text)\n",
    "        f.close()"
   ]
  }
 ],
 "metadata": {
  "kernelspec": {
   "display_name": "Python 3",
   "language": "python",
   "name": "python3"
  },
  "language_info": {
   "codemirror_mode": {
    "name": "ipython",
    "version": 3
   },
   "file_extension": ".py",
   "mimetype": "text/x-python",
   "name": "python",
   "nbconvert_exporter": "python",
   "pygments_lexer": "ipython3",
   "version": "3.8.3"
  }
 },
 "nbformat": 4,
 "nbformat_minor": 4
}
