{
 "cells": [
  {
   "cell_type": "markdown",
   "metadata": {},
   "source": [
    "# Import PDFs from Portfolio library\n",
    "\n",
    "## Install pdfminer.six\n",
    "\n",
    "## Import modules"
   ]
  },
  {
   "cell_type": "code",
   "execution_count": 12,
   "metadata": {},
   "outputs": [],
   "source": [
    "#hide\n",
    "from pdfminer.high_level import extract_text\n",
    "import os"
   ]
  },
  {
   "cell_type": "markdown",
   "metadata": {},
   "source": [
    "## Point to the library where your portfolio pdf files are\n",
    "Otherwise,to re-run the nuclear example,just adjust the directory to reflect local User structure"
   ]
  },
  {
   "cell_type": "code",
   "execution_count": null,
   "metadata": {},
   "outputs": [],
   "source": [
    "#hide\n",
    "directory = '/Users/lawrence/Documents/GitHub/Data-Model-for-Project-Frameworks/Nuclear-project-data-for-use-in-generating-example-frameworks' \n",
    "print (os.listdir(directory))"
   ]
  },
  {
   "cell_type": "markdown",
   "metadata": {},
   "source": [
    "## Open pdf file, open text file, write in the text extracted"
   ]
  },
  {
   "cell_type": "code",
   "execution_count": null,
   "metadata": {},
   "outputs": [],
   "source": [
    "for filename in os.listdir(directory):\n",
    "    if filename.endswith(\".pdf\"):\n",
    "\n",
    "        print (filename)\n",
    "        \n",
    "        f= open(directory+'/'+filename+\".txt\",\"w+\") \n",
    "        \n",
    "        text=extract_text(directory+'/'+filename)\n",
    "        \n",
    "        f.write(filename+\"\\n\"+text)\n",
    "        f.close()"
   ]
  },
  {
   "cell_type": "code",
   "execution_count": null,
   "metadata": {},
   "outputs": [],
   "source": [
    "#hide\n",
    "# text=strip_multiple_whitespaces(text)  # Option to add after extract_text line\n",
    "#\"w\" letter indicates write and will create a file if it does not exist in library\n",
    "# Plus sign indicates both read and write.\n",
    "# The available option beside \"w\" are, \"r\" for read, and \"a\" for append\n",
    "# Other options: password='', page_numbers=None, maxpages=0, caching=True, codec='utf-8', laparams=None"
   ]
  },
  {
   "cell_type": "code",
   "execution_count": null,
   "metadata": {},
   "outputs": [],
   "source": [
    "# Python program to explain shutil.move() method \n",
    "\t\n",
    "# importing os module \n",
    "import os \n",
    "\n",
    "# importing shutil module \n",
    "import shutil \n",
    "\n",
    "# path \n",
    "path = 'C:/Users/Rajnish/Desktop/GeeksforGeeks'\n",
    "\n",
    "# List files and directories \n",
    "# in 'C:/Users/Rajnish/Desktop/GeeksforGeeks' \n",
    "print(\"Before moving file:\") \n",
    "print(os.listdir(path)) \n",
    "\n",
    "\n",
    "# Source path \n",
    "source = 'C:/Users/Rajnish/Desktop/GeeksforGeeks/source'\n",
    "\n",
    "# Destination path \n",
    "destination = 'C:/Users/Rajnish/Desktop/GeeksforGeeks/destination'\n",
    "\n",
    "# Move the content of \n",
    "# source to destination \n",
    "dest = shutil.move(source, destination) \n",
    "\n",
    "# List files and directories \n",
    "# in \"C:/Users / Rajnish / Desktop / GeeksforGeeks\" \n",
    "print(\"After moving file:\") \n",
    "print(os.listdir(path)) \n",
    "\n",
    "# Print path of newly \n",
    "# created file \n",
    "print(\"Destination path:\", dest) \n",
    "\n"
   ]
  }
 ],
 "metadata": {
  "kernelspec": {
   "display_name": "Python 3",
   "language": "python",
   "name": "python3"
  },
  "language_info": {
   "codemirror_mode": {
    "name": "ipython",
    "version": 3
   },
   "file_extension": ".py",
   "mimetype": "text/x-python",
   "name": "python",
   "nbconvert_exporter": "python",
   "pygments_lexer": "ipython3",
   "version": "3.8.3"
  }
 },
 "nbformat": 4,
 "nbformat_minor": 4
}
