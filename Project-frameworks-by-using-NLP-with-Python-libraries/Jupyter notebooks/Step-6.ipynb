{
 "cells": [
  {
   "cell_type": "markdown",
   "metadata": {},
   "source": [
    "# Step 6 Create keywords for whole corpus"
   ]
  },
  {
   "cell_type": "markdown",
   "metadata": {},
   "source": [
    "## Overview\n",
    "This can be adjusted to allow for number of words returned, and to specify how to treat keywords with similar stems. \n",
    "\n",
    "\n",
    "# How-to-use\n",
    "\n",
    "## Installation\n",
    "\n",
    "Check installation has been made, as per the [READme](https://github.com/lawrencerowland/Data-Model-for-Project-Frameworks/blob/master/Project-frameworks-by-using-NLP-with-Python-libraries/README.md)\n",
    "\n",
    "## Prior steps\n",
    "Steps 1-4 are optional. \n",
    "Step 5 is required. "
   ]
  },
  {
   "cell_type": "markdown",
   "metadata": {},
   "source": [
    "## Import Gensim\n",
    "The code is provided for the specific modules to be imported"
   ]
  },
  {
   "cell_type": "code",
   "execution_count": 1,
   "metadata": {},
   "outputs": [
    {
     "name": "stderr",
     "output_type": "stream",
     "text": [
      "unable to import 'smart_open.gcs', disabling that module\n"
     ]
    }
   ],
   "source": [
    "#hide\n",
    "import gensim\n",
    "from gensim.summarization import summarize\n",
    "from gensim.summarization import keywords\n",
    "from gensim.summarization.keywords import get_graph\n",
    "from gensim.summarization import mz_keywords\n",
    "import networkx as nx\n",
    "import matplotlib as plt\n",
    "import pandas as pd  \n",
    "# Note that Smart_open.gcs may not import successfully depending on Gensim set up. This doesnt matter. "
   ]
  },
  {
   "cell_type": "markdown",
   "metadata": {},
   "source": [
    "# Open the Interim results folder"
   ]
  },
  {
   "cell_type": "code",
   "execution_count": 3,
   "metadata": {},
   "outputs": [],
   "source": [
    "#hide\n",
    "import os\n",
    "directory= \"/Users/lawrence/Documents/GitHub/Data-Model-for-Project-Frameworks/Project-frameworks-by-using-NLP-with-Python-libraries/Interim-results/\"\n",
    "# Change directory location for your particular set-up.\n",
    "\n",
    "with open(os.path.join(directory,'Corpus_as_one_string.txt')) as f:\n",
    "    Corpus_as_one_string=f.read()\n",
    "    f.close()"
   ]
  },
  {
   "cell_type": "markdown",
   "metadata": {},
   "source": [
    "# List-showing-relative-prominence of these words\n",
    "This is a more complete analysis than just summing the keywords produced in Step 4, due to network effects. \n",
    "Select the number of words required. "
   ]
  },
  {
   "cell_type": "code",
   "execution_count": 4,
   "metadata": {},
   "outputs": [],
   "source": [
    "Keywords_for_whole_corpus=keywords(Corpus_as_one_string, words=10, scores=True, lemmatize=False, deacc=False)\n",
    "# Other options are split=False, pos_filter=('NN', 'JJ')"
   ]
  },
  {
   "cell_type": "code",
   "execution_count": 27,
   "metadata": {
    "scrolled": true
   },
   "outputs": [
    {
     "name": "stdout",
     "output_type": "stream",
     "text": [
      "            Keyword     Score\n",
      "0         including  0.210081\n",
      "1           include  0.210081\n",
      "2          includes  0.210081\n",
      "3          included  0.210081\n",
      "4            safety  0.164034\n",
      "5          designed  0.156455\n",
      "6            design  0.156455\n",
      "7          designer  0.156455\n",
      "8         designers  0.156455\n",
      "9           designs  0.156455\n",
      "10        designing  0.156455\n",
      "11       designated  0.156455\n",
      "12         requires  0.153492\n",
      "13         required  0.153492\n",
      "14     requirements  0.153492\n",
      "15          require  0.153492\n",
      "16      requirement  0.153492\n",
      "17        requiring  0.153492\n",
      "18              onr  0.142315\n",
      "19             onrs  0.142315\n",
      "20         operated  0.141524\n",
      "21      operational  0.141524\n",
      "22          operate  0.141524\n",
      "23        operation  0.141524\n",
      "24        operating  0.141524\n",
      "25        operators  0.141524\n",
      "26       operations  0.141524\n",
      "27       operatives  0.141524\n",
      "28         operator  0.141524\n",
      "29         operates  0.141524\n",
      "30      operability  0.141524\n",
      "31      appropriate  0.131349\n",
      "32    appropriately  0.131349\n",
      "33  appropriateness  0.131349\n",
      "34          process  0.126748\n",
      "35        processes  0.126748\n",
      "36       processing  0.126748\n",
      "37        processed  0.126748\n",
      "38         security  0.126236\n",
      "39         securely  0.126236\n",
      "40           secure  0.126236\n",
      "41          secured  0.126236\n",
      "42         securing  0.126236\n",
      "43             site  0.121795\n",
      "44            sites  0.121795\n",
      "45            sited  0.121795\n",
      "46           siting  0.121795\n"
     ]
    }
   ],
   "source": [
    "df = pd.DataFrame(Keywords_for_whole_corpus, columns =['Keyword', 'Score']) \n",
    "print(df)"
   ]
  },
  {
   "cell_type": "code",
   "execution_count": null,
   "metadata": {},
   "outputs": [],
   "source": [
    "# Create interim-results\n",
    "df.to_csv('Keywords_for_whole_corpus.csv', index=False)"
   ]
  },
  {
   "cell_type": "code",
   "execution_count": 31,
   "metadata": {},
   "outputs": [],
   "source": [
    "df=df.drop([0,2,3,5,7,8,9,10,11,13,14,15,16,17,18,19,20,21,23,24,25,26,27,28,29,30,32,33,35,36,37,38,39,41,42,44,45,46])"
   ]
  },
  {
   "cell_type": "code",
   "execution_count": 33,
   "metadata": {},
   "outputs": [
    {
     "data": {
      "text/html": [
       "<div>\n",
       "<style scoped>\n",
       "    .dataframe tbody tr th:only-of-type {\n",
       "        vertical-align: middle;\n",
       "    }\n",
       "\n",
       "    .dataframe tbody tr th {\n",
       "        vertical-align: top;\n",
       "    }\n",
       "\n",
       "    .dataframe thead th {\n",
       "        text-align: right;\n",
       "    }\n",
       "</style>\n",
       "<table border=\"1\" class=\"dataframe\">\n",
       "  <thead>\n",
       "    <tr style=\"text-align: right;\">\n",
       "      <th></th>\n",
       "      <th>Keyword</th>\n",
       "      <th>Score</th>\n",
       "    </tr>\n",
       "  </thead>\n",
       "  <tbody>\n",
       "    <tr>\n",
       "      <th>1</th>\n",
       "      <td>include</td>\n",
       "      <td>0.210081</td>\n",
       "    </tr>\n",
       "    <tr>\n",
       "      <th>4</th>\n",
       "      <td>safety</td>\n",
       "      <td>0.164034</td>\n",
       "    </tr>\n",
       "    <tr>\n",
       "      <th>6</th>\n",
       "      <td>design</td>\n",
       "      <td>0.156455</td>\n",
       "    </tr>\n",
       "    <tr>\n",
       "      <th>12</th>\n",
       "      <td>requires</td>\n",
       "      <td>0.153492</td>\n",
       "    </tr>\n",
       "    <tr>\n",
       "      <th>22</th>\n",
       "      <td>operate</td>\n",
       "      <td>0.141524</td>\n",
       "    </tr>\n",
       "    <tr>\n",
       "      <th>31</th>\n",
       "      <td>appropriate</td>\n",
       "      <td>0.131349</td>\n",
       "    </tr>\n",
       "    <tr>\n",
       "      <th>34</th>\n",
       "      <td>process</td>\n",
       "      <td>0.126748</td>\n",
       "    </tr>\n",
       "    <tr>\n",
       "      <th>40</th>\n",
       "      <td>secure</td>\n",
       "      <td>0.126236</td>\n",
       "    </tr>\n",
       "    <tr>\n",
       "      <th>43</th>\n",
       "      <td>site</td>\n",
       "      <td>0.121795</td>\n",
       "    </tr>\n",
       "  </tbody>\n",
       "</table>\n",
       "</div>"
      ],
      "text/plain": [
       "        Keyword     Score\n",
       "1       include  0.210081\n",
       "4        safety  0.164034\n",
       "6        design  0.156455\n",
       "12     requires  0.153492\n",
       "22      operate  0.141524\n",
       "31  appropriate  0.131349\n",
       "34      process  0.126748\n",
       "40       secure  0.126236\n",
       "43         site  0.121795"
      ]
     },
     "execution_count": 33,
     "metadata": {},
     "output_type": "execute_result"
    }
   ],
   "source": [
    "df"
   ]
  },
  {
   "cell_type": "code",
   "execution_count": 34,
   "metadata": {},
   "outputs": [],
   "source": [
    "df = df[::-1] # reversing order"
   ]
  },
  {
   "cell_type": "code",
   "execution_count": 35,
   "metadata": {},
   "outputs": [
    {
     "data": {
      "text/plain": [
       "<matplotlib.axes._subplots.AxesSubplot at 0x1235a70a0>"
      ]
     },
     "execution_count": 35,
     "metadata": {},
     "output_type": "execute_result"
    },
    {
     "data": {
      "image/png": "[encoded data removed]",
      "text/plain": [
       "<Figure size 432x288 with 1 Axes>"
      ]
     },
     "metadata": {
      "needs_background": "light"
     },
     "output_type": "display_data"
    }
   ],
   "source": [
    "df.plot(kind='barh', x='Keyword', y=\"Score\")"
   ]
  },
  {
   "cell_type": "code",
   "execution_count": 11,
   "metadata": {},
   "outputs": [],
   "source": [
    "#SAME-LIST-WITHOUT_SCORE-FOR-GRAPH\n",
    "Keywords_for_whole_corpus_noscore=keywords(Corpus_as_one_string, split=True,words=5, scores= False, lemmatize=False, deacc=False)"
   ]
  },
  {
   "cell_type": "code",
   "execution_count": null,
   "metadata": {},
   "outputs": [],
   "source": [
    "sorted(Keywords_for_whole_corpus_noscore)"
   ]
  }
 ],
 "metadata": {
  "kernelspec": {
   "display_name": "Python 3",
   "language": "python",
   "name": "python3"
  },
  "language_info": {
   "codemirror_mode": {
    "name": "ipython",
    "version": 3
   },
   "file_extension": ".py",
   "mimetype": "text/x-python",
   "name": "python",
   "nbconvert_exporter": "python",
   "pygments_lexer": "ipython3",
   "version": "3.8.3"
  }
 },
 "nbformat": 4,
 "nbformat_minor": 4
}
