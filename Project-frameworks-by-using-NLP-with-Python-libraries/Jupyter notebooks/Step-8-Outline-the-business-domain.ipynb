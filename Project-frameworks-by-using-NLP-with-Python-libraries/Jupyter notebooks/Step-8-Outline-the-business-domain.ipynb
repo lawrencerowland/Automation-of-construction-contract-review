{
 "cells": [
  {
   "cell_type": "markdown",
   "metadata": {},
   "source": [
    "# Outline the business domain\n",
    "\n",
    "## Overview\n",
    " Step 7 has built a knowledge-graph-from-keywords. Now we use the knowledge graph to understand the business domain covered by the document library we are looking at. In consultation with the portfolio stakeholders, and domain experts, we can modify the knowledge-graph to reflect a sensible way of handling the business domain. \n",
    " \n",
    "The immediate output is either:\n",
    " - a knowledge graph, which can handle multiple views or facets reflecting different stakeholder understanding\n",
    " \n",
    " or\n",
    " \n",
    "- tree data structure, cut down from the knowledge graph, that reflects one convergent, dominating knowledge structure suitable for organising portfolio services in this business domain. \n",
    "\n",
    "## Installation\n",
    "\n",
    "Check installation has been made, as per the [READme](https://github.com/lawrencerowland/Data-Model-for-Project-Frameworks/blob/master/Project-frameworks-by-using-NLP-with-Python-libraries/README.md)\n",
    "\n",
    "At this point you will need Neo4j (or you can do this in YEd or Gephi). \n",
    "\n",
    "## Prior steps\n",
    "Steps 5-7 minimum\n",
    "\n",
    "## How-to-use\n",
    "xx\n",
    "\n",
    "## Import Gensim"
   ]
  },
  {
   "cell_type": "code",
   "execution_count": null,
   "metadata": {},
   "outputs": [],
   "source": [
    "CALL apoc.import.graphml(\"https://raw.githubusercontent.com/lawrencerowland/Data-Model-for-Project-Frameworks/master/Project-frameworks-by-using-NLP-with-Python-libraries/Jupyter%20notebooks/Top_10_Keywords_ONR.graphml\",{storeNodeIds: true})"
   ]
  },
  {
   "cell_type": "code",
   "execution_count": null,
   "metadata": {},
   "outputs": [],
   "source": [
    "MATCH (n)\n",
    "SET n:keyword\n",
    "RETURN n.name, labels(n) AS labels"
   ]
  }
 ],
 "metadata": {
  "kernelspec": {
   "display_name": "Python 3",
   "language": "python",
   "name": "python3"
  },
  "language_info": {
   "codemirror_mode": {
    "name": "ipython",
    "version": 3
   },
   "file_extension": ".py",
   "mimetype": "text/x-python",
   "name": "python",
   "nbconvert_exporter": "python",
   "pygments_lexer": "ipython3",
   "version": "3.8.3"
  }
 },
 "nbformat": 4,
 "nbformat_minor": 4
}
