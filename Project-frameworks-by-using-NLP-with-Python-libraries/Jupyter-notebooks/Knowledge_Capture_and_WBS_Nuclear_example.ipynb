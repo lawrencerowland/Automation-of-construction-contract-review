{
 "cells": [
  {
   "cell_type": "markdown",
   "metadata": {},
   "source": [
    "# Tailoring a Project data model and WBS to a specialist area"
   ]
  },
  {
   "cell_type": "markdown",
   "metadata": {},
   "source": [
    "## INPUT: Technical Guides (ONR) for Nuclear sites &nbsp;&nbsp;&nbsp;+  &nbsp; &nbsp; &nbsp; Paper"
   ]
  },
  {
   "cell_type": "markdown",
   "metadata": {},
   "source": [
    "<img src=\"images/ONR_documents_as_library.png\" width=\"45%\"> <img src=\"images/2020-locatelli-cover.png\" width=\"45%\"/> "
   ]
  },
  {
   "cell_type": "markdown",
   "metadata": {},
   "source": [
    " <br />\n",
    " \n",
    "## OUTPUTS: &nbsp;&nbsp;&nbsp;&nbsp;&nbsp;&nbsp;&nbsp;&nbsp;Plan &nbsp;&nbsp;&nbsp;&nbsp;&nbsp;&nbsp;&nbsp;&nbsp;&nbsp;&nbsp;&nbsp; + &nbsp;&nbsp;&nbsp;&nbsp;&nbsp;&nbsp;&nbsp;&nbsp;&nbsp;&nbsp;&nbsp;&nbsp;&nbsp;&nbsp;&nbsp;&nbsp;&nbsp;&nbsp;&nbsp;&nbsp;&nbsp;&nbsp;&nbsp;&nbsp;&nbsp;&nbsp;&nbsp;&nbsp;&nbsp;&nbsp;&nbsp; &nbsp;&nbsp;&nbsp;&nbsp;&nbsp;&nbsp; WBS\n"
   ]
  },
  {
   "cell_type": "markdown",
   "metadata": {},
   "source": [
    "<img src=\"images/WBS_items_w_relationships.png\" width=\"55%\"> &nbsp;&nbsp;&nbsp;&nbsp;&nbsp;&nbsp;&nbsp; <img src=\"images/combined_graph_WBS_linear_view.png\" width=\"40%\">   "
   ]
  },
  {
   "cell_type": "markdown",
   "metadata": {},
   "source": [
    "| Project Activity                | Successor Project-Activities                                                                                                       |\n",
    "| ------------------------------- | ---------------------------------------------------------------------------------------------------------------------------------- |\n",
    "| \"set-up frequent info exchange\" | [\"Integrate with Ops\", \"Report regularly\"]                                                                                         |\n",
    "| \"Clarify waste routes\"          | [\"Integrate with Ops\"]                                                                                                             |\n",
    "| \"Know site conditions\"          | [\"Integrate with Ops\", \"Additional characterisation\", \"specification\", \"Clarify waste routes\", \"Clear end state\", \"Knowledge mgt\"] |\n",
    "| \"Report regularly\"              | [\"exploit pilot projects\", \"Set up control measures\"]                                                                              |\n",
    "| \"plan early\"                    | [\"exploit pilot projects\", \"Report regularly\", \"Group as programmes\", \"Qualified resources\"]                                       |\n",
    "| \"exploit pilot projects\"        | [\"Define interim states\", \"Group as programmes\"]                                                                                   |\n",
    "| \"Systems view\"                  | [\"Define interim states\", \"Clear end state\"]                                                                                       |\n",
    "| \"Clear end state\"               | [\"Define interim states\"]                                                                                                          |\n",
    "| \"Find specialized resource\"     | [\"Commission Decom equipment\"]                                                                                                     |\n",
    "| \"DeCom design\"                  | [\"Commission Decom equipment\", \"DeCom process\"]                                                                                    |\n",
    "| \"Knowledge mgt\"                 | [\"Additional characterisation\"]                                                                                                    |\n",
    "| \"Commission Decom equipment\"    | [\"Decommission\"]                                                                                                                   |\n",
    "| \"Set up control measures\"       | [\"Decommission\"]                                                                                                                   |\n",
    "| \"DeCom process\"                 | [\"Decommission\"]                                                                                                                   |\n",
    "| \"Storage availability\"          | [\"Probablistic Safety Assessment\", \"Clarify waste routes\", \"Clear end state\"]                                                      |\n",
    "| \"Fund regulation change\"        | [\"Appreciate change\", \"Authority relationships\", \"Stable funding\", \"seek co-location w Authority\"]                                 |\n",
    "| \"Define interim states\"         | [\"Appreciate change\", \"Set up control measures\", \"specification\", \"Group as programmes\", \"DeCom design\"]                           |\n",
    "| \"Find PM experience\"            | [\"DeCom process\", \"Find specialized resource\"]                                                                                     |\n",
    "| \"Integrate with Ops\"            | [\"Systems view\"]                                                                                                                   |\n",
    "| \"Additional characterisation\"   | [\"Clarify waste routes\"]                                                                                                           |\n",
    "| \"Stable funding\"                | [\"Authority relationships\"]                                                                                                        |\n",
    "| \"Authority relationships\"       | [\"plan early\", \"set-up frequent info exchange\", \"seek co-location w Authority\"]                                                    |\n",
    "| \"seek co-location w Authority\"  | [\"set-up frequent info exchange\"]                                                                                                  |\n",
    "| \"Qualified resources\"           | [\"Find specialized resource\", \"Find PM experience\"]                                                                                |\n",
    "| \"Group as programmes\"           | [\"Find PM experience\"]                                                                                                             |\n",
    "| \"Appreciate change\"             | [\"DeCom design\"]                                                                                                                   |\n",
    "| \"specification\"                 | [\"DeCom design\"]                                                                                                                   |"
   ]
  },
  {
   "cell_type": "markdown",
   "metadata": {},
   "source": [
    " <br />\n",
    " \n",
    "## MORE OUTPUTS: Document list &nbsp;+  Document relationships"
   ]
  },
  {
   "cell_type": "markdown",
   "metadata": {},
   "source": [
    "\n",
    "<img src=\"images/Project_document_list.png\" width=\"25%\"> &nbsp; &nbsp; &nbsp;<img src=\"images/documents_organic_view.png\" width=\"70%\">\n"
   ]
  },
  {
   "cell_type": "markdown",
   "metadata": {},
   "source": [
    " <br />\n",
    " <br />\n",
    "\n",
    "## MORE OUTPUTS: Project Strategy slices and Strategy Table of Contents "
   ]
  },
  {
   "cell_type": "markdown",
   "metadata": {},
   "source": [
    "\n",
    "<img src=\"images/2-hop-view-partial-for-waste-routes.png\" width=\"65%\"> &nbsp; &nbsp; &nbsp;<img src=\"images/strategic-view.png\" width=\"30%\">"
   ]
  },
  {
   "cell_type": "markdown",
   "metadata": {},
   "source": [
    "## MORE OUTPUTS: Project Data model\n",
    "\n",
    "| Work-package feature           | Work-package 1 | Work-package 2 |\n",
    "| ------------------------------ | -------------- | -------------- |\n",
    "| Facilities affected            |                |                |\n",
    "| Waste type, mass, and location |                |                |\n",
    "| Radioactivity                  |                |                |\n",
    "|                                |                |                |\n",
    "| Relevant regulations           |                |                |\n",
    "| Related specification          |                |                |\n",
    "|                                |                |                |\n",
    "| Licensee                       |                |                |\n",
    "| Related Dutyholders            |                |                |\n",
    "| Supply chain list to date      |                |                |\n",
    "| Local Community Groups         |                |                |\n",
    "|                                |                |                |\n",
    "| Agreed ALARP level             |                |                |\n",
    "| Safety performance             |                |                |\n",
    "| Resilience score               |                |                |\n",
    "| Security performance           |                |                |"
   ]
  },
  {
   "cell_type": "markdown",
   "metadata": {},
   "source": [
    " <br />\n",
    " <br />\n",
    " <br />\n",
    " <br />\n",
    " <br />\n",
    " \n",
    " ## ONR Technical library --AUTO--> Keywords + Keyword relationships"
   ]
  },
  {
   "cell_type": "markdown",
   "metadata": {},
   "source": [
    "<img src=\"images/ONR_documents_as_library.png\" width=\"15%\"><img src=\"images/gensim.png\" width=\"15%\"> <img src=\"images/Keywords-for-whole-library.png\" width=\"45%\"> \n",
    "\n"
   ]
  },
  {
   "cell_type": "markdown",
   "metadata": {},
   "source": [
    "## Select useful keyword relationships  "
   ]
  },
  {
   "cell_type": "markdown",
   "metadata": {},
   "source": [
    "<img src=\"images/graph-schema-2.png\" width=\"30%\"><img src=\"images/neo4j.png\" width=\"10%\"><img src=\"images/knowledge-graph-2.png\" width=\"30%\">"
   ]
  },
  {
   "cell_type": "markdown",
   "metadata": {},
   "source": [
    "## Add back in lower-scoring keywords\n",
    "<img src=\"images/Keyword-graph-3.png\" width=\"60%\">"
   ]
  },
  {
   "cell_type": "markdown",
   "metadata": {},
   "source": [
    "<br />\n",
    " <br />\n",
    " <br />\n",
    " <br />\n",
    " <br />\n",
    " <br />\n",
    " <br />\n",
    " <br />\n",
    " <br />\n",
    " <br />\n",
    " \n",
    " ## Topic model"
   ]
  },
  {
   "cell_type": "markdown",
   "metadata": {},
   "source": [
    "### Paper\n",
    "Success criteria were taken from the paper. \n",
    "- extraction focussed on success factors for DeCom that were contributed by the paper\n",
    "\n",
    "| Success factor            | Description                                         |\n",
    "| ------------------------- | --------------------------------------------------- |\n",
    "| \"Know site conditions\"    | \"detailed knowledge of the site conditions\"         |\n",
    "| \"Authority relationships\" | \"good relationship with the regulatory authorities\" |\n",
    "| \"Storage availability\"    | \"the availability of storage facilities\"            |\n",
    "| \"Clear end state\"         | \"Clear site end state permits scope definition\"     |\n",
    "| \"Stable funding\"          | \"Stable funding\"                                    |\n",
    "| \"plan early\"              | \"It’s a plan that goes from cradle to grave!\"       |\n",
    "| \"Qualified resources\"     | \"The availability of suitably qualified resources\"  |"
   ]
  },
  {
   "cell_type": "markdown",
   "metadata": {},
   "source": [
    "Where the paper proposed project tasks in line with the success factor these were recorded. "
   ]
  },
  {
   "cell_type": "markdown",
   "metadata": {},
   "source": [
    "| Project_Service                 | Description                                                                                                                                                                                                                                                                                                                                                                                                                                                                                                                               |\n",
    "| ------------------------------- | ----------------------------------------------------------------------------------------------------------------------------------------------------------------------------------------------------------------------------------------------------------------------------------------------------------------------------------------------------------------------------------------------------------------------------------------------------------------------------------------------------------------------------------------- |\n",
    "| \"Appreciate change\"   | (interpreted as change to the site, as well as to project context)                                                                                                                                                                                                                                                                                                                                                                                                                                                                                                                      |\n",
    "| \"Systems view\"   | Take a systems view                                                                                                                                                                                                                                                                                                                                                                                                                                                                                                                       |\n",
    "| \"Additional characterisation\"   | \"Characterise NDPs\"                                                                                                                                                                                                                                                                                                                                                                                                                                                                                                                       |\n",
    "| \"Fund regulation change\"        | \"If additional fund- ing to deal with these changes is not readily available, the overall NDP performance might be affected\"                                                                                                                                                                                                                                                                                                                                                                                                              |\n",
    "| \"Find specialized resource\"     | \"Many many of our projects that you look at, you’ll notice that there is a key resource missing!”. Interviewees referred to specific resources needed for a specialized piece of work, such as resources special- ized in high-voltage welding and trained to work on nuclear sites.\"                                                                                                                                                                                                                                                     |\n",
    "| \"Knowledge mgt\"                 | \"best practices in knowledge and information management\"                                                                                                                                                                                                                                                                                                                                                                                                                                                                                  |\n",
    "| \"Clarify waste routes\"          | \"clarity regarding the waste routes and about the availability of storage and dis- posal facilities\"                                                                                                                                                                                                                                                                                                                                                                                                                                      |\n",
    "| \"set-up frequent info exchange\" | \"continuous exchange with the regulatory body. And then, concerning the relationship with the regulator, I would not only say the exchange of information, monthly or weekly\"                                                                                                                                                                                                                                                                                                                                                             |\n",
    "| \"Define interim states\"         | \"imited clarity of the end state hinders the progress of the NDP, and as one inter- viewee explained: “it is really important that this is clear! [...] getting a better definition for the different phases. So, what is ‘Care & Maintenance’ going to look like, what is final state going to look like. And I think you want to put more thoughts in site clearance...but those seem so far away”.\"                                                                                                                                    |\n",
    "| \"Integrate with Ops\"            | \"integration between decommissioning projects and radioactive waste management operations is still needed. This is particularly true when a change in regulation occurs\"                                                                                                                                                                                                                                                                                                                                                                  |\n",
    "| \"Find PM experience\"            | \"the lack of project management experience, expressing frustration, e.g. by stating that one of the most critical NDP characteristics is “the capability of actually executing the plan and sticking to it..\"                                                                                                                                                                                                                                                                                                                             |\n",
    "| \"seek co-location w Authority\"  | \"the presence of the regulatory body on the site, \"                                                                                                                                                                                                                                                                                                                                                                                                                                                                                       |\n",
    "| \"exploit pilot projects\"        | \"“programme-based” approach during project planning, i.e. the manage- ment of NDPs in different locations, promoting the sharing of lessons learned across NDPs, was also men- tioned. One interviewee, for instance, explained: “There was a ‘programmized’ approach that every kind of site adopted and actually is greatly received .. adopting generic design for similar projects across the programme. .\"                                                                                                                           |\n",
    "| \"Group as programmes\"           | \"“programme-based” approach during project planning, i.e. the manage- ment of NDPs in different locations, promoting the sharing of lessons learned across NDPs, was also men- tioned. One interviewee, for instance, explained: “There was a ‘programmized’ approach that every kind of site adopted and actually is greatly received [ ... ]. A project that I worked for, the waste programme, we are already anticipating some significant savings as a result of adopting generic design for similar projects across the programme.\" |\n",
    "                                                                                                                                                                                                                                                                                                                                                                                                                                                                                                                                                                                                                       |"
   ]
  },
  {
   "cell_type": "markdown",
   "metadata": {},
   "source": [
    "\n",
    "\n",
    "Whilst reviewing the results as a graph, several other likely project tasks were added:\n",
    " "
   ]
  },
  {
   "cell_type": "markdown",
   "metadata": {},
   "source": [
    "| Project_Services             |\n",
    "| ---------------------------- |\n",
    "| \"Commission Decom equipment\" |\n",
    "| \"Report regularly\"           |\n",
    "| \"Decommission\"               |\n",
    "| \"DeCom process\"              |\n",
    "| \"Set up control measures\"    |\n",
    "| \"DeCom design\"               |"
   ]
  },
  {
   "cell_type": "markdown",
   "metadata": {},
   "source": [
    "## List of Project Services\n",
    "\n",
    "- These services are recommended by the paper. \n"
   ]
  },
  {
   "cell_type": "markdown",
   "metadata": {},
   "source": [
    "| Success Factor            | Project Services supporting that Success Factor                                                                                    |\n",
    "| ------------------------- | ---------------------------------------------------------------------------------------------------------------------------------- |\n",
    "| \"Know site conditions\"    | [\"specification\", \"Integrate with Ops\", \"Clarify waste routes\", \"Additional characterisation\", \"Knowledge mgt\", \"Clear end state\"] |\n",
    "| \"Authority relationships\" | [\"plan early\", \"set-up frequent info exchange\", \"seek co-location w Authority\", \"Stable funding\", \"Fund regulation change\"]        |\n",
    "| \"Storage availability\"    | [\"Probablistic Safety Assessment\", \"Clarify waste routes\", \"Clear end state\"]                                                      |\n",
    "| \"Clear end state\"         | [\"Systems view\", \"Define interim states\", \"Know site conditions\", \"Storage availability\"]                                          |\n",
    "| \"Stable funding\"          | [\"Fund regulation change\", \"Authority relationships\"]                                                                              |\n",
    "| \"plan early\"              | [\"Qualified resources\", \"Authority relationships\", \"Report regularly\", \"Group as programmes\", \"exploit pilot projects\"]            |\n",
    "| \"Qualified resources\"     | [\"plan early\", \"Find PM experience\", \"Find specialized resource\"]                                                                  |\n",
    "| (none identified)         | [\"Commission Decom equipment\", \"Decommission\", \"Appreciate change\", \"DeCom process\", \"Set up control measures\", \"DeCom design\"]    |"
   ]
  },
  {
   "cell_type": "markdown",
   "metadata": {},
   "source": [
    "### Project Data model\n",
    "\n",
    "What attributes should be recorded and tracked for each work-package?\n",
    "\n",
    "- This will normally come from the project framework that has been chosen and the Enterprise Project Management system which is being used. \n",
    "\n",
    "- This exercise has highlighted a number of features relevant to successful DeCom projects within an ONR environment.\n",
    "\n",
    "1. These are taken from the graph database by running a query asking for every requirement or site-element that is directly related to any of the Project services.\n",
    "\n",
    "2. This produces Column 1, from which we define the relevant work-package characteristic we should know throughout the project (see Column 2)\n",
    "\n",
    "3. We recommend that these features be considered for inclusion in any lists and reports per Work-package. This work-package list may be an Excel sheet, or in Power BI or in an EPM system, or SQL database"
   ]
  },
  {
   "cell_type": "markdown",
   "metadata": {},
   "source": [
    "| Requirements and site directly related to Project Services | Features to be added to Work-package descriptions |\n",
    "| ---------------------------------------------------------- | ------------------------------------------------- |\n",
    "| \"waste\"                                                    | Waste type, mass, and location                    |\n",
    "| \"Dutyholder\"                                               | Related Dutyholders                               |\n",
    "| \"radioactive\"                                              | Radioactivity                                     |\n",
    "| \"licensee\"                                                 | Licensee                                          |\n",
    "| \"End-of-life facility\"                                     | Facilities affected                               |\n",
    "| \"Community\"                                                | Local Community Groups                            |\n",
    "| \"Supply-chain\"                                             | Supply chain list to date                         |\n",
    "| \"regulation\"                                               | Relevant regulations                              |\n",
    "| \"resilience\"                                               | Resilience score                                  |\n",
    "| \"ALARP\"                                                    | Agreed ALARP level                                |\n",
    "| \"safe\"                                                     | Safety performance                                |\n",
    "| \"specification\"                                            | Related specification                             |\n",
    "| \"security\"                                                 | Security performance                              |"
   ]
  }
 ],
 "metadata": {
  "kernelspec": {
   "display_name": "Python 3",
   "language": "python",
   "name": "python3"
  },
  "language_info": {
   "codemirror_mode": {
    "name": "ipython",
    "version": 3
   },
   "file_extension": ".py",
   "mimetype": "text/x-python",
   "name": "python",
   "nbconvert_exporter": "python",
   "pygments_lexer": "ipython3",
   "version": "3.7.4"
  }
 },
 "nbformat": 4,
 "nbformat_minor": 4
}
