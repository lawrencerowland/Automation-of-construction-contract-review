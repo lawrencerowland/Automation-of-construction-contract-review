{
 "cells": [
  {
   "cell_type": "markdown",
   "metadata": {},
   "source": [
    "# Tailoring a Project data model and WBS to a specialist area"
   ]
  },
  {
   "cell_type": "markdown",
   "metadata": {},
   "source": [
    "## INPUT: Library + Paper\n",
    "\n",
    "\n",
    "16 Technical Guides from ONR for Nuclear sites"
   ]
  },
  {
   "cell_type": "markdown",
   "metadata": {},
   "source": [
    "<img src=\"images/ONR_documents_as_library.png\" width=\"45%\"> <img src=\"images/2020-locatelli-cover.png\" width=\"45%\"/> "
   ]
  },
  {
   "cell_type": "markdown",
   "metadata": {},
   "source": [
    " <br />\n",
    " <br />\n",
    " <br />\n",
    " <br />\n",
    " <br />\n",
    "\n",
    "## OUTPUT: Data model + WBS\n"
   ]
  },
  {
   "cell_type": "markdown",
   "metadata": {},
   "source": [
    " <br />\n",
    " <br />\n",
    " <br />\n",
    " <br />\n",
    " <br />\n",
    " \n",
    " ## ONR Technical library --AUTO--> Keywords + Keyword relationships"
   ]
  },
  {
   "cell_type": "markdown",
   "metadata": {},
   "source": [
    "<img src=\"images/ONR_documents_as_library.png\" width=\"15%\"><img src=\"images/gensim.png\" width=\"15%\"> <img src=\"images/Keywords-for-whole-library.png\" width=\"30%\"> <img src=\"images/Knowledge-graph-from-keywords-1.png\" width=\"30%\">\n",
    "\n"
   ]
  },
  {
   "cell_type": "markdown",
   "metadata": {},
   "source": [
    "## Select useful keyword relationships  "
   ]
  },
  {
   "cell_type": "markdown",
   "metadata": {},
   "source": [
    "<img src=\"images/graph-schema-2.png\" width=\"30%\"><img src=\"images/neo4j.png\" width=\"10%\"><img src=\"images/knowledge-graph-2.png\" width=\"30%\">"
   ]
  },
  {
   "cell_type": "markdown",
   "metadata": {},
   "source": [
    "## Add back in lower-scoring keywords\n",
    "<img src=\"images/Keyword-graph-3.png\" width=\"60%\">"
   ]
  },
  {
   "cell_type": "markdown",
   "metadata": {},
   "source": [
    "<br />\n",
    " <br />\n",
    " <br />\n",
    " <br />\n",
    " <br />\n",
    " <br />\n",
    " <br />\n",
    " <br />\n",
    " <br />\n",
    " <br />\n",
    " \n",
    " ## Topic model"
   ]
  },
  {
   "cell_type": "code",
   "execution_count": null,
   "metadata": {},
   "outputs": [],
   "source": []
  }
 ],
 "metadata": {
  "kernelspec": {
   "display_name": "Python 3",
   "language": "python",
   "name": "python3"
  },
  "language_info": {
   "codemirror_mode": {
    "name": "ipython",
    "version": 3
   },
   "file_extension": ".py",
   "mimetype": "text/x-python",
   "name": "python",
   "nbconvert_exporter": "python",
   "pygments_lexer": "ipython3",
   "version": "3.8.1"
  }
 },
 "nbformat": 4,
 "nbformat_minor": 4
}
