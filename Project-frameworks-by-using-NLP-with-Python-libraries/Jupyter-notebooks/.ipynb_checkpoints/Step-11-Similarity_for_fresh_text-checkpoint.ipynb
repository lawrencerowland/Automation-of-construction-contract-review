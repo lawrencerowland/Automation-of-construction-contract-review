{
 "cells": [
  {
   "cell_type": "markdown",
   "metadata": {},
   "source": [
    "# Step 10 How similar are these documents, and others. "
   ]
  },
  {
   "attachments": {
    "d279f620-a4ba-483c-adc1-dc13db6daca1.png": {
     "image/png": "[encoded data removed]"
    }
   },
   "cell_type": "markdown",
   "metadata": {},
   "source": [
    "![Unknown.png](attachment:d279f620-a4ba-483c-adc1-dc13db6daca1.png)"
   ]
  },
  {
   "cell_type": "markdown",
   "metadata": {},
   "source": [
    "|**[Overview](#Overview)** |**[Installation](#Installation)||**[Prior-steps](#Prior-steps)**|**[How-to-use](#How-to-use)**|**[Next-steps](#Next-steps)**|**[Postscript](#Postscript)**|**[Acknowledgements](#Acknowledgments)|"
   ]
  },
  {
   "cell_type": "markdown",
   "metadata": {},
   "source": [
    "# Overview\n",
    "\n",
    "# Prior steps\n",
    "Steps 5 and 9\n",
    "# How-to-use\n",
    "\n",
    "## Import Gensim, models and library"
   ]
  },
  {
   "cell_type": "code",
   "execution_count": 105,
   "metadata": {},
   "outputs": [],
   "source": [
    "from gensim import similarities, models\n",
    "import numpy as np\n",
    "import pandas as pd"
   ]
  },
  {
   "cell_type": "code",
   "execution_count": 2,
   "metadata": {},
   "outputs": [],
   "source": [
    "#hide\n",
    "import os\n",
    "directory= \"/Users/lawrence/Documents/GitHub/Data-Model-for-Project-Frameworks/Project-frameworks-by-using-NLP-with-Python-libraries/Interim-results/\""
   ]
  },
  {
   "cell_type": "code",
   "execution_count": 3,
   "metadata": {},
   "outputs": [],
   "source": [
    "index = similarities.MatrixSimilarity.load(directory+'Index_for_corpus_for_similarities.index')"
   ]
  },
  {
   "cell_type": "code",
   "execution_count": 4,
   "metadata": {},
   "outputs": [],
   "source": [
    "loaded_TFIDF_model = models.TfidfModel.load(directory+'model-from-input-library.tfidf')"
   ]
  },
  {
   "cell_type": "code",
   "execution_count": 6,
   "metadata": {},
   "outputs": [],
   "source": [
    "import json\n",
    "with open(directory+\"Corpus_as_BOW.json\", \"r\") as read_file:\n",
    "      Corpus_as_BOW= json.load(read_file)"
   ]
  },
  {
   "cell_type": "code",
   "execution_count": 7,
   "metadata": {},
   "outputs": [],
   "source": [
    "Corpus_as_TFIDF = loaded_TFIDF_model[Corpus_as_BOW]"
   ]
  },
  {
   "cell_type": "code",
   "execution_count": 118,
   "metadata": {},
   "outputs": [],
   "source": [
    "Names_of_documents=(pd.read_csv(directory+'Corpus_names_of_documents.csv'))"
   ]
  },
  {
   "cell_type": "markdown",
   "metadata": {},
   "source": [
    "## For any one document, how similar is it to others in the same library ?"
   ]
  },
  {
   "cell_type": "code",
   "execution_count": 146,
   "metadata": {},
   "outputs": [],
   "source": [
    "# For document 17:\n",
    "sim17=index[Corpus_as_TFIDF[16]]\n",
    "s=np.sort(sim17)"
   ]
  },
  {
   "cell_type": "code",
   "execution_count": 148,
   "metadata": {},
   "outputs": [
    {
     "data": {
      "image/png": "[encoded data removed]",
      "text/plain": [
       "<Figure size 432x288 with 1 Axes>"
      ]
     },
     "metadata": {
      "needs_background": "light"
     },
     "output_type": "display_data"
    }
   ],
   "source": [
    "plt.bar(range(0,16),height=s[0:16])\n",
    "plt.show()"
   ]
  },
  {
   "cell_type": "code",
   "execution_count": 151,
   "metadata": {},
   "outputs": [
    {
     "name": "stdout",
     "output_type": "stream",
     "text": [
      "0.39662692 Commissioning-of-security-systems-and-infrastructure-cns-tast-gd-4.4.pdf.txt\n",
      "0.08044483 Construction Assurance ns-tast-gd-076.pdf.txt\n",
      "0.05622139 Control of processes involving nuclear matter ns-tast-gd-023.pdf.txt\n",
      "0.022198364 Decommissioning ns-tast-gd-026.pdf.txt\n",
      "0.04696573 Design Safety Assurance ns-tast-gd-057.pdf.txt\n",
      "0.01617185 Fundamental Principles ns-tast-gd-004.pdf.txt\n",
      "0.015595281 Guidance on the Demonstration of ALARP ns-tast-gd-005.pdf.txt\n",
      "0.012584692 Management of Radioactive material ns-tast-gd-024.pdf.txt\n",
      "0.39997375 nuclear construction sites cns-tast-gd-6.6.pdf.txt\n",
      "0.035160407 Organisational Change ns-tast-gd-048.pdf.txt\n",
      "0.5851226 oversight of items or services cns-tast-gd-4.3.pdf.txt\n",
      "0.015553733 PM_guidance_for_Energy_Projects 19.43.14.txt\n",
      "0.015352318 Probabilistic Safety Analysis.pdf.txt\n",
      "0.026155313 Procedure Design and Administrative Controls.pdf.txt\n",
      "0.5230368 Procurement cns-tast-gd-4.1.pdf.txt\n",
      "0.40011194 Reliability and resilience of the security system cns-tast-gd-5.1.pdf.txt\n",
      "0.9999993 Supplier capability cns-tast-gd-4.2.pdf.txt\n"
     ]
    }
   ],
   "source": [
    "for f in range(0,17):  # change length manually \n",
    "    print (sim17[f],Names_of_documents.iloc[f,0])"
   ]
  },
  {
   "cell_type": "markdown",
   "metadata": {},
   "source": [
    "## Across the whole library, which documents are most similar ?"
   ]
  },
  {
   "cell_type": "code",
   "execution_count": 68,
   "metadata": {},
   "outputs": [],
   "source": [
    "sim=[]\n",
    "for a in range (0,len(Corpus_as_TFIDF)):\n",
    "    sim.append(index[Corpus_as_TFIDF[a]])"
   ]
  },
  {
   "cell_type": "code",
   "execution_count": 69,
   "metadata": {},
   "outputs": [],
   "source": [
    "Similarity_across_library=np.asarray(sim, dtype=None, order='C')"
   ]
  },
  {
   "cell_type": "code",
   "execution_count": 101,
   "metadata": {},
   "outputs": [
    {
     "data": {
      "image/png": "[encoded data removed]",
      "text/plain": [
       "<Figure size 432x288 with 1 Axes>"
      ]
     },
     "metadata": {
      "needs_background": "light"
     },
     "output_type": "display_data"
    }
   ],
   "source": [
    "import matplotlib.pyplot as plt\n",
    "plt.imshow(Similarity_across_library)\n",
    "plt.show()"
   ]
  },
  {
   "cell_type": "code",
   "execution_count": null,
   "metadata": {},
   "outputs": [],
   "source": [
    "#hide\n",
    "print (pd.DataFrame(Similarity_across_library))"
   ]
  },
  {
   "cell_type": "markdown",
   "metadata": {},
   "source": [
    "## Next Steps"
   ]
  },
  {
   "cell_type": "markdown",
   "metadata": {},
   "source": [
    "If you have some new text or documentation, and you want to find the most similar documents in the present corpus, then go to Step 11.\n",
    "If you want to build a topic model of the library, then go to step 12.\n",
    "Otherwise, go to step 14, to enhance the knowledge graph. "
   ]
  }
 ],
 "metadata": {
  "kernelspec": {
   "display_name": "Python 3",
   "language": "python",
   "name": "python3"
  },
  "language_info": {
   "codemirror_mode": {
    "name": "ipython",
    "version": 3
   },
   "file_extension": ".py",
   "mimetype": "text/x-python",
   "name": "python",
   "nbconvert_exporter": "python",
   "pygments_lexer": "ipython3",
   "version": "3.8.3"
  }
 },
 "nbformat": 4,
 "nbformat_minor": 4
}
