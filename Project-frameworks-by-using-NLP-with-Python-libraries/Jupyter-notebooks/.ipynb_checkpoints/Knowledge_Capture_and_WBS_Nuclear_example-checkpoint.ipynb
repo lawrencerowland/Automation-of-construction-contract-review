{
 "cells": [
  {
   "cell_type": "markdown",
   "metadata": {},
   "source": [
    "# Tailoring a Project data model and WBS to a specialist area"
   ]
  },
  {
   "cell_type": "markdown",
   "metadata": {},
   "source": [
    "## INPUT: 16 Technical Guides (ONR) for Nuclear sites &nbsp;&nbsp;&nbsp;+  &nbsp; &nbsp; &nbsp; Paper"
   ]
  },
  {
   "cell_type": "markdown",
   "metadata": {},
   "source": [
    "<img src=\"images/ONR_documents_as_library.png\" width=\"45%\"> <img src=\"images/2020-locatelli-cover.png\" width=\"45%\"/> "
   ]
  },
  {
   "cell_type": "markdown",
   "metadata": {},
   "source": [
    " <br />\n",
    " \n",
    "## OUTPUTS: &nbsp;&nbsp;&nbsp;&nbsp;&nbsp;&nbsp;&nbsp;&nbsp;Plan &nbsp;&nbsp;&nbsp;&nbsp;&nbsp;&nbsp;&nbsp;&nbsp;&nbsp;&nbsp;&nbsp; + &nbsp;&nbsp;&nbsp;&nbsp;&nbsp;&nbsp;&nbsp;&nbsp;&nbsp;&nbsp;&nbsp;&nbsp;&nbsp;&nbsp;&nbsp;&nbsp;&nbsp;&nbsp;&nbsp;&nbsp;&nbsp;&nbsp;&nbsp;&nbsp;&nbsp;&nbsp;&nbsp;&nbsp;&nbsp;&nbsp;&nbsp; &nbsp;&nbsp;&nbsp;&nbsp;&nbsp;&nbsp; WBS\n"
   ]
  },
  {
   "cell_type": "markdown",
   "metadata": {},
   "source": [
    "<img src=\"images/WBS_items_w_relationships.png\" width=\"55%\"> &nbsp;&nbsp;&nbsp;&nbsp;&nbsp;&nbsp;&nbsp; <img src=\"images/combined_graph_WBS_linear_view.png\" width=\"40%\">   "
   ]
  },
  {
   "cell_type": "markdown",
   "metadata": {},
   "source": [
    " <br />\n",
    " \n",
    "## MORE OUTPUTS: Document list &nbsp;+  Document relationships"
   ]
  },
  {
   "cell_type": "markdown",
   "metadata": {},
   "source": [
    "\n",
    "<img src=\"images/Project_document_list.png\" width=\"25%\"> &nbsp; &nbsp; &nbsp;<img src=\"images/documents_organic_view.png\" width=\"70%\">\n"
   ]
  },
  {
   "cell_type": "markdown",
   "metadata": {},
   "source": [
    " <br />\n",
    " <br />\n",
    "\n",
    "## MORE OUTPUTS: Project Strategy slices and Strategy Table of Contents "
   ]
  },
  {
   "cell_type": "markdown",
   "metadata": {},
   "source": [
    "\n",
    "<img src=\"images/2-hop-view-partial-for-waste-routes.png\" width=\"65%\"> &nbsp; &nbsp; &nbsp;<img src=\"images/strategic-view.png\" width=\"30%\">"
   ]
  },
  {
   "cell_type": "markdown",
   "metadata": {},
   "source": [
    "## Other excerpts\n",
    "Project data model"
   ]
  },
  {
   "cell_type": "markdown",
   "metadata": {},
   "source": [
    " <br />\n",
    " <br />\n",
    " <br />\n",
    " <br />\n",
    " <br />\n",
    " \n",
    " ## ONR Technical library --AUTO--> Keywords + Keyword relationships"
   ]
  },
  {
   "cell_type": "markdown",
   "metadata": {},
   "source": [
    "<img src=\"images/ONR_documents_as_library.png\" width=\"15%\"><img src=\"images/gensim.png\" width=\"15%\"> <img src=\"images/Keywords-for-whole-library.png\" width=\"45%\"> \n",
    "\n"
   ]
  },
  {
   "cell_type": "markdown",
   "metadata": {},
   "source": [
    "## Select useful keyword relationships  "
   ]
  },
  {
   "cell_type": "markdown",
   "metadata": {},
   "source": [
    "<img src=\"images/graph-schema-2.png\" width=\"30%\"><img src=\"images/neo4j.png\" width=\"10%\"><img src=\"images/knowledge-graph-2.png\" width=\"30%\">"
   ]
  },
  {
   "cell_type": "markdown",
   "metadata": {},
   "source": [
    "## Add back in lower-scoring keywords\n",
    "<img src=\"images/Keyword-graph-3.png\" width=\"60%\">"
   ]
  },
  {
   "cell_type": "markdown",
   "metadata": {},
   "source": [
    "<br />\n",
    " <br />\n",
    " <br />\n",
    " <br />\n",
    " <br />\n",
    " <br />\n",
    " <br />\n",
    " <br />\n",
    " <br />\n",
    " <br />\n",
    " \n",
    " ## Topic model"
   ]
  },
  {
   "cell_type": "code",
   "execution_count": null,
   "metadata": {},
   "outputs": [],
   "source": []
  }
 ],
 "metadata": {
  "kernelspec": {
   "display_name": "Python 3",
   "language": "python",
   "name": "python3"
  },
  "language_info": {
   "codemirror_mode": {
    "name": "ipython",
    "version": 3
   },
   "file_extension": ".py",
   "mimetype": "text/x-python",
   "name": "python",
   "nbconvert_exporter": "python",
   "pygments_lexer": "ipython3",
   "version": "3.7.4"
  }
 },
 "nbformat": 4,
 "nbformat_minor": 4
}
