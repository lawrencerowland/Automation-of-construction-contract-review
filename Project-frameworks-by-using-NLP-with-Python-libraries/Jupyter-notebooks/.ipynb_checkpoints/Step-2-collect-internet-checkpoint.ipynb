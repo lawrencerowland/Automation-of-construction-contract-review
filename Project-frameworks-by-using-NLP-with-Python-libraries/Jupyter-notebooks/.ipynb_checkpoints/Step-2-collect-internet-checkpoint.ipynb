{
 "cells": [
  {
   "cell_type": "markdown",
   "metadata": {},
   "source": [
    "# Collect any Internet pages \n",
    "\n",
    "|**[Overview](#Overview)** |**[Installation](#Installation)||**[Prior-steps](#Prior-steps)|**[How-to-use](#How-to-use)**|**[Next-steps](#Next-steps)**|\n",
    "\n",
    "# Overview\n",
    "\n",
    "In addition to the text files you have collected, there may be one or two internet pages which you want to add to the analysis. \n",
    "\n",
    "I have added this partly to show what happens when a document is added which is about the same subject, but comes at the subject from a very different angle. \n",
    "\n",
    "In order to compare the results with the Orange results, I have not run this block of code. \n",
    "\n",
    "# Installation\n",
    "\n",
    "Check installation has been made, as per the [READme](https://github.com/lawrencerowland/Data-Model-for-Project-Frameworks/blob/master/Project-frameworks-by-using-NLP-with-Python-libraries/README.md)\n",
    "\n",
    "# Prior-steps\n",
    "None of the steps 1-3 are needed in order to generate these keywords.\n",
    "\n",
    "But to generate keywords of new documents, review these steps to see which you require.\n",
    "\n",
    "# How-to-use\n",
    "\n",
    "## Set directory\n",
    "\n"
   ]
  },
  {
   "cell_type": "code",
   "execution_count": 3,
   "metadata": {},
   "outputs": [],
   "source": [
    "import os\n",
    "directory= '/Users/lawrence/Documents/GitHub/Data-Model-for-Project-Frameworks/Nuclear-project-data-for-use-in-generating-example-frameworks'"
   ]
  },
  {
   "cell_type": "code",
   "execution_count": 2,
   "metadata": {},
   "outputs": [
    {
     "name": "stdout",
     "output_type": "stream",
     "text": [
      "['.DS_Store', 'Corpus_as_one_string.txt', 'Keywords_for_whole_corpus.csv', 'Keywords_for_whole_corpus.txt']\n"
     ]
    }
   ],
   "source": [
    "print (os.listdir(directory))\n",
    "# Change directory location for your particular set-up. "
   ]
  },
  {
   "cell_type": "markdown",
   "metadata": {},
   "source": [
    "## Bring in web page"
   ]
  },
  {
   "cell_type": "code",
   "execution_count": 5,
   "metadata": {},
   "outputs": [],
   "source": [
    "#hide\n",
    "import requests\n",
    "text = requests.get('https://archive.org/stream/ProjectManagementForTheOilAndGasIndustry/ProjectManagementForTheOilAndGasIndustry_djvu.txt').text\n",
    "text=text[70000:300000] #here I have stripped the front text by inspection only.\n",
    "#text=strip_multiple_whitespaces(text)  #may wish to turn this off for readability\n",
    "filename=\"PM_guidance_for_Energy_Projects\" # Set your own title\n",
    "f= open(directory+'/'+filename+\".txt\",\"w+\") \n",
    "f.write(filename+\"\\n\"+text)\n",
    "f.close()\n",
    "#If you wish to collect many Internet pages, you will need to construct a loop.\n",
    "# You also will need to check how well the text is extracted from  particular sources\n",
    "# and consult the Python Requests module documentation if it needs adjustment. "
   ]
  },
  {
   "cell_type": "markdown",
   "metadata": {},
   "source": [
    "# Next-steps\n",
    "Step 3 (generating summaries) and Step 4 (generating keywords) are optional\n",
    "\n",
    "Step 5 (creating 1 library) is needed if you are planning to develop a full knowledge graph from the keywords across the whole library. "
   ]
  }
 ],
 "metadata": {
  "kernelspec": {
   "display_name": "Python 3",
   "language": "python",
   "name": "python3"
  },
  "language_info": {
   "codemirror_mode": {
    "name": "ipython",
    "version": 3
   },
   "file_extension": ".py",
   "mimetype": "text/x-python",
   "name": "python",
   "nbconvert_exporter": "python",
   "pygments_lexer": "ipython3",
   "version": "3.8.3"
  }
 },
 "nbformat": 4,
 "nbformat_minor": 4
}
