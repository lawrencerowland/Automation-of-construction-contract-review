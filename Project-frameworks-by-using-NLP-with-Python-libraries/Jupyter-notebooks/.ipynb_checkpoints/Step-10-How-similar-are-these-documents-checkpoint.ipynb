{
 "cells": [
  {
   "cell_type": "markdown",
   "metadata": {},
   "source": [
    "# Step 11 Similarity for a fresh text"
   ]
  },
  {
   "attachments": {
    "c11882a6-af91-4368-973b-0a913ff65fb0.png": {
     "image/png": "[encoded data removed]"
    }
   },
   "cell_type": "markdown",
   "metadata": {},
   "source": [
    "![Unknown.png](attachment:c11882a6-af91-4368-973b-0a913ff65fb0.png)"
   ]
  },
  {
   "cell_type": "markdown",
   "metadata": {},
   "source": [
    "|**[Overview](#Overview)** |**[Installation](#Installation)||**[Prior-steps](#Prior-steps)**|**[How-to-use](#How-to-use)**|**[Next-steps](#Next-steps)**|**[Postscript](#Postscript)**|**[Acknowledgements](#Acknowledgments)|"
   ]
  },
  {
   "cell_type": "markdown",
   "metadata": {},
   "source": [
    "# Overview\n",
    "\n",
    "# Prior steps\n",
    "Steps 5 and 9\n",
    "# How-to-use\n",
    "\n",
    "## Import Gensim, models and library"
   ]
  },
  {
   "cell_type": "code",
   "execution_count": 32,
   "metadata": {},
   "outputs": [],
   "source": [
    "from gensim import similarities, models, corpora\n",
    "import numpy as np\n",
    "import pandas as pd\n",
    "import matplotlib.pyplot as plt"
   ]
  },
  {
   "cell_type": "code",
   "execution_count": 11,
   "metadata": {},
   "outputs": [],
   "source": [
    "#hide\n",
    "import os\n",
    "directory= \"/Users/lawrence/Documents/GitHub/Data-Model-for-Project-Frameworks/Project-frameworks-by-using-NLP-with-Python-libraries/Interim-results/\""
   ]
  },
  {
   "cell_type": "code",
   "execution_count": 3,
   "metadata": {},
   "outputs": [],
   "source": [
    "index = similarities.MatrixSimilarity.load(directory+'Index_for_corpus_for_similarities.index')"
   ]
  },
  {
   "cell_type": "code",
   "execution_count": 4,
   "metadata": {},
   "outputs": [],
   "source": [
    "loaded_TFIDF_model = models.TfidfModel.load(directory+'model-from-input-library.tfidf')"
   ]
  },
  {
   "cell_type": "code",
   "execution_count": 5,
   "metadata": {},
   "outputs": [],
   "source": [
    "Names_of_documents=(pd.read_csv(directory+'Corpus_names_of_documents.csv'))"
   ]
  },
  {
   "cell_type": "code",
   "execution_count": 17,
   "metadata": {},
   "outputs": [],
   "source": [
    "from gensim.corpora import Dictionary\n",
    "loaded_dictionary = Dictionary.load(directory+'Library.dict')"
   ]
  },
  {
   "cell_type": "markdown",
   "metadata": {},
   "source": [
    "## Enter new text\n",
    "I have done it here by assuming this is a new document.\n",
    "- Run step 1, but from a fresh folder (rather than Nuclear sample folder)\n",
    "- run Step 5, but back into a fresh folder (rather than Interim results)\n",
    "However, this can be scraped from an internet document\n",
    "Or copied in as a string\n",
    "Or imported as a pdf with Step 1 and Step 2"
   ]
  },
  {
   "cell_type": "code",
   "execution_count": 18,
   "metadata": {},
   "outputs": [],
   "source": [
    "directory= \"/Users/lawrence/\""
   ]
  },
  {
   "cell_type": "code",
   "execution_count": 22,
   "metadata": {},
   "outputs": [],
   "source": [
    "with open(os.path.join(directory,'2020-Invernizzi-Locatelli-Brookes-Characterising-nuclear-decommissioning-projects.txt')) as f:\n",
    "    Fresh_text=f.read()\n",
    "    f.close()"
   ]
  },
  {
   "cell_type": "code",
   "execution_count": null,
   "metadata": {},
   "outputs": [],
   "source": [
    "Fresh_text[0:1000]"
   ]
  },
  {
   "cell_type": "markdown",
   "metadata": {},
   "source": []
  },
  {
   "cell_type": "markdown",
   "metadata": {},
   "source": [
    "## FINDING VECTOR REPRESENTATION OF A SINGLE NEW DOCUMENT\n",
    "First CBOW, then TFIDF"
   ]
  },
  {
   "cell_type": "code",
   "execution_count": 27,
   "metadata": {},
   "outputs": [
    {
     "name": "stdout",
     "output_type": "stream",
     "text": [
      "(0, 0.016459011879328547)\n"
     ]
    }
   ],
   "source": [
    "Fresh_text_bow = loaded_dictionary.doc2bow(Fresh_text.lower().split())\n",
    "vec_tfidf = loaded_TFIDF_model[Fresh_text_bow]  # convert the query to TFIDF space\n",
    "print(vec_tfidf[0])"
   ]
  },
  {
   "cell_type": "markdown",
   "metadata": {},
   "source": [
    "## find cosine similarity with existing library\n",
    "In addition, we will be considering cosine similarity to determine the similarity of two vectors. Cosine similarity is a standard measure in Vector Space Modeling, but wherever the vectors represent probability distributions, different similarity measures may be more appropriate."
   ]
  },
  {
   "cell_type": "code",
   "execution_count": 28,
   "metadata": {},
   "outputs": [],
   "source": [
    "Similarity_result=index[vec_tfidf]"
   ]
  },
  {
   "cell_type": "code",
   "execution_count": 38,
   "metadata": {},
   "outputs": [
    {
     "data": {
      "image/png": "[encoded data removed]",
      "text/plain": [
       "<Figure size 432x288 with 1 Axes>"
      ]
     },
     "metadata": {
      "needs_background": "light"
     },
     "output_type": "display_data"
    }
   ],
   "source": [
    "plt.bar(range(0,17),height=Similarity_result[0:17])\n",
    "plt.show()"
   ]
  },
  {
   "cell_type": "code",
   "execution_count": 37,
   "metadata": {},
   "outputs": [
    {
     "name": "stdout",
     "output_type": "stream",
     "text": [
      "0.03184258 Commissioning-of-security-systems-and-infrastructure-cns-tast-gd-4.4.pdf.txt\n",
      "0.08654524 Construction Assurance ns-tast-gd-076.pdf.txt\n",
      "0.07395535 Control of processes involving nuclear matter ns-tast-gd-023.pdf.txt\n",
      "0.2961432 Decommissioning ns-tast-gd-026.pdf.txt\n",
      "0.101394355 Design Safety Assurance ns-tast-gd-057.pdf.txt\n",
      "0.056371637 Fundamental Principles ns-tast-gd-004.pdf.txt\n",
      "0.15782964 Guidance on the Demonstration of ALARP ns-tast-gd-005.pdf.txt\n",
      "0.1772333 Management of Radioactive material ns-tast-gd-024.pdf.txt\n",
      "0.049734946 nuclear construction sites cns-tast-gd-6.6.pdf.txt\n",
      "0.06878129 Organisational Change ns-tast-gd-048.pdf.txt\n",
      "0.028180964 oversight of items or services cns-tast-gd-4.3.pdf.txt\n",
      "0.38809025 PM_guidance_for_Energy_Projects 19.43.14.txt\n",
      "0.049440652 Probabilistic Safety Analysis.pdf.txt\n",
      "0.037577443 Procedure Design and Administrative Controls.pdf.txt\n",
      "0.027715659 Procurement cns-tast-gd-4.1.pdf.txt\n",
      "0.021520244 Reliability and resilience of the security system cns-tast-gd-5.1.pdf.txt\n",
      "0.019047247 Supplier capability cns-tast-gd-4.2.pdf.txt\n"
     ]
    }
   ],
   "source": [
    "for f in range(0,17):  # change length manually \n",
    "    print (Similarity_result[f],Names_of_documents.iloc[f,0])"
   ]
  },
  {
   "cell_type": "markdown",
   "metadata": {},
   "source": [
    "## Next Steps"
   ]
  },
  {
   "cell_type": "markdown",
   "metadata": {},
   "source": [
    "If you want to build a topic model of the library, then go to step 12.\n",
    "Otherwise, go to step 14, to enhance the knowledge graph. "
   ]
  }
 ],
 "metadata": {
  "kernelspec": {
   "display_name": "Python 3",
   "language": "python",
   "name": "python3"
  },
  "language_info": {
   "codemirror_mode": {
    "name": "ipython",
    "version": 3
   },
   "file_extension": ".py",
   "mimetype": "text/x-python",
   "name": "python",
   "nbconvert_exporter": "python",
   "pygments_lexer": "ipython3",
   "version": "3.8.3"
  }
 },
 "nbformat": 4,
 "nbformat_minor": 4
}
