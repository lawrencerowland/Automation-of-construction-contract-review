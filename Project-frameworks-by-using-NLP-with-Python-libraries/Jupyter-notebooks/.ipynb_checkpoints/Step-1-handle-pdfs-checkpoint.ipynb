{
 "cells": [
  {
   "cell_type": "markdown",
   "metadata": {},
   "source": [
    "# Step 1: Import PDFs from Portfolio library\n",
    "\n",
    "|**[Quick start](#Quick-start)** |**[How-to-use](#How-to-use)**|\n",
    "\n",
    "# Overview\n",
    "Take Pdf files and convert them to text files, ready for later analysis\n",
    "\n",
    "# How-to-use\n",
    "\n",
    "## Installation\n",
    "\n",
    "Check installation has been made, as per the [READme](https://github.com/lawrencerowland/Data-Model-for-Project-Frameworks/blob/master/Project-frameworks-by-using-NLP-with-Python-libraries/README.md)\n",
    "\n",
    "# Pre-requisites\n",
    "None. \n",
    "\n",
    "## Install pdfminer.six\n",
    "\n",
    "## Import modules"
   ]
  },
  {
   "cell_type": "code",
   "execution_count": 12,
   "metadata": {},
   "outputs": [],
   "source": [
    "#hide\n",
    "from pdfminer.high_level import extract_text\n",
    "import os"
   ]
  },
  {
   "cell_type": "markdown",
   "metadata": {},
   "source": [
    "## Point to the library where your portfolio pdf files are\n",
    "Otherwise,to re-run the nuclear example,just adjust the directory to reflect local User structure"
   ]
  },
  {
   "cell_type": "code",
   "execution_count": null,
   "metadata": {},
   "outputs": [],
   "source": [
    "#hide\n",
    "directory = '/Users/lawrence/Documents/GitHub/Data-Model-for-Project-Frameworks/Nuclear-project-data-for-use-in-generating-example-frameworks' \n",
    "print (os.listdir(directory))"
   ]
  },
  {
   "cell_type": "markdown",
   "metadata": {},
   "source": [
    "## Open pdf file, open text file, write in the text extracted"
   ]
  },
  {
   "cell_type": "code",
   "execution_count": null,
   "metadata": {},
   "outputs": [],
   "source": [
    "for filename in os.listdir(directory):\n",
    "    if filename.endswith(\".pdf\"):\n",
    "\n",
    "        print (filename)\n",
    "        \n",
    "        f= open(directory+'/'+filename+\".txt\",\"w+\") \n",
    "        \n",
    "        text=extract_text(directory+'/'+filename)\n",
    "        \n",
    "        f.write(filename+\"\\n\"+text)\n",
    "        f.close()"
   ]
  },
  {
   "cell_type": "code",
   "execution_count": null,
   "metadata": {},
   "outputs": [],
   "source": [
    "# Next step"
   ]
  },
  {
   "cell_type": "code",
   "execution_count": null,
   "metadata": {},
   "outputs": [],
   "source": [
    "#hide\n",
    "# text=strip_multiple_whitespaces(text)  # Option to add after extract_text line\n",
    "#\"w\" letter indicates write and will create a file if it does not exist in library\n",
    "# Plus sign indicates both read and write.\n",
    "# The available option beside \"w\" are, \"r\" for read, and \"a\" for append\n",
    "# Other options: password='', page_numbers=None, maxpages=0, caching=True, codec='utf-8', laparams=None\n",
    "# shutil module can move the files if needed"
   ]
  }
 ],
 "metadata": {
  "kernelspec": {
   "display_name": "Python 3",
   "language": "python",
   "name": "python3"
  },
  "language_info": {
   "codemirror_mode": {
    "name": "ipython",
    "version": 3
   },
   "file_extension": ".py",
   "mimetype": "text/x-python",
   "name": "python",
   "nbconvert_exporter": "python",
   "pygments_lexer": "ipython3",
   "version": "3.8.3"
  }
 },
 "nbformat": 4,
 "nbformat_minor": 4
}
