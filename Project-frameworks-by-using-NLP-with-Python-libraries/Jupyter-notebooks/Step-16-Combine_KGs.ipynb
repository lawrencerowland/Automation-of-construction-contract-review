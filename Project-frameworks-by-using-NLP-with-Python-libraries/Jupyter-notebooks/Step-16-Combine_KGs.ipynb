{
 "cells": [
  {
   "cell_type": "markdown",
   "metadata": {},
   "source": [
    "# Step 16 Combine Knowledge graphs"
   ]
  },
  {
   "cell_type": "markdown",
   "metadata": {},
   "source": [
    "xx pic"
   ]
  },
  {
   "cell_type": "markdown",
   "metadata": {},
   "source": [
    "|**[Overview](#Overview)** |**[Installation](#Installation)||**[Prior-steps](#Prior-steps)**|**[How-to-use](#How-to-use)**|**[Next-steps](#Next-steps)**|**[Postscript](#Postscript)**|**[Acknowledgements](#Acknowledgments)|"
   ]
  },
  {
   "cell_type": "markdown",
   "metadata": {},
   "source": [
    "# Overview\n",
    "\n",
    "We now have several knowledge graphs each representing the business domain or portfolio differently.\n",
    "\n",
    "- step 13: a KG based on the topic modelling of the whole library\n",
    "\n",
    "- Step 14 : a comparator KG based on best practice - in this case a key paper.\n",
    "\n",
    "- Step 15: a KG based on keywords from the whole library"
   ]
  },
  {
   "cell_type": "markdown",
   "metadata": {},
   "source": [
    "# Installation\n",
    "\n",
    "Check installation has been made, as per the [READme](https://github.com/lawrencerowland/Data-Model-for-Project-Frameworks/blob/master/Project-frameworks-by-using-NLP-with-Python-libraries/README.md)\n",
    "\n",
    "# Prior-steps\n",
    "xx \n",
    "\n",
    "# How-to-use"
   ]
  },
  {
   "cell_type": "markdown",
   "metadata": {},
   "source": [
    "## Combine graphs\n",
    "\n",
    "Open one of the three graphs in Neo4j.\n",
    "\n",
    "Then add the other two.\n",
    "\n",
    "These can be added either by:\n",
    "- graphml import\n",
    "- copying in the cypher code\n",
    "\n",
    "This depends on how the models were saved.\n",
    "Examples of both types of saving are in previous steps. \n",
    "\n",
    "## Rationalise the graph, as a team where possible\n",
    "\n",
    " - Look for useful clusters\n",
    " - combine duplicate concepts\n",
    " - relabel concepts (in this case, topics is no longer a useful label)\n",
    " - lose direct relationships where one already has indirect relationships\n",
    " \n",
    " \n",
    " In this case, we have lost the Topics group, whilst retaining most of the keyords. The structure of Success criteria, and project services and Site were more powerful. We have also retained the key division between two topics -so that our project services have shaken out either into a Supply-chain/ Management type services, or into more Technical and Operationally focussed project services.\n",
    " A rough sequence of implementing Success criteria helped in turn to order the Project Services, although some of the dependencies are not strong ones - but rather introduced to allow for easy comprehension. "
   ]
  },
  {
   "cell_type": "markdown",
   "metadata": {},
   "source": [
    "## Open the Interim results folder"
   ]
  },
  {
   "cell_type": "markdown",
   "metadata": {},
   "source": [
    "## xx"
   ]
  },
  {
   "cell_type": "markdown",
   "metadata": {},
   "source": [
    "# Next-steps\n",
    "[Step 7](xx) "
   ]
  },
  {
   "cell_type": "markdown",
   "metadata": {},
   "source": [
    "# Postscript: "
   ]
  },
  {
   "cell_type": "markdown",
   "metadata": {},
   "source": [
    "# Acknowledgments:\n",
    "xx"
   ]
  }
 ],
 "metadata": {
  "kernelspec": {
   "display_name": "Python 3",
   "language": "python",
   "name": "python3"
  },
  "language_info": {
   "codemirror_mode": {
    "name": "ipython",
    "version": 3
   },
   "file_extension": ".py",
   "mimetype": "text/x-python",
   "name": "python",
   "nbconvert_exporter": "python",
   "pygments_lexer": "ipython3",
   "version": "3.8.1"
  }
 },
 "nbformat": 4,
 "nbformat_minor": 4
}
