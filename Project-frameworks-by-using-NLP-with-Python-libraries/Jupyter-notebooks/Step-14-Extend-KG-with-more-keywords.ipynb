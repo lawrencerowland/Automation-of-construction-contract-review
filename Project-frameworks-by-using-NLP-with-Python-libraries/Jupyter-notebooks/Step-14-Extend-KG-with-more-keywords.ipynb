{
 "cells": [
  {
   "cell_type": "markdown",
   "metadata": {},
   "source": [
    "# Step 14: Extend-KG-with-more-keywords\n",
    "\n",
    "|**[Overview](#Overview)** |**[Prior-steps](#Prior-steps)**|**[How-to-use](#How-to-use)**|**[Next-steps](#Next-steps)**|**[Postscript](#Postscript)**|**[Acknowledgements](#Acknowledgments)|\n",
    "\n",
    "# Overview\n",
    "\n",
    "# Installation\n",
    "\n",
    "At this point you will need Neo4j (or you can do this in YEd or Gephi). \n",
    "\n",
    "# Prior-steps\n",
    "Step 5 which provides records for the whole library\n",
    "Step 6 to provide a longer list of keywords\n",
    "Step 7 which provided an original KG\n",
    "\n",
    "It is desirable that you have done Step 12 and 13, to provide an alternative representation of the business domain. \n",
    "\n",
    "# How-to-use\n",
    "\n",
    "## Open Neo4j\n",
    "\n",
    "\n",
    "\n",
    "# How-to-use\n",
    "\n",
    "## Open Neo4j"
   ]
  },
  {
   "cell_type": "code",
   "execution_count": null,
   "metadata": {},
   "outputs": [],
   "source": [
    "#hide\n",
    "#Use either Neo4j Desktop, or create a Neo4j sandbox. \n",
    "#Change security settings for APOC. Where you do this is different between v 3.5 and 4\n",
    "apoc.import.file.enabled=true\n",
    "apoc.export.file.enabled=true\n",
    "#See https://neo4j.com/docs/labs/apoc/current/import/graphml"
   ]
  },
  {
   "cell_type": "markdown",
   "metadata": {},
   "source": [
    "# Open the KG created in Step 7\n",
    "This can be opened from \n",
    "CALL apoc.import.graphml(\"https://raw.githubusercontent.com/lawrencerowland/Data-Model-for-Project-Frameworks/master/Project-frameworks-by-using-NLP-with-Python-libraries/Interim-results/Keyword-graph-2.graphml\", {readLabels: true,storeNodeIds: true})"
   ]
  },
  {
   "cell_type": "code",
   "execution_count": 2,
   "metadata": {},
   "outputs": [],
   "source": [
    "import pandas as pd\n",
    "import os\n",
    "directory= \"/Users/lawrence/Documents/GitHub/Data-Model-for-Project-Frameworks/Project-frameworks-by-using-NLP-with-Python-libraries/Interim-results/\"\n",
    "# Change directory location for your particular set-up.\n",
    "df = pd. read_csv(directory+'Even_more_Keywords_for_whole_corpus.csv')"
   ]
  },
  {
   "cell_type": "markdown",
   "metadata": {},
   "source": [
    "Here are the more interesting keywords in here, that havent already arisen in either the Keyword KG or the Topic KG.\n",
    "In importance (score) order:\n",
    "control, \n",
    "report\n",
    "regulation\n",
    "System,\n",
    "specification\n",
    "communication\n",
    "community\n",
    "plan\n",
    "activity\n",
    "document\n",
    "functions\n",
    "time\n",
    "engineering\n",
    "product\n",
    "identify\n",
    "material\n",
    "standard\n",
    "effect\n",
    "perform\n",
    "structure\n",
    "follows\n",
    "model"
   ]
  },
  {
   "cell_type": "code",
   "execution_count": null,
   "metadata": {},
   "outputs": [],
   "source": [
    "It may be that the higher score ones should be first considered as grouping terms, suitable for labels. \n",
    "\n",
    "Enhancements options:\n",
    "    - One could take appropriate KGs from KBPEDIA or similar (see xx)"
   ]
  }
 ],
 "metadata": {
  "kernelspec": {
   "display_name": "Python 3",
   "language": "python",
   "name": "python3"
  },
  "language_info": {
   "codemirror_mode": {
    "name": "ipython",
    "version": 3
   },
   "file_extension": ".py",
   "mimetype": "text/x-python",
   "name": "python",
   "nbconvert_exporter": "python",
   "pygments_lexer": "ipython3",
   "version": "3.8.1"
  }
 },
 "nbformat": 4,
 "nbformat_minor": 4
}
