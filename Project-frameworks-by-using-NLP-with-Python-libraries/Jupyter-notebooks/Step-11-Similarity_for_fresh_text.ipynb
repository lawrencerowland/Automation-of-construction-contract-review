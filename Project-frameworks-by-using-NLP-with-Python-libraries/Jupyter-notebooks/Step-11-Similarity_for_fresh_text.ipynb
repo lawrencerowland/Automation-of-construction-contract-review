{
 "cells": [
  {
   "cell_type": "markdown",
   "metadata": {},
   "source": [
    "# Step 10 How similar are these documents, and others. "
   ]
  },
  {
   "attachments": {
    "d279f620-a4ba-483c-adc1-dc13db6daca1.png": {
     "image/png": "[encoded data removed]"
    }
   },
   "cell_type": "markdown",
   "metadata": {},
   "source": [
    "![Unknown.png](attachment:d279f620-a4ba-483c-adc1-dc13db6daca1.png)"
   ]
  },
  {
   "cell_type": "markdown",
   "metadata": {},
   "source": [
    "|**[Overview](#Overview)** |**[Installation](#Installation)||**[Prior-steps](#Prior-steps)**|**[How-to-use](#How-to-use)**|**[Next-steps](#Next-steps)**|**[Postscript](#Postscript)**|**[Acknowledgements](#Acknowledgments)|"
   ]
  },
  {
   "cell_type": "markdown",
   "metadata": {},
   "source": [
    "# Overview\n",
    "\n",
    "# Prior steps\n",
    "Steps 5 and 9\n",
    "# How-to-use\n",
    "\n",
    "## Import Gensim, models and library"
   ]
  },
  {
   "cell_type": "code",
   "execution_count": 19,
   "metadata": {},
   "outputs": [],
   "source": [
    "from gensim import similarities, models\n",
    "import numpy as np\n",
    "import pandas as pd\n",
    "import matplotlib.pyplot as plt"
   ]
  },
  {
   "cell_type": "code",
   "execution_count": 20,
   "metadata": {},
   "outputs": [],
   "source": [
    "#hide\n",
    "import os\n",
    "directory= \"/Users/lawrence/Documents/GitHub/Data-Model-for-Project-Frameworks/Project-frameworks-by-using-NLP-with-Python-libraries/Interim-results/\""
   ]
  },
  {
   "cell_type": "code",
   "execution_count": 21,
   "metadata": {},
   "outputs": [],
   "source": [
    "index = similarities.MatrixSimilarity.load(directory+'Index_for_corpus_for_similarities.index')"
   ]
  },
  {
   "cell_type": "code",
   "execution_count": 22,
   "metadata": {},
   "outputs": [],
   "source": [
    "loaded_TFIDF_model = models.TfidfModel.load(directory+'model-from-input-library.tfidf')"
   ]
  },
  {
   "cell_type": "code",
   "execution_count": 23,
   "metadata": {},
   "outputs": [],
   "source": [
    "import json\n",
    "with open(directory+\"Corpus_as_BOW.json\", \"r\") as read_file:\n",
    "      Corpus_as_BOW= json.load(read_file)"
   ]
  },
  {
   "cell_type": "code",
   "execution_count": 24,
   "metadata": {},
   "outputs": [],
   "source": [
    "Corpus_as_TFIDF = loaded_TFIDF_model[Corpus_as_BOW]"
   ]
  },
  {
   "cell_type": "code",
   "execution_count": 25,
   "metadata": {},
   "outputs": [],
   "source": [
    "Names_of_documents=(pd.read_csv(directory+'Corpus_names_of_documents.csv'))"
   ]
  },
  {
   "cell_type": "markdown",
   "metadata": {},
   "source": [
    "## For any one document, how similar is it to others in the same library ?"
   ]
  },
  {
   "cell_type": "code",
   "execution_count": 26,
   "metadata": {},
   "outputs": [],
   "source": [
    "# For document 17:\n",
    "sim17=index[Corpus_as_TFIDF[16]]\n",
    "#s=np.sort(sim17)"
   ]
  },
  {
   "cell_type": "code",
   "execution_count": 27,
   "metadata": {},
   "outputs": [
    {
     "data": {
      "image/png": "[encoded data removed]",
      "text/plain": [
       "<Figure size 432x288 with 1 Axes>"
      ]
     },
     "metadata": {
      "needs_background": "light"
     },
     "output_type": "display_data"
    }
   ],
   "source": [
    "plt.bar(range(0,16),height=sim17[0:16])\n",
    "plt.show()"
   ]
  },
  {
   "cell_type": "code",
   "execution_count": 151,
   "metadata": {},
   "outputs": [
    {
     "name": "stdout",
     "output_type": "stream",
     "text": [
      "0.39662692 Commissioning-of-security-systems-and-infrastructure-cns-tast-gd-4.4.pdf.txt\n",
      "0.08044483 Construction Assurance ns-tast-gd-076.pdf.txt\n",
      "0.05622139 Control of processes involving nuclear matter ns-tast-gd-023.pdf.txt\n",
      "0.022198364 Decommissioning ns-tast-gd-026.pdf.txt\n",
      "0.04696573 Design Safety Assurance ns-tast-gd-057.pdf.txt\n",
      "0.01617185 Fundamental Principles ns-tast-gd-004.pdf.txt\n",
      "0.015595281 Guidance on the Demonstration of ALARP ns-tast-gd-005.pdf.txt\n",
      "0.012584692 Management of Radioactive material ns-tast-gd-024.pdf.txt\n",
      "0.39997375 nuclear construction sites cns-tast-gd-6.6.pdf.txt\n",
      "0.035160407 Organisational Change ns-tast-gd-048.pdf.txt\n",
      "0.5851226 oversight of items or services cns-tast-gd-4.3.pdf.txt\n",
      "0.015553733 PM_guidance_for_Energy_Projects 19.43.14.txt\n",
      "0.015352318 Probabilistic Safety Analysis.pdf.txt\n",
      "0.026155313 Procedure Design and Administrative Controls.pdf.txt\n",
      "0.5230368 Procurement cns-tast-gd-4.1.pdf.txt\n",
      "0.40011194 Reliability and resilience of the security system cns-tast-gd-5.1.pdf.txt\n",
      "0.9999993 Supplier capability cns-tast-gd-4.2.pdf.txt\n"
     ]
    }
   ],
   "source": [
    "for f in range(0,17):  # change length manually \n",
    "    print (sim17[f],Names_of_documents.iloc[f,0])"
   ]
  },
  {
   "cell_type": "markdown",
   "metadata": {},
   "source": [
    "## Across the whole library, which documents are most similar ?"
   ]
  },
  {
   "cell_type": "code",
   "execution_count": 28,
   "metadata": {},
   "outputs": [],
   "source": [
    "sim=[]\n",
    "for a in range (0,len(Corpus_as_TFIDF)):\n",
    "    sim.append(index[Corpus_as_TFIDF[a]])"
   ]
  },
  {
   "cell_type": "code",
   "execution_count": 29,
   "metadata": {},
   "outputs": [],
   "source": [
    "Similarity_across_library=np.asarray(sim, dtype=None, order='C')"
   ]
  },
  {
   "cell_type": "code",
   "execution_count": 30,
   "metadata": {},
   "outputs": [
    {
     "data": {
      "image/png": "[encoded data removed]",
      "text/plain": [
       "<Figure size 432x288 with 1 Axes>"
      ]
     },
     "metadata": {
      "needs_background": "light"
     },
     "output_type": "display_data"
    }
   ],
   "source": [
    "import matplotlib.pyplot as plt\n",
    "plt.imshow(Similarity_across_library)\n",
    "plt.show()"
   ]
  },
  {
   "cell_type": "code",
   "execution_count": 31,
   "metadata": {},
   "outputs": [
    {
     "name": "stdout",
     "output_type": "stream",
     "text": [
      "           0         1         2         3         4         5         6  \\\n",
      "0   1.000000  0.032426  0.059181  0.026955  0.070645  0.018890  0.023912   \n",
      "1   0.032426  1.000000  0.062079  0.099692  0.174118  0.057546  0.077710   \n",
      "2   0.059181  0.062079  1.000000  0.107205  0.064282  0.105430  0.100614   \n",
      "3   0.026955  0.099692  0.107205  1.000000  0.118996  0.095866  0.125057   \n",
      "4   0.070645  0.174118  0.064282  0.118996  1.000000  0.087771  0.112539   \n",
      "5   0.018890  0.057546  0.105430  0.095866  0.087771  0.999999  0.200647   \n",
      "6   0.023912  0.077710  0.100614  0.125057  0.112539  0.200647  1.000000   \n",
      "7   0.011929  0.042752  0.249696  0.266437  0.055781  0.091459  0.105298   \n",
      "8   0.447912  0.056133  0.074214  0.031083  0.039148  0.026893  0.028731   \n",
      "9   0.032834  0.118277  0.048794  0.137058  0.124365  0.063243  0.091958   \n",
      "10  0.416304  0.064028  0.058714  0.017105  0.038611  0.018676  0.019142   \n",
      "11  0.024111  0.080398  0.038248  0.035281  0.087127  0.022112  0.053737   \n",
      "12  0.016004  0.050380  0.061302  0.044399  0.055891  0.056864  0.088045   \n",
      "13  0.044832  0.055773  0.070580  0.062668  0.090660  0.056452  0.058679   \n",
      "14  0.281916  0.065255  0.049469  0.026656  0.050442  0.018446  0.020345   \n",
      "15  0.467627  0.027553  0.085966  0.026528  0.038155  0.019844  0.023822   \n",
      "16  0.396627  0.080445  0.056221  0.022198  0.046966  0.016172  0.015595   \n",
      "\n",
      "           7         8         9        10        11        12        13  \\\n",
      "0   0.011929  0.447912  0.032834  0.416304  0.024111  0.016004  0.044832   \n",
      "1   0.042752  0.056133  0.118277  0.064028  0.080398  0.050380  0.055773   \n",
      "2   0.249696  0.074214  0.048794  0.058714  0.038248  0.061302  0.070580   \n",
      "3   0.266437  0.031083  0.137058  0.017105  0.035281  0.044399  0.062668   \n",
      "4   0.055781  0.039148  0.124365  0.038611  0.087127  0.055891  0.090660   \n",
      "5   0.091459  0.026893  0.063243  0.018676  0.022112  0.056864  0.056452   \n",
      "6   0.105298  0.028731  0.091958  0.019142  0.053737  0.088045  0.058679   \n",
      "7   0.999999  0.024996  0.048347  0.011366  0.018379  0.035004  0.029555   \n",
      "8   0.024996  1.000000  0.035183  0.426362  0.046871  0.016004  0.023140   \n",
      "9   0.048347  0.035183  1.000000  0.031859  0.058953  0.040718  0.090012   \n",
      "10  0.011366  0.426362  0.031859  1.000001  0.017168  0.017729  0.032645   \n",
      "11  0.018379  0.046871  0.058953  0.017168  0.999999  0.028727  0.036007   \n",
      "12  0.035004  0.016004  0.040718  0.017729  0.028727  1.000000  0.090211   \n",
      "13  0.029555  0.023140  0.090012  0.032645  0.036007  0.090211  1.000000   \n",
      "14  0.012499  0.294953  0.035490  0.451755  0.018132  0.010498  0.026282   \n",
      "15  0.012369  0.471275  0.035549  0.423576  0.018264  0.052463  0.041455   \n",
      "16  0.012585  0.399974  0.035160  0.585123  0.015554  0.015352  0.026155   \n",
      "\n",
      "          14        15        16  \n",
      "0   0.281916  0.467627  0.396627  \n",
      "1   0.065255  0.027553  0.080445  \n",
      "2   0.049469  0.085966  0.056221  \n",
      "3   0.026656  0.026528  0.022198  \n",
      "4   0.050442  0.038155  0.046966  \n",
      "5   0.018446  0.019844  0.016172  \n",
      "6   0.020345  0.023822  0.015595  \n",
      "7   0.012499  0.012369  0.012585  \n",
      "8   0.294953  0.471275  0.399974  \n",
      "9   0.035490  0.035549  0.035160  \n",
      "10  0.451755  0.423576  0.585123  \n",
      "11  0.018132  0.018264  0.015554  \n",
      "12  0.010498  0.052463  0.015352  \n",
      "13  0.026282  0.041455  0.026155  \n",
      "14  1.000000  0.290093  0.523037  \n",
      "15  0.290093  1.000000  0.400112  \n",
      "16  0.523037  0.400112  0.999999  \n"
     ]
    }
   ],
   "source": [
    "#hide\n",
    "print (pd.DataFrame(Similarity_across_library))"
   ]
  },
  {
   "cell_type": "markdown",
   "metadata": {},
   "source": [
    "## Next Steps"
   ]
  },
  {
   "cell_type": "markdown",
   "metadata": {},
   "source": [
    "If you have some new text or documentation, and you want to find the most similar documents in the present corpus, then go to Step 11.\n",
    "If you want to build a topic model of the library, then go to step 12.\n",
    "Otherwise, go to step 14, to enhance the knowledge graph. "
   ]
  }
 ],
 "metadata": {
  "kernelspec": {
   "display_name": "Python 3",
   "language": "python",
   "name": "python3"
  },
  "language_info": {
   "codemirror_mode": {
    "name": "ipython",
    "version": 3
   },
   "file_extension": ".py",
   "mimetype": "text/x-python",
   "name": "python",
   "nbconvert_exporter": "python",
   "pygments_lexer": "ipython3",
   "version": "3.8.3"
  }
 },
 "nbformat": 4,
 "nbformat_minor": 4
}
