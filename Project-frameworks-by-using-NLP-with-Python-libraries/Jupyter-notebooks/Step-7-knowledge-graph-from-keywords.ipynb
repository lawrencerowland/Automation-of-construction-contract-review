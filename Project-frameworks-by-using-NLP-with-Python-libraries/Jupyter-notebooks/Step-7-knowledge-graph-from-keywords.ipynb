{
 "cells": [
  {
   "cell_type": "markdown",
   "metadata": {},
   "source": [
    "![Knowledge-graph-from-keywords-1.png](images/Knowledge-graph-from-keywords-1.png)"
   ]
  },
  {
   "cell_type": "markdown",
   "metadata": {},
   "source": [
    "# Step 7: Build knowledge-graph-from-keywords"
   ]
  },
  {
   "cell_type": "markdown",
   "metadata": {},
   "source": [
    "|**[Overview](#Overview)** |**[Prior-steps](#Prior-steps)**|**[How-to-use](#How-to-use)**|**[Next-steps](#Next-steps)**|**[Postscript](#Postscript)**|**[Acknowledgements](#Acknowledgments)|\n",
    "\n",
    "# Overview\n",
    "This accesses the relationships between selected keywords, and show it as a knowledge graph. \n",
    "This will allow subsequent steps to craft an appropriate portfolio services framework within the particular business domain being analysed.\n",
    "These linkages suggest ways of laying out the knowledge area under question.\n",
    "\n",
    "# Prior-steps\n",
    "Step 5 and 6\n",
    "\n",
    "# How-to-use\n",
    "Work from this description or the equivalent Jupyter [notebook](https://github.com/lawrencerowland/Data-Model-for-Project-Frameworks/blob/master/Project-frameworks-by-using-NLP-with-Python-libraries/Jupyter%20notebooks/Step-7-knowledge-graph-from-keywords.ipynb). Any code omitted for clarity is available in the notebook.\n",
    "\n",
    "## Import modules"
   ]
  },
  {
   "cell_type": "code",
   "execution_count": 1,
   "metadata": {},
   "outputs": [
    {
     "name": "stderr",
     "output_type": "stream",
     "text": [
      "unable to import 'smart_open.gcs', disabling that module\n"
     ]
    }
   ],
   "source": [
    "#hide\n",
    "import gensim\n",
    "from gensim.summarization.keywords import get_graph\n",
    "import networkx as nx\n",
    "import matplotlib.pyplot as plt #note a different module imported from matplotlib\n",
    "# Note that Smart_open.gcs may not import successfully depending on Gensim set up. This doesnt matter. "
   ]
  },
  {
   "cell_type": "markdown",
   "metadata": {},
   "source": [
    "## Open the interim results folder"
   ]
  },
  {
   "cell_type": "code",
   "execution_count": 2,
   "metadata": {},
   "outputs": [],
   "source": [
    "#hide\n",
    "import os\n",
    "directory= \"/Users/lawrence/Documents/GitHub/Data-Model-for-Project-Frameworks/Project-frameworks-by-using-NLP-with-Python-libraries/Interim-results/\"\n",
    "# Change directory location for your particular set-up.\n",
    "\n",
    "with open(os.path.join(directory,'Corpus_as_one_string.txt')) as f:\n",
    "    Corpus_as_one_string=f.read()\n",
    "    f.close()"
   ]
  },
  {
   "cell_type": "markdown",
   "metadata": {},
   "source": [
    "## Generate a full graph of links between all words in all documents\n",
    "\n",
    "Gensim does this with an application of the TextRank algorithm, which is an extension of PageRank. The get_graph API contains all (stemmed) words, from which these keywords have been drawnSome of the results have already been seen, as Keywords  extractions from these main results. "
   ]
  },
  {
   "cell_type": "code",
   "execution_count": 3,
   "metadata": {},
   "outputs": [],
   "source": [
    "h=get_graph(Corpus_as_one_string)"
   ]
  },
  {
   "cell_type": "markdown",
   "metadata": {},
   "source": [
    "The first time it is worth exploring this graph object to understand it:some examples are given in the notebook. \n",
    "The nuclear example generates a graph with 2930 nodes, each a stemmed word. "
   ]
  },
  {
   "cell_type": "code",
   "execution_count": 4,
   "metadata": {},
   "outputs": [
    {
     "data": {
      "text/plain": [
       "1"
      ]
     },
     "execution_count": 4,
     "metadata": {},
     "output_type": "execute_result"
    }
   ],
   "source": [
    "#hide\n",
    "# Explore this graph object\n",
    "h.edges()[20:30]\n",
    "h.nodes()[0:5]\n",
    "len(h.nodes())\n",
    "sorted(h.nodes())[0:5]\n",
    "h.neighbors(\"consult\")\n",
    "h.edge_weight(('pdf', 'principl'))"
   ]
  },
  {
   "cell_type": "markdown",
   "metadata": {},
   "source": [
    "## Locate our keywords in the graph object\n",
    "We are interested just in the relationships inbetween the keywords we have already identified. \n",
    "\n",
    "In Step 6 we identified the specific keywords we were interested in. We have already dropped synonyms.\n",
    "\n",
    "Now we also ignore 'ONR' and 'include' as unhelpful. \n",
    "\n",
    "This leaves us with **safety, design, requires, operate, appropriate, process, secure and site**\n",
    "\n",
    "Because the words are stemmed in this graph object, the 'neighbors' API is needed to find the stem-word for all of the keywords."
   ]
  },
  {
   "cell_type": "code",
   "execution_count": 5,
   "metadata": {
    "scrolled": true
   },
   "outputs": [
    {
     "data": {
      "text/plain": [
       "['system',\n",
       " 'qualiti',\n",
       " 'secur',\n",
       " 'cyber',\n",
       " 'regul',\n",
       " 'infrastructur',\n",
       " 'assur',\n",
       " 'clear',\n",
       " 'uninterrupt',\n",
       " 'provis',\n",
       " 'condit',\n",
       " 'train',\n",
       " 'sqep',\n",
       " 'control',\n",
       " 'prepar',\n",
       " 'interfac',\n",
       " 'supplier',\n",
       " 'code',\n",
       " 'nation',\n",
       " 'identif',\n",
       " 'plan',\n",
       " 'action',\n",
       " 'close',\n",
       " 'record',\n",
       " 'commerci',\n",
       " 'level',\n",
       " 'commun',\n",
       " 'addit',\n",
       " 'cement',\n",
       " 'fix',\n",
       " 'issu',\n",
       " 'align',\n",
       " 'draw',\n",
       " 'appropri',\n",
       " 'compound',\n",
       " 'natur',\n",
       " 'matter',\n",
       " 'except',\n",
       " 'sourc',\n",
       " 'guidanc',\n",
       " 'fuel',\n",
       " 'relev',\n",
       " 'ekp',\n",
       " 'fault',\n",
       " 'pressur',\n",
       " 'time',\n",
       " 'intervent',\n",
       " 'broad',\n",
       " 'effect',\n",
       " 'segreg',\n",
       " 'calibr',\n",
       " 'examin',\n",
       " 'paragraph',\n",
       " 'form',\n",
       " 'offici',\n",
       " 'temperatur',\n",
       " 'dispos',\n",
       " 'process',\n",
       " 'legisl',\n",
       " 'decommiss',\n",
       " 'plant',\n",
       " 'capabl',\n",
       " 'typic',\n",
       " 'design',\n",
       " 'facil',\n",
       " 'exampl',\n",
       " 'select',\n",
       " 'stakehold',\n",
       " 'ensur',\n",
       " 'impact',\n",
       " 'reus',\n",
       " 'enabl',\n",
       " 'respons',\n",
       " 'consider',\n",
       " 'lifecycl',\n",
       " 'contamin',\n",
       " 'wast',\n",
       " 'featur',\n",
       " 'activ',\n",
       " 'procedur',\n",
       " 'methodolog',\n",
       " 'manag',\n",
       " 'potenti',\n",
       " 'justif',\n",
       " 'project',\n",
       " 'arrang',\n",
       " 'chang',\n",
       " 'exempt',\n",
       " 'gener',\n",
       " 'inspect',\n",
       " 'caus',\n",
       " 'oper',\n",
       " 'assess',\n",
       " 'modif',\n",
       " 'suffici',\n",
       " 'transit',\n",
       " 'spent',\n",
       " 'import',\n",
       " 'avail',\n",
       " 'applic',\n",
       " 'iaea',\n",
       " 'forc',\n",
       " 'type',\n",
       " 'test',\n",
       " 'proof',\n",
       " 'format',\n",
       " 'us',\n",
       " 'instruct',\n",
       " 'maintain',\n",
       " 'author',\n",
       " 'intellig',\n",
       " 'safeti',\n",
       " 'accid',\n",
       " 'evid',\n",
       " 'site',\n",
       " 'discharg',\n",
       " 'analysi',\n",
       " 'standard',\n",
       " 'alarp',\n",
       " 'instal',\n",
       " 'onr',\n",
       " 'explicitli',\n",
       " 'undertak',\n",
       " 'explicit',\n",
       " 'aim',\n",
       " 'note',\n",
       " 'risk',\n",
       " 'convent',\n",
       " 'decis',\n",
       " 'aspect',\n",
       " 'measur',\n",
       " 'thing',\n",
       " 'practic',\n",
       " 'industri',\n",
       " 'outcom',\n",
       " 'advic',\n",
       " 'materi',\n",
       " 'nuclear',\n",
       " 'pre',\n",
       " 'case',\n",
       " 'llw',\n",
       " 'secondari',\n",
       " 'routin',\n",
       " 'inventori',\n",
       " 'programm',\n",
       " 'strategi',\n",
       " 'bat',\n",
       " 'document',\n",
       " 'individu',\n",
       " 'factor',\n",
       " 'requir',\n",
       " 'permit',\n",
       " 'optimis',\n",
       " 'shall',\n",
       " 'hierarchi',\n",
       " 'barrier',\n",
       " 'option',\n",
       " 'filtrat',\n",
       " 'encapsul',\n",
       " 'characterist',\n",
       " 'non',\n",
       " 'specif',\n",
       " 'decai',\n",
       " 'uncondit',\n",
       " 'criteria',\n",
       " 'review',\n",
       " 'radionuclid',\n",
       " 'packag',\n",
       " 'treatment',\n",
       " 'build',\n",
       " 'look',\n",
       " 'ground',\n",
       " 'inform',\n",
       " 'heavi',\n",
       " 'event',\n",
       " 'protest',\n",
       " 'goal',\n",
       " 'organis',\n",
       " 'agreement',\n",
       " 'post',\n",
       " 'necessari',\n",
       " 'long',\n",
       " 'achiev',\n",
       " 'ordinarili',\n",
       " 'propos',\n",
       " 'indic',\n",
       " 'failur',\n",
       " 'previous',\n",
       " 'ideal',\n",
       " 'timescal',\n",
       " 'stage',\n",
       " 'equip',\n",
       " 'chain',\n",
       " 'withdraw',\n",
       " 'verif',\n",
       " 'lower',\n",
       " 'contract',\n",
       " 'psa',\n",
       " 'radioact',\n",
       " 'sequenc',\n",
       " 'misdiagnosi',\n",
       " 'sever',\n",
       " 'submiss',\n",
       " 'make',\n",
       " 'model',\n",
       " 'ccf',\n",
       " 'compil',\n",
       " 'tag',\n",
       " 'hazard',\n",
       " 'provid',\n",
       " 'i',\n",
       " 'partial',\n",
       " 'compon',\n",
       " 'frequenc',\n",
       " 'unavail',\n",
       " 'task',\n",
       " 'cutset',\n",
       " 'merit',\n",
       " 'core',\n",
       " 'appendix',\n",
       " 'worker',\n",
       " 'analys',\n",
       " 'success',\n",
       " 'mission',\n",
       " 'explain',\n",
       " 'environment',\n",
       " 'transpar',\n",
       " 'descript',\n",
       " 'correctli',\n",
       " 'base',\n",
       " 'content',\n",
       " 'hep',\n",
       " 'hfe',\n",
       " 'popul',\n",
       " 'power',\n",
       " 'associ',\n",
       " 'list',\n",
       " 'detail',\n",
       " 'high',\n",
       " 'physic',\n",
       " 'identifi',\n",
       " 'fragil',\n",
       " 'sensit',\n",
       " 'minim',\n",
       " 'determinist',\n",
       " 'apet',\n",
       " 'on',\n",
       " 'rc',\n",
       " 'propag',\n",
       " 'tabl',\n",
       " 'fit',\n",
       " 'undertaken',\n",
       " 'depend',\n",
       " 'license',\n",
       " 'simul',\n",
       " 'item',\n",
       " 'state',\n",
       " 'dutyhold',\n",
       " 'altern',\n",
       " 'mainten',\n",
       " 'context',\n",
       " 'perform',\n",
       " 'element',\n",
       " 'implement',\n",
       " 'end',\n",
       " 'proportion',\n",
       " 'cop',\n",
       " 'interrupt',\n",
       " 'confirm',\n",
       " 'servic',\n",
       " 'wai',\n",
       " 'obtain',\n",
       " 'sampl',\n",
       " 'notif',\n",
       " 'incid',\n",
       " 'busi',\n",
       " 'work',\n",
       " 'resourc',\n",
       " 'personnel',\n",
       " 'final',\n",
       " 'divers',\n",
       " 'have',\n",
       " 'comprehens',\n",
       " 'result',\n",
       " 'refer']"
      ]
     },
     "execution_count": 5,
     "metadata": {},
     "output_type": "execute_result"
    }
   ],
   "source": [
    "h.neighbors(\"includ\") # run this a few times until you find the 'stem' being used for each keyword you want"
   ]
  },
  {
   "cell_type": "markdown",
   "metadata": {},
   "source": [
    "After manually entering in different stems, I find the following match the keywords I want.\n",
    "\n",
    "'safe', 'design' 'requir','oper','appropri','process','secur','site', 'onr','includ'.\n",
    "\n"
   ]
  },
  {
   "cell_type": "markdown",
   "metadata": {},
   "source": [
    "## Generate a NetworkX graph\n",
    "\n",
    "The Gensim graph object is not very easy to handle. We transfer it to a NetworkX graph. "
   ]
  },
  {
   "cell_type": "code",
   "execution_count": 6,
   "metadata": {},
   "outputs": [],
   "source": [
    "g = nx.Graph()\n",
    "g=g.to_undirected() #my addition\n",
    "for edge in h.edges():\n",
    "    \n",
    "    g.add_node(edge[0])\n",
    "    g.add_node(edge[1])\n",
    "    g.add_weighted_edges_from([(edge[0], edge[1], h.edge_weight(edge))])\n",
    "\n",
    "    h.edge_weight(edge) #doesn't seem to be needed"
   ]
  },
  {
   "cell_type": "markdown",
   "metadata": {},
   "source": [
    "## Reduce the graph to just those links between keywords\n",
    "The above graph can be plotted, but its pretty dense. \n",
    "i.e. Manually list the stems you want to keep. \n",
    "The line below removes all nodes except for the keyword-stems."
   ]
  },
  {
   "cell_type": "code",
   "execution_count": 7,
   "metadata": {},
   "outputs": [],
   "source": [
    "g.remove_nodes_from([n for n in g if n not in set(['safe', 'design', 'requir','oper','appropri','process','secur','site'])])"
   ]
  },
  {
   "cell_type": "code",
   "execution_count": 8,
   "metadata": {},
   "outputs": [
    {
     "data": {
      "text/plain": [
       "NodeView(('requir', 'design', 'site', 'secur', 'appropri', 'oper', 'process', 'safe'))"
      ]
     },
     "execution_count": 8,
     "metadata": {},
     "output_type": "execute_result"
    }
   ],
   "source": [
    "g.nodes()"
   ]
  },
  {
   "cell_type": "markdown",
   "metadata": {},
   "source": [
    "## Plot graph between keywords"
   ]
  },
  {
   "cell_type": "code",
   "execution_count": 9,
   "metadata": {},
   "outputs": [],
   "source": [
    "pos = nx.spring_layout(g)\n",
    "figure1=plt.figure()\n",
    "nx.draw(g, pos, edge_color='black', width=1, linewidths=1,node_size=3000, node_color='seagreen', alpha=0.9,labels={node: node for node in g.nodes()})\n",
    "plt.axis('off')\n",
    "plt.savefig(directory+'Knowledge-graph-from-keywords-1.png') #saves last figure generated"
   ]
  },
  {
   "cell_type": "code",
   "execution_count": 10,
   "metadata": {},
   "outputs": [
    {
     "data": {
      "image/png": "[encoded data removed]",
      "text/plain": [
       "<Figure size 432x288 with 1 Axes>"
      ]
     },
     "metadata": {},
     "output_type": "display_data"
    }
   ],
   "source": [
    "plt.show()"
   ]
  },
  {
   "cell_type": "code",
   "execution_count": 11,
   "metadata": {},
   "outputs": [],
   "source": [
    "nx.write_graphml(g, directory+'Keyword-graph.graphml', encoding='utf-8', prettyprint=True, infer_numeric_types=False)"
   ]
  },
  {
   "cell_type": "code",
   "execution_count": 12,
   "metadata": {},
   "outputs": [],
   "source": [
    "#hide\n",
    "\n",
    "#prettyprint (bool (optional)) – If True use line breaks and indenting in output XML.\n",
    "#infer_numeric_types (boolean) – Determine if numeric types should be generalized.\n",
    "#For example, if edges have both int and float ‘weight’ attributes, we infer in GraphML that both are floats.\n",
    "\n",
    "#use this if problems between module names -->    if __name__==\"__main__\":"
   ]
  },
  {
   "cell_type": "markdown",
   "metadata": {},
   "source": [
    "# Next-steps\n",
    "[Step 8](https://github.com/lawrencerowland/Data-Model-for-Project-Frameworks/blob/master/Project-frameworks-by-using-NLP-with-Python-libraries/Jupyter-notebooks/Step-8-Outline-the-business-domain.ipynb) uses this keyword model to outline the business domain relating to the whole library collected. "
   ]
  },
  {
   "cell_type": "markdown",
   "metadata": {},
   "source": [
    "# Postscript: Alternative\n",
    "Instead of removing nodes, a subgraph can be generated, but it does not allow one to throw away the full graph. "
   ]
  },
  {
   "cell_type": "code",
   "execution_count": null,
   "metadata": {},
   "outputs": [],
   "source": [
    "Graph_only_top_nodes=all_node_nx_graph.subgraph(['safe', 'onr', 'requir','includ','design','site','secur','process','appropri','oper'])"
   ]
  },
  {
   "cell_type": "markdown",
   "metadata": {},
   "source": [
    "# Acknowledgements\n",
    "This article showed how to move from Gensim to Networkx [here](https://dev.to/b_dmarius/python-keywords-extraction-machine-learning-project-series-part-2-2bii)"
   ]
  }
 ],
 "metadata": {
  "kernelspec": {
   "display_name": "Python 3",
   "language": "python",
   "name": "python3"
  },
  "language_info": {
   "codemirror_mode": {
    "name": "ipython",
    "version": 3
   },
   "file_extension": ".py",
   "mimetype": "text/x-python",
   "name": "python",
   "nbconvert_exporter": "python",
   "pygments_lexer": "ipython3",
   "version": "3.7.4"
  }
 },
 "nbformat": 4,
 "nbformat_minor": 4
}
