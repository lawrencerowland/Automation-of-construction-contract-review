{
 "cells": [
  {
   "cell_type": "markdown",
   "metadata": {},
   "source": [
    "# Step 11 Similarity for a fresh text"
   ]
  },
  {
   "attachments": {
    "c11882a6-af91-4368-973b-0a913ff65fb0.png": {
     "image/png": "[encoded data removed]"
    }
   },
   "cell_type": "markdown",
   "metadata": {},
   "source": [
    "![Unknown.png](attachment:c11882a6-af91-4368-973b-0a913ff65fb0.png)"
   ]
  },
  {
   "cell_type": "markdown",
   "metadata": {},
   "source": [
    "|**[Overview](#Overview)** |**[Installation](#Installation)||**[Prior-steps](#Prior-steps)**|**[How-to-use](#How-to-use)**|**[Next-steps](#Next-steps)**|**[Postscript](#Postscript)**|**[Acknowledgements](#Acknowledgments)|"
   ]
  },
  {
   "cell_type": "markdown",
   "metadata": {},
   "source": [
    "# Overview\n",
    "\n",
    "# Prior steps\n",
    "Steps 5 and 9 are essential\n",
    "\n",
    "# How-to-use\n",
    "\n",
    "## Import Gensim, models and library"
   ]
  },
  {
   "cell_type": "code",
   "execution_count": 1,
   "metadata": {},
   "outputs": [],
   "source": [
    "from gensim import similarities, models, corpora\n",
    "import numpy as np\n",
    "import pandas as pd\n",
    "import matplotlib.pyplot as plt"
   ]
  },
  {
   "cell_type": "code",
   "execution_count": 2,
   "metadata": {},
   "outputs": [],
   "source": [
    "#hide\n",
    "import os\n",
    "directory= \"/Users/lawrence/Documents/GitHub/Data-Model-for-Project-Frameworks/Project-frameworks-by-using-NLP-with-Python-libraries/Interim-results/\""
   ]
  },
  {
   "cell_type": "code",
   "execution_count": 3,
   "metadata": {},
   "outputs": [],
   "source": [
    "index = similarities.MatrixSimilarity.load(directory+'Index_for_corpus_for_similarities.index')"
   ]
  },
  {
   "cell_type": "code",
   "execution_count": 4,
   "metadata": {},
   "outputs": [],
   "source": [
    "loaded_TFIDF_model = models.TfidfModel.load(directory+'model-from-input-library.tfidf')"
   ]
  },
  {
   "cell_type": "code",
   "execution_count": 5,
   "metadata": {},
   "outputs": [],
   "source": [
    "Names_of_documents=(pd.read_csv(directory+'Corpus_names_of_documents.csv'))"
   ]
  },
  {
   "cell_type": "code",
   "execution_count": 6,
   "metadata": {},
   "outputs": [],
   "source": [
    "from gensim.corpora import Dictionary\n",
    "loaded_dictionary = Dictionary.load(directory+'Library.dict')"
   ]
  },
  {
   "cell_type": "markdown",
   "metadata": {},
   "source": [
    "## Enter new text\n",
    "I have done it here by assuming this is a new document.\n",
    "- Run step 1, but from a fresh folder (rather than Nuclear sample folder)\n",
    "- run Step 5, but back into a fresh folder (rather than Interim results)\n",
    "However, this can be scraped from an internet document\n",
    "Or copied in as a string\n",
    "Or imported as a pdf with Step 1 and Step 2"
   ]
  },
  {
   "cell_type": "code",
   "execution_count": 7,
   "metadata": {},
   "outputs": [],
   "source": [
    "directory= \"/Users/lawrence/\""
   ]
  },
  {
   "cell_type": "code",
   "execution_count": 8,
   "metadata": {},
   "outputs": [],
   "source": [
    "with open(os.path.join(directory,'2020-Invernizzi-Locatelli-Brookes-Characterising-nuclear-decommissioning-projects.txt')) as f:\n",
    "    Fresh_text=f.read()\n",
    "    f.close()"
   ]
  },
  {
   "cell_type": "code",
   "execution_count": 9,
   "metadata": {},
   "outputs": [
    {
     "data": {
      "text/plain": [
       "'2020-Invernizzi-Locatelli-Brookes-Characterising-nuclear-decommissioning-projects.pdf\\nConstruction Management and Economics\\n\\nISSN: 0144-6193 (Print) 1466-433X (Online) Journal homepage: https://www.tandfonline.com/loi/rcme20\\n\\nCharacterising nuclear decommissioning projects:\\nan investigation of the project characteristics that\\naffect the project performance\\n\\nDiletta Colette Invernizzi, Giorgio Locatelli & Naomi J. Brookes\\n\\nTo cite this article: Diletta Colette Invernizzi, Giorgio Locatelli & Naomi J. Brookes (2020):\\nCharacterising nuclear decommissioning projects: an investigation of the project characteristics\\nthat affect the project performance, Construction Management and Economics, DOI:\\n10.1080/01446193.2020.1775859\\n\\nTo link to this article:  https://doi.org/10.1080/01446193.2020.1775859\\n\\nPublished online: 18 Jun 2020.\\n\\nSubmit your article to this journal \\n\\nView related articles \\n\\nView Crossmark data\\n\\nFull Terms & Conditions of access and use can be found at\\nhttps://www.tandfonline.'"
      ]
     },
     "execution_count": 9,
     "metadata": {},
     "output_type": "execute_result"
    }
   ],
   "source": [
    "Fresh_text[0:1000]"
   ]
  },
  {
   "cell_type": "markdown",
   "metadata": {},
   "source": []
  },
  {
   "cell_type": "markdown",
   "metadata": {},
   "source": [
    "## FINDING VECTOR REPRESENTATION OF A SINGLE NEW DOCUMENT\n",
    "First CBOW, then TFIDF"
   ]
  },
  {
   "cell_type": "code",
   "execution_count": 10,
   "metadata": {},
   "outputs": [
    {
     "name": "stdout",
     "output_type": "stream",
     "text": [
      "(0, 0.016459011879328547)\n"
     ]
    }
   ],
   "source": [
    "Fresh_text_bow = loaded_dictionary.doc2bow(Fresh_text.lower().split())\n",
    "vec_tfidf = loaded_TFIDF_model[Fresh_text_bow]  # convert the query to TFIDF space\n",
    "print(vec_tfidf[0])"
   ]
  },
  {
   "cell_type": "markdown",
   "metadata": {},
   "source": [
    "## find cosine similarity with existing library\n",
    "In addition, we will be considering cosine similarity to determine the similarity of two vectors. Cosine similarity is a standard measure in Vector Space Modeling, but wherever the vectors represent probability distributions, different similarity measures may be more appropriate."
   ]
  },
  {
   "cell_type": "code",
   "execution_count": 11,
   "metadata": {},
   "outputs": [],
   "source": [
    "Similarity_result=index[vec_tfidf]"
   ]
  },
  {
   "cell_type": "code",
   "execution_count": 12,
   "metadata": {},
   "outputs": [
    {
     "data": {
      "image/png": "[encoded data removed]",
      "text/plain": [
       "<Figure size 432x288 with 1 Axes>"
      ]
     },
     "metadata": {
      "needs_background": "light"
     },
     "output_type": "display_data"
    }
   ],
   "source": [
    "plt.bar(range(0,17),height=Similarity_result[0:17])\n",
    "plt.show()"
   ]
  },
  {
   "cell_type": "code",
   "execution_count": 13,
   "metadata": {},
   "outputs": [
    {
     "name": "stdout",
     "output_type": "stream",
     "text": [
      "0.031842582 Commissioning-of-security-systems-and-infrastructure-cns-tast-gd-4.4.pdf.txt\n",
      "0.086545244 Construction Assurance ns-tast-gd-076.pdf.txt\n",
      "0.07395536 Control of processes involving nuclear matter ns-tast-gd-023.pdf.txt\n",
      "0.29614276 Decommissioning ns-tast-gd-026.pdf.txt\n",
      "0.10139444 Design Safety Assurance ns-tast-gd-057.pdf.txt\n",
      "0.05637164 Fundamental Principles ns-tast-gd-004.pdf.txt\n",
      "0.15782963 Guidance on the Demonstration of ALARP ns-tast-gd-005.pdf.txt\n",
      "0.17723335 Management of Radioactive material ns-tast-gd-024.pdf.txt\n",
      "0.04973495 nuclear construction sites cns-tast-gd-6.6.pdf.txt\n",
      "0.06878132 Organisational Change ns-tast-gd-048.pdf.txt\n",
      "0.02818096 oversight of items or services cns-tast-gd-4.3.pdf.txt\n",
      "0.3880903 PM_guidance_for_Energy_Projects 19.43.14.txt\n",
      "0.049440667 Probabilistic Safety Analysis.pdf.txt\n",
      "0.03757745 Procedure Design and Administrative Controls.pdf.txt\n",
      "0.027715664 Procurement cns-tast-gd-4.1.pdf.txt\n",
      "0.021520242 Reliability and resilience of the security system cns-tast-gd-5.1.pdf.txt\n",
      "0.019047255 Supplier capability cns-tast-gd-4.2.pdf.txt\n"
     ]
    }
   ],
   "source": [
    "for f in range(0,17):  # change length manually \n",
    "    print (Similarity_result[f],Names_of_documents.iloc[f,0])"
   ]
  },
  {
   "cell_type": "markdown",
   "metadata": {},
   "source": [
    "## Next Steps"
   ]
  },
  {
   "cell_type": "markdown",
   "metadata": {},
   "source": [
    "If you want to build a topic model of the library, then go to step 12.\n",
    "Otherwise, go to step 14, to enhance the knowledge graph. "
   ]
  }
 ],
 "metadata": {
  "kernelspec": {
   "display_name": "Python 3",
   "language": "python",
   "name": "python3"
  },
  "language_info": {
   "codemirror_mode": {
    "name": "ipython",
    "version": 3
   },
   "file_extension": ".py",
   "mimetype": "text/x-python",
   "name": "python",
   "nbconvert_exporter": "python",
   "pygments_lexer": "ipython3",
   "version": "3.8.1"
  }
 },
 "nbformat": 4,
 "nbformat_minor": 4
}
