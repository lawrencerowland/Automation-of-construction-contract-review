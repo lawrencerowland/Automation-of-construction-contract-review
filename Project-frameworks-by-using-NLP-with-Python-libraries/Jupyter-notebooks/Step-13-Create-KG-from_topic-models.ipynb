{
 "cells": [
  {
   "cell_type": "markdown",
   "metadata": {},
   "source": [
    "# Step 13: Create knowledge-graph-from-topic-model\n",
    "\n",
    "|**[Overview](#Overview)** |**[Prior-steps](#Prior-steps)**|**[How-to-use](#How-to-use)**|**[Next-steps](#Next-steps)**|**[Postscript](#Postscript)**|**[Acknowledgements](#Acknowledgments)|\n",
    "\n",
    "# Overview\n",
    " Step 12 has identified two topics, each characterised by certain words. Now we use the knowledge graph to understand the business domain covered by the document library we are looking at. In consultation with the portfolio stakeholders, and domain experts, we can modify the knowledge-graph to reflect a sensible way of handling the business domain. \n",
    " \n",
    "The immediate output is either:\n",
    "\n",
    " - a knowledge graph, which can handle multiple views or facets reflecting different stakeholder understanding\n",
    " \n",
    " or\n",
    " \n",
    "- tree data structure, cut down from the knowledge graph, that reflects one convergent, dominating knowledge structure suitable for organising portfolio services in this business domain. \n",
    "\n",
    "# Installation\n",
    "\n",
    "At this point you will need Neo4j (or you can do this in YEd or Gephi). \n",
    "\n",
    "# Prior-steps\n",
    "Step 5 which provides records for the whole library\n",
    "Step 12 which creates a topic model. \n",
    "\n",
    "# How-to-use\n",
    "\n",
    "## Open Neo4j\n",
    "\n",
    "\n",
    "\n",
    "# How-to-use\n",
    "\n",
    "## Open Neo4j"
   ]
  },
  {
   "cell_type": "code",
   "execution_count": null,
   "metadata": {},
   "outputs": [],
   "source": [
    "#hide\n",
    "#Use either Neo4j Desktop, or create a Neo4j sandbox. \n",
    "#Change security settings for APOC. Where you do this is different between v 3.5 and 4\n",
    "apoc.import.file.enabled=true\n",
    "apoc.export.file.enabled=true\n",
    "#See https://neo4j.com/docs/labs/apoc/current/import/graphml"
   ]
  },
  {
   "cell_type": "markdown",
   "metadata": {},
   "source": [
    "# Start with Topic 0: Supply chain and security\n",
    "The prime words are\n",
    "0         security\n",
    "1         official\n",
    "2        purchaser\n",
    "3            chain\n",
    "4        suppliers\n",
    "5           supply\n",
    "6         supplier\n",
    "7    commissioning\n",
    "8     dutyholder’s\n",
    "9       resilience"
   ]
  },
  {
   "cell_type": "markdown",
   "metadata": {},
   "source": [
    "## Topic 1: Decommissioning & Safety\n",
    "The prime topic words\n",
    "0              waste\n",
    "1    decommissioning\n",
    "2        radioactive\n",
    "3           licensee\n",
    "4              alarp\n",
    "5                psa\n",
    "6             change\n",
    "7            project\n",
    "8         licensee’s\n",
    "\n",
    "## Sketch obvious relationships\n",
    "Each topic was sketched on paper in a way that made sense at the time, making obvious links between the prime topic words\n",
    "\n",
    "## Create two graphs in Neo4j from the sketches"
   ]
  },
  {
   "cell_type": "markdown",
   "metadata": {},
   "source": [
    "One way of entry is to use the [arrows tool](xx).\n",
    "Otherwise:\n",
    "\n",
    "1. add in nodes with CREATE (m {id: 'title'}) etc\n",
    "2. add in relations with MATCH (m {id:'Decommission'}),(n {id:'ALARP'}) CREATE (m)-[r:RELATED]->(n) etc.\n",
    "3. add in a generic label for all with : 'MATCH (n) SET n:topics RETURN n.name, labels(n) AS labels\n",
    "4. Select 'topics' label and adjust to show id in the visualisation\n",
    "5. After checking its all there.\n",
    "\n",
    "Stand back and look for insight. At this stage, we will assume it looks okay.\n",
    "\n",
    "CALL apoc.export.graphml.all(\"Topic-graph.graphml\", {})\n",
    "Take the graph out from the folder area, and copy it into interim results"
   ]
  }
 ],
 "metadata": {
  "kernelspec": {
   "display_name": "Python 3",
   "language": "python",
   "name": "python3"
  },
  "language_info": {
   "codemirror_mode": {
    "name": "ipython",
    "version": 3
   },
   "file_extension": ".py",
   "mimetype": "text/x-python",
   "name": "python",
   "nbconvert_exporter": "python",
   "pygments_lexer": "ipython3",
   "version": "3.8.1"
  }
 },
 "nbformat": 4,
 "nbformat_minor": 4
}
