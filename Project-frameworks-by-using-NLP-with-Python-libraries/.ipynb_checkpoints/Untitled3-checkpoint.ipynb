{
 "cells": [
  {
   "cell_type": "code",
   "execution_count": 7,
   "metadata": {},
   "outputs": [],
   "source": [
    "import pandas as pd"
   ]
  },
  {
   "cell_type": "code",
   "execution_count": 8,
   "metadata": {},
   "outputs": [],
   "source": [
    "import dabl"
   ]
  },
  {
   "cell_type": "code",
   "execution_count": 68,
   "metadata": {},
   "outputs": [],
   "source": [
    "Oil_schedule = pd.read_csv('/Users/Lawrence/P6_Schedule_Data.csv')"
   ]
  },
  {
   "cell_type": "code",
   "execution_count": 69,
   "metadata": {},
   "outputs": [],
   "source": [
    "Oil_schedule.set_index(\"ACTIVITY_STATUS\", inplace=True)"
   ]
  },
  {
   "cell_type": "code",
   "execution_count": 70,
   "metadata": {},
   "outputs": [],
   "source": [
    "Completed=Oil_schedule.loc['Completed']"
   ]
  },
  {
   "cell_type": "code",
   "execution_count": 71,
   "metadata": {},
   "outputs": [],
   "source": [
    "Completed.set_index(\"Id\", inplace=True)"
   ]
  },
  {
   "cell_type": "code",
   "execution_count": 72,
   "metadata": {},
   "outputs": [
    {
     "data": {
      "text/plain": [
       "(67578, 12)"
      ]
     },
     "execution_count": 72,
     "metadata": {},
     "output_type": "execute_result"
    }
   ],
   "source": [
    "Completed.shape"
   ]
  },
  {
   "cell_type": "code",
   "execution_count": 92,
   "metadata": {},
   "outputs": [
    {
     "data": {
      "text/html": [
       "<div>\n",
       "<style scoped>\n",
       "    .dataframe tbody tr th:only-of-type {\n",
       "        vertical-align: middle;\n",
       "    }\n",
       "\n",
       "    .dataframe tbody tr th {\n",
       "        vertical-align: top;\n",
       "    }\n",
       "\n",
       "    .dataframe thead th {\n",
       "        text-align: right;\n",
       "    }\n",
       "</style>\n",
       "<table border=\"1\" class=\"dataframe\">\n",
       "  <thead>\n",
       "    <tr style=\"text-align: right;\">\n",
       "      <th></th>\n",
       "      <th>ProjectNumber</th>\n",
       "      <th>ProductLineNumber</th>\n",
       "      <th>DepartmentNumber</th>\n",
       "      <th>ActivityTypeNumber</th>\n",
       "      <th>Code</th>\n",
       "      <th>ClassNumber</th>\n",
       "      <th>Baseline Start Date</th>\n",
       "      <th>Baseline Finish Date</th>\n",
       "      <th>Planned Duration</th>\n",
       "      <th>Forecast Start Date</th>\n",
       "      <th>Forecast Finish Date</th>\n",
       "      <th>Forecast Duration</th>\n",
       "    </tr>\n",
       "    <tr>\n",
       "      <th>Id</th>\n",
       "      <th></th>\n",
       "      <th></th>\n",
       "      <th></th>\n",
       "      <th></th>\n",
       "      <th></th>\n",
       "      <th></th>\n",
       "      <th></th>\n",
       "      <th></th>\n",
       "      <th></th>\n",
       "      <th></th>\n",
       "      <th></th>\n",
       "      <th></th>\n",
       "    </tr>\n",
       "  </thead>\n",
       "  <tbody>\n",
       "    <tr>\n",
       "      <th>1</th>\n",
       "      <td>1</td>\n",
       "      <td>2</td>\n",
       "      <td>5</td>\n",
       "      <td>27</td>\n",
       "      <td>2.5.1.1</td>\n",
       "      <td>1</td>\n",
       "      <td>16/01/2019 00:00</td>\n",
       "      <td>18/02/2019 00:00</td>\n",
       "      <td>33</td>\n",
       "      <td>16/01/2019 00:00</td>\n",
       "      <td>18/02/2019 00:00</td>\n",
       "      <td>33</td>\n",
       "    </tr>\n",
       "    <tr>\n",
       "      <th>2</th>\n",
       "      <td>1</td>\n",
       "      <td>2</td>\n",
       "      <td>3</td>\n",
       "      <td>51</td>\n",
       "      <td>3.6.400.2</td>\n",
       "      <td>1</td>\n",
       "      <td>20/12/2018 00:00</td>\n",
       "      <td>26/09/2019 00:00</td>\n",
       "      <td>280</td>\n",
       "      <td>20/12/2018 00:00</td>\n",
       "      <td>26/09/2019 00:00</td>\n",
       "      <td>280</td>\n",
       "    </tr>\n",
       "    <tr>\n",
       "      <th>3</th>\n",
       "      <td>1</td>\n",
       "      <td>2</td>\n",
       "      <td>5</td>\n",
       "      <td>27</td>\n",
       "      <td>2.5.1.1</td>\n",
       "      <td>1</td>\n",
       "      <td>07/01/2019 00:00</td>\n",
       "      <td>06/02/2019 00:00</td>\n",
       "      <td>30</td>\n",
       "      <td>07/01/2019 00:00</td>\n",
       "      <td>06/02/2019 00:00</td>\n",
       "      <td>30</td>\n",
       "    </tr>\n",
       "    <tr>\n",
       "      <th>4</th>\n",
       "      <td>1</td>\n",
       "      <td>2</td>\n",
       "      <td>5</td>\n",
       "      <td>27</td>\n",
       "      <td>2.5.1.1</td>\n",
       "      <td>1</td>\n",
       "      <td>08/01/2019 00:00</td>\n",
       "      <td>06/02/2019 00:00</td>\n",
       "      <td>29</td>\n",
       "      <td>08/01/2019 00:00</td>\n",
       "      <td>06/02/2019 00:00</td>\n",
       "      <td>29</td>\n",
       "    </tr>\n",
       "    <tr>\n",
       "      <th>5</th>\n",
       "      <td>1</td>\n",
       "      <td>2</td>\n",
       "      <td>3</td>\n",
       "      <td>51</td>\n",
       "      <td>3.4.6.3</td>\n",
       "      <td>1</td>\n",
       "      <td>07/01/2019 00:00</td>\n",
       "      <td>07/02/2019 00:00</td>\n",
       "      <td>31</td>\n",
       "      <td>07/01/2019 00:00</td>\n",
       "      <td>07/02/2019 00:00</td>\n",
       "      <td>31</td>\n",
       "    </tr>\n",
       "  </tbody>\n",
       "</table>\n",
       "</div>"
      ],
      "text/plain": [
       "    ProjectNumber  ProductLineNumber  DepartmentNumber  ActivityTypeNumber  \\\n",
       "Id                                                                           \n",
       "1               1                  2                 5                  27   \n",
       "2               1                  2                 3                  51   \n",
       "3               1                  2                 5                  27   \n",
       "4               1                  2                 5                  27   \n",
       "5               1                  2                 3                  51   \n",
       "\n",
       "         Code  ClassNumber Baseline Start Date Baseline Finish Date  \\\n",
       "Id                                                                    \n",
       "1     2.5.1.1            1    16/01/2019 00:00     18/02/2019 00:00   \n",
       "2   3.6.400.2            1    20/12/2018 00:00     26/09/2019 00:00   \n",
       "3     2.5.1.1            1    07/01/2019 00:00     06/02/2019 00:00   \n",
       "4     2.5.1.1            1    08/01/2019 00:00     06/02/2019 00:00   \n",
       "5     3.4.6.3            1    07/01/2019 00:00     07/02/2019 00:00   \n",
       "\n",
       "    Planned Duration Forecast Start Date Forecast Finish Date  \\\n",
       "Id                                                              \n",
       "1                 33    16/01/2019 00:00     18/02/2019 00:00   \n",
       "2                280    20/12/2018 00:00     26/09/2019 00:00   \n",
       "3                 30    07/01/2019 00:00     06/02/2019 00:00   \n",
       "4                 29    08/01/2019 00:00     06/02/2019 00:00   \n",
       "5                 31    07/01/2019 00:00     07/02/2019 00:00   \n",
       "\n",
       "    Forecast Duration  \n",
       "Id                     \n",
       "1                  33  \n",
       "2                 280  \n",
       "3                  30  \n",
       "4                  29  \n",
       "5                  31  "
      ]
     },
     "execution_count": 92,
     "metadata": {},
     "output_type": "execute_result"
    }
   ],
   "source": [
    "Completed.head()"
   ]
  },
  {
   "cell_type": "code",
   "execution_count": 74,
   "metadata": {},
   "outputs": [],
   "source": [
    "Completed_clean = dabl.clean(Completed, verbose=0)"
   ]
  },
  {
   "cell_type": "code",
   "execution_count": null,
   "metadata": {},
   "outputs": [],
   "source": [
    "print (Completed_clean)"
   ]
  },
  {
   "cell_type": "code",
   "execution_count": 76,
   "metadata": {},
   "outputs": [],
   "source": [
    "types = dabl.detect_types(Completed_clean)"
   ]
  },
  {
   "cell_type": "code",
   "execution_count": null,
   "metadata": {},
   "outputs": [],
   "source": [
    "print (types)"
   ]
  },
  {
   "cell_type": "code",
   "execution_count": null,
   "metadata": {},
   "outputs": [],
   "source": [
    "dabl.plot(Completed, 'Forecast Duration')\n",
    "#  will give you a quick insight in to what are the important features, their interactions, and how hard the problem might be. \n",
    "# It also allows a good assessment of whether there is any data leakage through spurious representations of the target in the data."
   ]
  },
  {
   "cell_type": "code",
   "execution_count": 93,
   "metadata": {},
   "outputs": [],
   "source": [
    "fc=dabl.SimpleRegressor(random_state=0)"
   ]
  },
  {
   "cell_type": "code",
   "execution_count": 94,
   "metadata": {},
   "outputs": [],
   "source": [
    "X=Completed_clean.drop(\"Forecast Duration\", axis=1)"
   ]
  },
  {
   "cell_type": "code",
   "execution_count": 95,
   "metadata": {},
   "outputs": [],
   "source": [
    "y=Completed_clean['Forecast Duration']"
   ]
  },
  {
   "cell_type": "code",
   "execution_count": 110,
   "metadata": {},
   "outputs": [
    {
     "name": "stdout",
     "output_type": "stream",
     "text": [
      "Running DummyRegressor()\n",
      "r2: -0.000 neg_mean_squared_error: -20110.011\n",
      "=== new best DummyRegressor() (using r2):\n",
      "r2: -0.000 neg_mean_squared_error: -20110.011\n",
      "\n",
      "Running DecisionTreeRegressor(max_depth=1)\n",
      "r2: 0.360 neg_mean_squared_error: -12865.039\n",
      "=== new best DecisionTreeRegressor(max_depth=1) (using r2):\n",
      "r2: 0.360 neg_mean_squared_error: -12865.039\n",
      "\n",
      "Running DecisionTreeRegressor(max_depth=5)\n",
      "r2: 0.690 neg_mean_squared_error: -6238.612\n",
      "=== new best DecisionTreeRegressor(max_depth=5) (using r2):\n",
      "r2: 0.690 neg_mean_squared_error: -6238.612\n",
      "\n",
      "Running Ridge(alpha=10)\n",
      "r2: 0.686 neg_mean_squared_error: -6311.918\n",
      "Running Lasso(alpha=10)\n",
      "r2: 0.632 neg_mean_squared_error: -7387.030\n",
      "\n",
      "Best model:\n",
      "DecisionTreeRegressor(max_depth=5)\n",
      "Best Scores:\n",
      "r2: 0.690 neg_mean_squared_error: -6238.612\n"
     ]
    }
   ],
   "source": [
    "Results=fc.fit(X,y)"
   ]
  },
  {
   "cell_type": "code",
   "execution_count": 111,
   "metadata": {},
   "outputs": [],
   "source": [
    "dabl.explain(Results, X_val=None, y_val=None, target_col=None, feature_names=None)"
   ]
  },
  {
   "cell_type": "code",
   "execution_count": null,
   "metadata": {},
   "outputs": [],
   "source": []
  }
 ],
 "metadata": {
  "kernelspec": {
   "display_name": "Python 3",
   "language": "python",
   "name": "python3"
  },
  "language_info": {
   "codemirror_mode": {
    "name": "ipython",
    "version": 3
   },
   "file_extension": ".py",
   "mimetype": "text/x-python",
   "name": "python",
   "nbconvert_exporter": "python",
   "pygments_lexer": "ipython3",
   "version": "3.7.4"
  }
 },
 "nbformat": 4,
 "nbformat_minor": 4
}
