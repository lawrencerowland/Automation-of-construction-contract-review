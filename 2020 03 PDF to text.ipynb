{
 "cells": [
  {
   "cell_type": "code",
   "execution_count": 13,
   "metadata": {},
   "outputs": [],
   "source": [
    "#after installing pdfminer.six\n",
    "#move samples folder from my Data folder\n",
    "#using pdfminer.high_level.extract_text(pdf_file, password='', page_numbers=None,\n",
    "# maxpages=0, caching=True, codec='utf-8', laparams=None"
   ]
  },
  {
   "cell_type": "code",
   "execution_count": 13,
   "metadata": {},
   "outputs": [],
   "source": [
    "#i may not need these. \n",
    "# This code fragment uses type annotations introduced in Python 3.6. You can remove type annotations for earlier Python 3 versions.\n",
    "from io import StringIO\n",
    "from typing import BinaryIO"
   ]
  },
  {
   "cell_type": "code",
   "execution_count": 13,
   "metadata": {},
   "outputs": [],
   "source": [
    "from pdfminer.high_level import extract_text"
   ]
  },
  {
   "cell_type": "code",
   "execution_count": 19,
   "metadata": {},
   "outputs": [],
   "source": [
    "text=extract_text('Documents/GitHub/Automation-of-construction-contract-review/ONR technical assessment guides/cns-tast-gd-4.1.pdf')"
   ]
  },
  {
   "cell_type": "code",
   "execution_count": 17,
   "metadata": {},
   "outputs": [
    {
     "name": "stdout",
     "output_type": "stream",
     "text": [
      "'Hello\\n\\nHello\\n\\nWorld\\n\\nWorld\\n\\n\\x0c'\n"
     ]
    }
   ],
   "source": [
    "print(repr(text))"
   ]
  },
  {
   "cell_type": "code",
   "execution_count": null,
   "metadata": {},
   "outputs": [],
   "source": [
    "print(text)"
   ]
  }
 ],
 "metadata": {
  "kernelspec": {
   "display_name": "larry_kernel",
   "language": "python",
   "name": "larry_kernel"
  },
  "language_info": {
   "codemirror_mode": {
    "name": "ipython",
    "version": 3
   },
   "file_extension": ".py",
   "mimetype": "text/x-python",
   "name": "python",
   "nbconvert_exporter": "python",
   "pygments_lexer": "ipython3",
   "version": "3.8.2"
  }
 },
 "nbformat": 4,
 "nbformat_minor": 4
}
