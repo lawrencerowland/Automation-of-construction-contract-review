{
 "cells": [
  {
   "cell_type": "code",
   "execution_count": null,
   "metadata": {
    "colab": {},
    "colab_type": "code",
    "id": "8-Qtoca7Jf3w"
   },
   "outputs": [],
   "source": [
    "#CITATION Bird, Steven, Edward Loper and Ewan Klein (2009), Natural Language Processing with Python. O’Reilly Media Inc.\n",
    "# from chapter 3 NLTK https://www.nltk.org/book/ch03.html\n",
    "import nltk"
   ]
  },
  {
   "cell_type": "code",
   "execution_count": null,
   "metadata": {
    "colab": {},
    "colab_type": "code",
    "id": "8-Qtoca7Jf3w"
   },
   "outputs": [],
   "source": [
    "#may not need this again\n",
    "nltk.download()"
   ]
  },
  {
   "cell_type": "code",
   "execution_count": null,
   "metadata": {
    "colab": {},
    "colab_type": "code",
    "id": "RC4eAdQuje3W"
   },
   "outputs": [],
   "source": [
    "from nltk.book import *"
   ]
  },
  {
   "cell_type": "code",
   "execution_count": null,
   "metadata": {},
   "outputs": [],
   "source": [
    "marvin=open(\"2019_08_Marvin1_without_labels_or_heading_orwidgets.txt\")\n",
    "# ANY PROBLEMS WITH OPEN\n",
    "# newline conventions which are different for different operating systems. \n",
    "#The built-in open() function has a second parameter for controlling how the file is opened\n",
    "#'r' means to open the file for reading (the default)\n",
    "#'U' stands for \"Universal\", which lets us ignore the different conventions used for marking newlines.\n",
    "# though apparently U is deprecated"
   ]
  },
  {
   "cell_type": "code",
   "execution_count": null,
   "metadata": {},
   "outputs": [],
   "source": [
    "raw=marvin.read()\n",
    "print (raw[:1200])\n",
    "# ANY PROBLEMS WITH READ\n",
    "#read() method creates a string with the contents of the entire file\n",
    "# the '\\n' characters are newlines (pressing Enter)\n",
    "#looks like I have to run read straight after open: sometimes it doesnt work otherwise"
   ]
  },
  {
   "cell_type": "code",
   "execution_count": null,
   "metadata": {},
   "outputs": [],
   "source": [
    "# Or can also read a file one line at a time using a for loop:\n",
    "f = open(\"2019_08_Marvin1_without_labels_or_heading_orwidgets.txt\", 'r')\n",
    "for line in f:\n",
    "    print(line.strip())\n",
    "#Here we use the strip() method to remove the newline character at the end of the input line"
   ]
  },
  {
   "cell_type": "code",
   "execution_count": null,
   "metadata": {},
   "outputs": [],
   "source": [
    "tokens = nltk.word_tokenize(raw)\n",
    "print (tokens[:10])"
   ]
  },
  {
   "cell_type": "code",
   "execution_count": null,
   "metadata": {},
   "outputs": [],
   "source": [
    "tagged = nltk.pos_tag(tokens)\n",
    "print (tagged[0:10])"
   ]
  },
  {
   "cell_type": "code",
   "execution_count": null,
   "metadata": {},
   "outputs": [],
   "source": [
    "entities = nltk.chunk.ne_chunk(tagged)\n",
    "print (entities)"
   ]
  },
  {
   "cell_type": "code",
   "execution_count": null,
   "metadata": {},
   "outputs": [],
   "source": [
    "#demo of parsing, but not for this file as not parsed\n",
    ">>> from nltk.corpus import treebank\n",
    ">>> t = treebank.parsed_sents('wsj_0001.mrg')[0]\n",
    ">>> t.draw()"
   ]
  },
  {
   "cell_type": "code",
   "execution_count": null,
   "metadata": {},
   "outputs": [],
   "source": [
    "text = nltk.Text(tokens)\n",
    "print (text)"
   ]
  },
  {
   "cell_type": "code",
   "execution_count": null,
   "metadata": {},
   "outputs": [],
   "source": [
    "sents = nltk.sent_tokenize(raw)\n",
    "print (sents[0:2])"
   ]
  },
  {
   "cell_type": "code",
   "execution_count": null,
   "metadata": {},
   "outputs": [],
   "source": [
    "text.concordance(\"old\", width=300)"
   ]
  },
  {
   "cell_type": "code",
   "execution_count": null,
   "metadata": {},
   "outputs": [],
   "source": [
    "text.common_contexts([\"man\",\"person\"])"
   ]
  },
  {
   "cell_type": "code",
   "execution_count": null,
   "metadata": {},
   "outputs": [],
   "source": [
    " text.dispersion_plot([\"citizens\", \"democracy\", \"freedom\", \"duties\", \"America\"])"
   ]
  },
  {
   "cell_type": "code",
   "execution_count": null,
   "metadata": {},
   "outputs": [],
   "source": [
    "#generate(length=100, text_seed=None, random_seed=42)\n",
    "text.generate()"
   ]
  },
  {
   "cell_type": "code",
   "execution_count": 68,
   "metadata": {},
   "outputs": [],
   "source": [
    "import os"
   ]
  },
  {
   "cell_type": "code",
   "execution_count": 70,
   "metadata": {},
   "outputs": [],
   "source": [
    "#creating corpus\n",
    "#Whatever the location, set this to be the value of corpus_root [1].\n",
    "#The second parameter of the PlaintextCorpusReader initializer [2] can be a list of fileids\n",
    "#...like ['a.txt', 'test/b.txt'], or a pattern that matches all fileids, like '[abc]/.*\\.txt' \n",
    "#(see 3.4 for information about regular expressions).\n",
    "from nltk.corpus import PlaintextCorpusReader"
   ]
  },
  {
   "cell_type": "code",
   "execution_count": 71,
   "metadata": {},
   "outputs": [],
   "source": [
    "corpus_root = 'newcorpus/' "
   ]
  },
  {
   "cell_type": "code",
   "execution_count": 77,
   "metadata": {},
   "outputs": [],
   "source": [
    "Mycorpus = PlaintextCorpusReader(corpus_root, '.*') "
   ]
  },
  {
   "cell_type": "code",
   "execution_count": 91,
   "metadata": {},
   "outputs": [
    {
     "data": {
      "text/plain": [
       "['.DS_Store',\n",
       " '2019_08_Marvin1_without_labels_or_heading_orwidgets.txt',\n",
       " '2020 02 Corpus of 16 ONR exported from Orange ImportDocs.csv']"
      ]
     },
     "execution_count": 91,
     "metadata": {},
     "output_type": "execute_result"
    }
   ],
   "source": [
    "Mycorpus.fileids()"
   ]
  },
  {
   "cell_type": "code",
   "execution_count": 92,
   "metadata": {},
   "outputs": [
    {
     "name": "stdout",
     "output_type": "stream",
     "text": [
      "[',', 'path', ',', 'content', 'string', ',', 'string', ',', 'string', 'meta', 'title', '=', 'True', ',', 'meta', ',', 'meta', 'ns', '-']\n"
     ]
    }
   ],
   "source": [
    "#the full text of the corpus as words\n",
    "text=Mycorpus.words('2020 02 Corpus of 16 ONR exported from Orange ImportDocs.csv')\n",
    "print (text[1:20])"
   ]
  },
  {
   "cell_type": "code",
   "execution_count": null,
   "metadata": {},
   "outputs": [],
   "source": [
    "#the full text of the corpus as sentences\n",
    "text1 = Mycorpus.sents()\n",
    "print (sents[1250:2000])"
   ]
  },
  {
   "cell_type": "code",
   "execution_count": null,
   "metadata": {},
   "outputs": [],
   "source": [
    "#testing to see if I can do normal corpus functions to my corpus\n",
    "#these one are okay\n",
    "tagged = nltk.pos_tag(text)\n",
    "print (tagged [1:10])\n",
    "entities = nltk.chunk.ne_chunk(tagged)\n",
    "print (entities [1:10])"
   ]
  },
  {
   "cell_type": "code",
   "execution_count": null,
   "metadata": {},
   "outputs": [],
   "source": [
    "# it doesnt like this though\n",
    "text.concordance(\"old\", width=300)"
   ]
  },
  {
   "cell_type": "code",
   "execution_count": null,
   "metadata": {},
   "outputs": [],
   "source": [
    "#there is also a raw command but cant get it to work\n",
    "#from lists to strings, which may be relevant for this ?\n",
    ">>> silly = ['We', 'called', 'him', 'Tortoise', 'because', 'he', 'taught', 'us', '.']\n",
    ">>> ' '.join(silly)\n",
    "'We called him Tortoise because he taught us .'\n",
    ">>> ';'.join(silly)\n",
    "'We;called;him;Tortoise;because;he;taught;us;.'\n",
    ">>> ''.join(silly)\n",
    "'WecalledhimTortoisebecausehetaughtus.'"
   ]
  },
  {
   "cell_type": "code",
   "execution_count": null,
   "metadata": {},
   "outputs": [],
   "source": []
  }
 ],
 "metadata": {
  "colab": {
   "collapsed_sections": [],
   "name": "201909usingNTLK.ipynb",
   "provenance": [],
   "version": "0.3.2"
  },
  "kernelspec": {
   "display_name": "Python 3",
   "language": "python",
   "name": "python3"
  },
  "language_info": {
   "codemirror_mode": {
    "name": "ipython",
    "version": 3
   },
   "file_extension": ".py",
   "mimetype": "text/x-python",
   "name": "python",
   "nbconvert_exporter": "python",
   "pygments_lexer": "ipython3",
   "version": "3.7.4"
  }
 },
 "nbformat": 4,
 "nbformat_minor": 4
}
