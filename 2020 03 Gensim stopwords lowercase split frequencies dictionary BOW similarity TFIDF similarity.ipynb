{
 "cells": [
  {
   "cell_type": "code",
   "execution_count": 1,
   "metadata": {},
   "outputs": [
    {
     "name": "stdout",
     "output_type": "stream",
     "text": [
      "HAROLD MARCH, the rising reviewer and social critic, was walking vigorously across a great tableland of moors and commons, the horizon of which was fringed with the far-off woods of the famous estate of Torwood Park. \n",
      " A special program at the planetarium on the campus of nearby Butler University w\n"
     ]
    }
   ],
   "source": [
    "#add third document from file\n",
    "file_name = '2019_08_Marvin1_without_labels_or_heading_orwidgets.txt'\n",
    "dataset = open(file_name).read()\n",
    "print (dataset[1:300])"
   ]
  },
  {
   "cell_type": "code",
   "execution_count": 2,
   "metadata": {
    "colab": {
     "base_uri": "https://localhost:8080/",
     "height": 54
    },
    "colab_type": "code",
    "executionInfo": {
     "elapsed": 584,
     "status": "ok",
     "timestamp": 1568300553317,
     "user": {
      "displayName": "L Rowla",
      "photoUrl": "",
      "userId": "15048649825657049484"
     },
     "user_tz": -60
    },
    "id": "L7vGwERq-1CN",
    "outputId": "00c7b043-d830-4f91-cce3-e6dfb4021a2d"
   },
   "outputs": [
    {
     "name": "stdout",
     "output_type": "stream",
     "text": [
      "['HAROLD MARCH, the rising reviewer and social critic, was walking vigorously across a great table', 'and of moors and commons, the horizon of which was fringed with the far-off woods of the famous estate of Torwood Park. \\n A special program at the planetarium on the campus of nearby Butler Universit']\n"
     ]
    }
   ],
   "source": [
    "#turning this into a corpus for now by indexing, in future would need to break by sentence or entry\n",
    "raw_corpus=[dataset[1:97],dataset[98:297],]\n",
    "print (raw_corpus)"
   ]
  },
  {
   "cell_type": "code",
   "execution_count": 3,
   "metadata": {
    "colab": {
     "base_uri": "https://localhost:8080/",
     "height": 34
    },
    "colab_type": "code",
    "executionInfo": {
     "elapsed": 646,
     "status": "ok",
     "timestamp": 1568300562932,
     "user": {
      "displayName": "L Rowla",
      "photoUrl": "",
      "userId": "15048649825657049484"
     },
     "user_tz": -60
    },
    "id": "c6HymNjT_w0B",
    "outputId": "fe713b87-8e60-4bf2-ba8d-1c9285628c5c"
   },
   "outputs": [
    {
     "data": {
      "text/plain": [
       "[['was'], ['was']]"
      ]
     },
     "execution_count": 3,
     "metadata": {},
     "output_type": "execute_result"
    }
   ],
   "source": [
    "# Create a set of frequent words\n",
    "stoplist = set('for a of the and to in'.split(' '))\n",
    "# Lowercase each document, split it by white space and filter out stopwords\n",
    "texts = [[word for word in document.lower().split() if word not in stoplist]\n",
    "         for document in raw_corpus]\n",
    "\n",
    "# Count word frequencies\n",
    "from collections import defaultdict\n",
    "frequency = defaultdict(int)\n",
    "for text in texts:\n",
    "    for token in text:\n",
    "        frequency[token] += 1\n",
    "\n",
    "# Only keep words that appear more than once\n",
    "processed_corpus = [[token for token in text if frequency[token] > 1] for text in texts]\n",
    "processed_corpus"
   ]
  },
  {
   "cell_type": "code",
   "execution_count": 5,
   "metadata": {
    "colab": {
     "base_uri": "https://localhost:8080/",
     "height": 34
    },
    "colab_type": "code",
    "executionInfo": {
     "elapsed": 1296,
     "status": "ok",
     "timestamp": 1568300596957,
     "user": {
      "displayName": "L Rowla",
      "photoUrl": "",
      "userId": "15048649825657049484"
     },
     "user_tz": -60
    },
    "id": "miAsUwz__-76",
    "outputId": "2e07f387-00b2-4ec2-ee47-f2550748caaf"
   },
   "outputs": [
    {
     "name": "stdout",
     "output_type": "stream",
     "text": [
      "Dictionary(1 unique tokens: ['was'])\n"
     ]
    }
   ],
   "source": [
    "from gensim import corpora\n",
    "\n",
    "dictionary = corpora.Dictionary(processed_corpus)\n",
    "print(dictionary)"
   ]
  },
  {
   "cell_type": "code",
   "execution_count": 6,
   "metadata": {
    "colab": {
     "base_uri": "https://localhost:8080/",
     "height": 34
    },
    "colab_type": "code",
    "executionInfo": {
     "elapsed": 624,
     "status": "ok",
     "timestamp": 1568300613925,
     "user": {
      "displayName": "L Rowla",
      "photoUrl": "",
      "userId": "15048649825657049484"
     },
     "user_tz": -60
    },
    "id": "DW8KwtZRADTq",
    "outputId": "6fe6a25e-1b01-40e1-8394-101a5c24d24b"
   },
   "outputs": [
    {
     "name": "stdout",
     "output_type": "stream",
     "text": [
      "{'was': 0}\n"
     ]
    }
   ],
   "source": [
    "print(dictionary.token2id)"
   ]
  },
  {
   "cell_type": "code",
   "execution_count": 7,
   "metadata": {
    "colab": {
     "base_uri": "https://localhost:8080/",
     "height": 34
    },
    "colab_type": "code",
    "executionInfo": {
     "elapsed": 586,
     "status": "ok",
     "timestamp": 1568300643742,
     "user": {
      "displayName": "L Rowla",
      "photoUrl": "",
      "userId": "15048649825657049484"
     },
     "user_tz": -60
    },
    "id": "xPkOJ9aoAJhe",
    "outputId": "9042240d-6de3-45ce-baf8-1f45c7adbd01"
   },
   "outputs": [
    {
     "data": {
      "text/plain": [
       "[(0, 3)]"
      ]
     },
     "execution_count": 7,
     "metadata": {},
     "output_type": "execute_result"
    }
   ],
   "source": [
    "new_doc = \"Human computer interaction was was was\"\n",
    "new_vec = dictionary.doc2bow(new_doc.lower().split())\n",
    "new_vec"
   ]
  },
  {
   "cell_type": "code",
   "execution_count": 8,
   "metadata": {
    "colab": {
     "base_uri": "https://localhost:8080/",
     "height": 34
    },
    "colab_type": "code",
    "executionInfo": {
     "elapsed": 575,
     "status": "ok",
     "timestamp": 1568300659995,
     "user": {
      "displayName": "L Rowla",
      "photoUrl": "",
      "userId": "15048649825657049484"
     },
     "user_tz": -60
    },
    "id": "m5DkceTuAOjx",
    "outputId": "9f20cda9-0a89-4f8d-9c21-975ef589e60d"
   },
   "outputs": [
    {
     "data": {
      "text/plain": [
       "[[(0, 1)], [(0, 1)]]"
      ]
     },
     "execution_count": 8,
     "metadata": {},
     "output_type": "execute_result"
    }
   ],
   "source": [
    "bow_corpus = [dictionary.doc2bow(text) for text in processed_corpus]\n",
    "bow_corpus"
   ]
  },
  {
   "cell_type": "code",
   "execution_count": 9,
   "metadata": {
    "colab": {
     "base_uri": "https://localhost:8080/",
     "height": 34
    },
    "colab_type": "code",
    "executionInfo": {
     "elapsed": 606,
     "status": "ok",
     "timestamp": 1568300747605,
     "user": {
      "displayName": "L Rowla",
      "photoUrl": "",
      "userId": "15048649825657049484"
     },
     "user_tz": -60
    },
    "id": "e7o2gQShAT7o",
    "outputId": "95270489-1361-4c2d-8ae3-69c598c74c7e"
   },
   "outputs": [
    {
     "data": {
      "text/plain": [
       "[]"
      ]
     },
     "execution_count": 9,
     "metadata": {},
     "output_type": "execute_result"
    }
   ],
   "source": [
    "from gensim import models\n",
    "# train the model\n",
    "tfidf = models.TfidfModel(bow_corpus)\n",
    "# transform the \"system minors\" string\n",
    "tfidf[dictionary.doc2bow(\"system minors was was\".lower().split())]"
   ]
  },
  {
   "cell_type": "code",
   "execution_count": null,
   "metadata": {},
   "outputs": [],
   "source": []
  }
 ],
 "metadata": {
  "colab": {
   "collapsed_sections": [],
   "name": "2019 09 Gensim quixk start to Marvin.ipynb",
   "provenance": [],
   "version": "0.3.2"
  },
  "kernelspec": {
   "display_name": "Python 3",
   "language": "python",
   "name": "python3"
  },
  "language_info": {
   "codemirror_mode": {
    "name": "ipython",
    "version": 3
   },
   "file_extension": ".py",
   "mimetype": "text/x-python",
   "name": "python",
   "nbconvert_exporter": "python",
   "pygments_lexer": "ipython3",
   "version": "3.7.4"
  }
 },
 "nbformat": 4,
 "nbformat_minor": 4
}
