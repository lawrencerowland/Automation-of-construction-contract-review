{
 "cells": [
  {
   "cell_type": "code",
   "execution_count": 1,
   "metadata": {
    "colab": {},
    "colab_type": "code",
    "id": "ZBSHMG4bFcZb"
   },
   "outputs": [],
   "source": [
    "import requests\n",
    "\n",
    "text0 = requests.get('https://archive.org/stream/ProjectManagementForTheOilAndGasIndustry/ProjectManagementForTheOilAndGasIndustry_djvu.txt').text\n"
   ]
  },
  {
   "cell_type": "code",
   "execution_count": null,
   "metadata": {
    "colab": {
     "base_uri": "https://localhost:8080/",
     "height": 115
    },
    "colab_type": "code",
    "executionInfo": {
     "elapsed": 583,
     "status": "ok",
     "timestamp": 1567446000438,
     "user": {
      "displayName": "L Rowla",
      "photoUrl": "",
      "userId": "15048649825657049484"
     },
     "user_tz": -60
    },
    "id": "qJ7GKXXQIyGP",
    "outputId": "9afd2381-0dab-4d6a-cc27-585a86f70129"
   },
   "outputs": [],
   "source": [
    "print (text0[100000:110000])"
   ]
  },
  {
   "cell_type": "code",
   "execution_count": 3,
   "metadata": {
    "colab": {},
    "colab_type": "code",
    "id": "RKpa4xjsSpeR"
   },
   "outputs": [],
   "source": [
    "text1=text0[100000:110000]\n"
   ]
  },
  {
   "cell_type": "code",
   "execution_count": 4,
   "metadata": {
    "colab": {},
    "colab_type": "code",
    "id": "2gWQ7tMqaMBI"
   },
   "outputs": [],
   "source": [
    "from gensim.parsing.preprocessing import strip_multiple_whitespaces\n",
    "text2=strip_multiple_whitespaces(text1)"
   ]
  },
  {
   "cell_type": "code",
   "execution_count": 5,
   "metadata": {
    "colab": {},
    "colab_type": "code",
    "id": "Y6Q8NFsfEfmg"
   },
   "outputs": [],
   "source": [
    "from gensim.summarization.summarizer import summarize"
   ]
  },
  {
   "cell_type": "code",
   "execution_count": 6,
   "metadata": {
    "colab": {},
    "colab_type": "code",
    "id": "l5uLd26OFob-"
   },
   "outputs": [],
   "source": [
    "summary=(summarize(text2, ratio=0.1))"
   ]
  },
  {
   "cell_type": "code",
   "execution_count": 7,
   "metadata": {
    "colab": {
     "base_uri": "https://localhost:8080/",
     "height": 557
    },
    "colab_type": "code",
    "executionInfo": {
     "elapsed": 716,
     "status": "ok",
     "timestamp": 1567446986018,
     "user": {
      "displayName": "L Rowla",
      "photoUrl": "",
      "userId": "15048649825657049484"
     },
     "user_tz": -60
    },
    "id": "bnkcmkx-ojYR",
    "outputId": "f35535c8-ff39-42c4-89a3-f7f0a4b84a1f"
   },
   "outputs": [
    {
     "name": "stdout",
     "output_type": "stream",
     "text": [
      "The educational infrastructure should be viewed and managed as a part of the overall world system of the oil and gas industry.\n",
      "System of Systems Framework This book advocates using an SoS framework so that all factors of impor- tance can be included in the overall design and execution of projects in the oil and gas industry.\n",
      "Some of the elements of an SoS include • Self-regulation • Self-adjustment • Self-resolution • Environmental sensitivity (i.e., interaction with prevailing operating conditions) • Consolidation of capabilities • Coordinated input-process-output relationships • Structural interfaces between the systems within the SoS • Composite equilibrium of the systems making up the SoS • Value trading and transfers between the systems in the overall SoS World Systems Framework for Oil and Gas Industry 13 SoS facilitates an appreciation of what each system brings to the table in the overall assessment of the value created by the SoS.\n",
      "An SoS approach transforms the individual capabilities of the system entities into a collective capability to meet specific requirements as summarized below: • Systems that are individually developed, managed, and operated function as autonomous components of one or more SoS.\n",
      "Thus, a systems project management can be defined as follows: Systems project management for the oil and gas industry is the process of using a systems approach to manage, allocate, and time resources to achieve enterprise-wide goals in an efficient and expeditious manner, considering all global ramifications.\n",
      "A coordinated application of systems engineering and project manage- ment can help increase the bottom line of the oil and gas industry.\n"
     ]
    }
   ],
   "source": [
    "print(summary)"
   ]
  },
  {
   "cell_type": "code",
   "execution_count": 8,
   "metadata": {
    "colab": {},
    "colab_type": "code",
    "id": "q1Moxu0fF_ao"
   },
   "outputs": [],
   "source": [
    "from gensim.summarization import keywords\n"
   ]
  },
  {
   "cell_type": "code",
   "execution_count": 9,
   "metadata": {
    "colab": {
     "base_uri": "https://localhost:8080/",
     "height": 1000
    },
    "colab_type": "code",
    "executionInfo": {
     "elapsed": 6712,
     "status": "ok",
     "timestamp": 1567447011072,
     "user": {
      "displayName": "L Rowla",
      "photoUrl": "",
      "userId": "15048649825657049484"
     },
     "user_tz": -60
    },
    "id": "KjEUdy0zNsfX",
    "outputId": "7826b7df-a22a-44e7-82d6-0f5aa82f9c89"
   },
   "outputs": [
    {
     "name": "stdout",
     "output_type": "stream",
     "text": [
      "\n",
      "Keywords:\n",
      "project\n",
      "projects\n"
     ]
    }
   ],
   "source": [
    "print ('\\nKeywords:')\n",
    "print (keywords(text2, ratio=0.007))"
   ]
  },
  {
   "cell_type": "markdown",
   "metadata": {
    "colab_type": "text",
    "id": "LQ-WKL4oI52R"
   },
   "source": [
    "# New Section"
   ]
  },
  {
   "cell_type": "markdown",
   "metadata": {
    "colab_type": "text",
    "id": "2934s2aBI6Uh"
   },
   "source": [
    "# New Section"
   ]
  },
  {
   "cell_type": "markdown",
   "metadata": {
    "colab_type": "text",
    "id": "lcqv1CFb9mVu"
   },
   "source": []
  }
 ],
 "metadata": {
  "colab": {
   "collapsed_sections": [],
   "name": "Gensim_summarisation.ipynb",
   "provenance": [],
   "version": "0.3.2"
  },
  "kernelspec": {
   "display_name": "Python 3",
   "language": "python",
   "name": "python3"
  },
  "language_info": {
   "codemirror_mode": {
    "name": "ipython",
    "version": 3
   },
   "file_extension": ".py",
   "mimetype": "text/x-python",
   "name": "python",
   "nbconvert_exporter": "python",
   "pygments_lexer": "ipython3",
   "version": "3.7.4"
  }
 },
 "nbformat": 4,
 "nbformat_minor": 4
}
