{
 "cells": [
  {
   "cell_type": "code",
   "execution_count": 4,
   "metadata": {
    "colab": {},
    "colab_type": "code",
    "id": "uvVFEew5Ulc6"
   },
   "outputs": [
    {
     "data": {
      "text/plain": [
       "<Response [200]>"
      ]
     },
     "execution_count": 4,
     "metadata": {},
     "output_type": "execute_result"
    }
   ],
   "source": [
    "import requests\n",
    "page = requests.get(\"https://www.ice.org.uk/knowledge-and-resources/professional-practice/nec-contracts-and-ice-conditions-of-contract\")\n",
    "page"
   ]
  },
  {
   "cell_type": "code",
   "execution_count": 5,
   "metadata": {
    "colab": {},
    "colab_type": "code",
    "id": "CoCZ5vnhU1LU"
   },
   "outputs": [
    {
     "data": {
      "text/plain": [
       "b'!DOCTYPE html>\\r\\n<!--[if lt IE 7 ]> <html class=\"ie6\"  > <![endif]-->\\r\\n<!--[if IE 7 ]>    <html class=\"ie7\"  > <![endif]-->\\r\\n<!--[if IE 8 ]>    <html class=\"ie8\"  > <![endif]-->\\r\\n<!--[if IE 9 ]>    <html class=\"ie9\"  > <![endif]-->\\r\\n<!--[if (gt IE 9)|!(IE)]><!--> <html lang=\"en\"  > <!--<![endif]-->\\r'"
      ]
     },
     "execution_count": 5,
     "metadata": {},
     "output_type": "execute_result"
    }
   ],
   "source": [
    "page.content[1:300]"
   ]
  },
  {
   "cell_type": "code",
   "execution_count": 6,
   "metadata": {
    "colab": {},
    "colab_type": "code",
    "id": "SXA_KjNTU_74"
   },
   "outputs": [],
   "source": [
    "from bs4 import BeautifulSoup\n",
    "soup = BeautifulSoup(page.content, 'html.parser')"
   ]
  },
  {
   "cell_type": "code",
   "execution_count": 7,
   "metadata": {
    "colab": {},
    "colab_type": "code",
    "id": "rOR-H-44XqEo"
   },
   "outputs": [
    {
     "data": {
      "text/plain": [
       "'Specialist training courses let you learn new skills and add to your personal development.'"
      ]
     },
     "execution_count": 7,
     "metadata": {},
     "output_type": "execute_result"
    }
   ],
   "source": [
    "# need to find which tag works well with this approach. p does not work well with this NEC text \n",
    "soup.find_all('p')[5].get_text()\n"
   ]
  },
  {
   "cell_type": "code",
   "execution_count": null,
   "metadata": {
    "colab": {},
    "colab_type": "code",
    "id": "swJk0HlCblLx"
   },
   "outputs": [],
   "source": [
    "print (soup.get_text())"
   ]
  },
  {
   "cell_type": "code",
   "execution_count": null,
   "metadata": {
    "colab": {},
    "colab_type": "code",
    "id": "x7LNob8DbwVE"
   },
   "outputs": [],
   "source": [
    "#looks different done this way\n",
    "soup.get_text()"
   ]
  },
  {
   "cell_type": "code",
   "execution_count": null,
   "metadata": {
    "colab": {},
    "colab_type": "code",
    "id": "uvLcuURkaTs4"
   },
   "outputs": [],
   "source": [
    "print(soup.get_text()[200:500])"
   ]
  },
  {
   "cell_type": "code",
   "execution_count": null,
   "metadata": {},
   "outputs": [],
   "source": [
    "#to get more specific\n",
    "print(soup.prettify()) # this shows the structure"
   ]
  },
  {
   "cell_type": "code",
   "execution_count": null,
   "metadata": {},
   "outputs": [],
   "source": [
    "soup.find_all('p') #f we want to extract a single tag\n",
    "#we can instead use the find_all method\n",
    "#which will find all the instances of a tag on a page."
   ]
  },
  {
   "cell_type": "code",
   "execution_count": null,
   "metadata": {},
   "outputs": [],
   "source": []
  }
 ],
 "metadata": {
  "colab": {
   "collapsed_sections": [],
   "name": "2019_09_beautifulsoupgettext.ipynb",
   "provenance": [],
   "version": "0.3.2"
  },
  "kernelspec": {
   "display_name": "larry_kernel",
   "language": "python",
   "name": "larry_kernel"
  },
  "language_info": {
   "codemirror_mode": {
    "name": "ipython",
    "version": 3
   },
   "file_extension": ".py",
   "mimetype": "text/x-python",
   "name": "python",
   "nbconvert_exporter": "python",
   "pygments_lexer": "ipython3",
   "version": "3.8.2"
  }
 },
 "nbformat": 4,
 "nbformat_minor": 4
}
